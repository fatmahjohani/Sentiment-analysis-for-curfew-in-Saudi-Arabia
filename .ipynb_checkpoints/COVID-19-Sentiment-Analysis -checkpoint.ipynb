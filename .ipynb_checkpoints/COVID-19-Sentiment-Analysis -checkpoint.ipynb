{
 "cells": [
  {
   "cell_type": "code",
   "execution_count": null,
   "metadata": {},
   "outputs": [],
   "source": [
    "# ! pip install --upgrade gensim\n"
   ]
  },
  {
   "cell_type": "code",
   "execution_count": null,
   "metadata": {},
   "outputs": [],
   "source": [
    "# !pip install keras --upgrade\n"
   ]
  },
  {
   "cell_type": "code",
   "execution_count": null,
   "metadata": {},
   "outputs": [],
   "source": [
    "pip install wordcloud\n"
   ]
  },
  {
   "cell_type": "code",
   "execution_count": null,
   "metadata": {},
   "outputs": [],
   "source": [
    "pip install -U textblob\n"
   ]
  },
  {
   "cell_type": "code",
   "execution_count": null,
   "metadata": {},
   "outputs": [],
   "source": []
  },
  {
   "cell_type": "code",
   "execution_count": 223,
   "metadata": {},
   "outputs": [],
   "source": [
    "# from scipy.misc import imread\n",
    "from wordcloud import WordCloud, STOPWORDS, ImageColorGenerator\n",
    "import matplotlib as mpl\n",
    "import csv\n",
    "import matplotlib.pyplot as plt\n",
    "\n",
    "import operator\n",
    "from textblob import TextBlob\n",
    "from textblob import Word\n",
    "from textblob.sentiments import NaiveBayesAnalyzer"
   ]
  },
  {
   "cell_type": "code",
   "execution_count": null,
   "metadata": {},
   "outputs": [],
   "source": []
  },
  {
   "cell_type": "code",
   "execution_count": 224,
   "metadata": {},
   "outputs": [],
   "source": [
    "# Keras\n",
    "from keras.preprocessing.text import Tokenizer\n",
    "from keras.preprocessing.sequence import pad_sequences\n",
    "from keras.models import Sequential\n",
    "from keras.layers import Activation, Dense, Dropout, Embedding, Flatten, Conv1D, MaxPooling1D, LSTM\n",
    "from keras import utils\n",
    "from keras.callbacks import ReduceLROnPlateau, EarlyStopping"
   ]
  },
  {
   "cell_type": "code",
   "execution_count": 225,
   "metadata": {},
   "outputs": [],
   "source": [
    "import pyarabic.araby as araby\n",
    "import pyarabic.number as number"
   ]
  },
  {
   "cell_type": "code",
   "execution_count": 226,
   "metadata": {},
   "outputs": [],
   "source": [
    "import numpy as np\n",
    "import matplotlib.pyplot as plt\n",
    "import seaborn as sns\n",
    "import datetime\n",
    "np.set_printoptions(precision=4)\n",
    "sns.set(font_scale=1.5)\n",
    "plt.style.use('fivethirtyeight')\n",
    "import statsmodels.api as sm  \n",
    "\n",
    "%matplotlib inline\n",
    "%config InlineBackend.figure_format = 'retina'"
   ]
  },
  {
   "cell_type": "code",
   "execution_count": 227,
   "metadata": {},
   "outputs": [],
   "source": [
    "import pandas as pd\n",
    "import json\n",
    "import glob\n"
   ]
  },
  {
   "cell_type": "code",
   "execution_count": 228,
   "metadata": {},
   "outputs": [],
   "source": [
    "# nltk\n",
    "import nltk\n",
    "from nltk.corpus import stopwords\n",
    "from  nltk.stem import SnowballStemmer\n",
    "\n",
    "# Word2vec\n",
    "import gensim\n",
    "\n",
    "# Utility\n",
    "import re\n",
    "import os\n",
    "from collections import Counter\n",
    "import logging\n",
    "import time\n",
    "import pickle\n",
    "import itertools"
   ]
  },
  {
   "cell_type": "code",
   "execution_count": null,
   "metadata": {},
   "outputs": [],
   "source": [
    "nltk.download('stopwords')\n"
   ]
  },
  {
   "cell_type": "markdown",
   "metadata": {},
   "source": [
    "## reading datasets"
   ]
  },
  {
   "cell_type": "markdown",
   "metadata": {},
   "source": [
    "## Feb 2020"
   ]
  },
  {
   "cell_type": "code",
   "execution_count": null,
   "metadata": {},
   "outputs": [],
   "source": [
    "# February\n",
    "df_feb = pd.read_csv('months_datasets/df_feb.csv')"
   ]
  },
  {
   "cell_type": "code",
   "execution_count": null,
   "metadata": {},
   "outputs": [],
   "source": [
    "df_feb.shape"
   ]
  },
  {
   "cell_type": "code",
   "execution_count": null,
   "metadata": {},
   "outputs": [],
   "source": [
    "df_feb"
   ]
  },
  {
   "cell_type": "code",
   "execution_count": null,
   "metadata": {},
   "outputs": [],
   "source": [
    "df_feb['created_at'].min()"
   ]
  },
  {
   "cell_type": "code",
   "execution_count": null,
   "metadata": {},
   "outputs": [],
   "source": [
    "df_feb['created_at'].max()"
   ]
  },
  {
   "cell_type": "markdown",
   "metadata": {},
   "source": [
    "## March 2020"
   ]
  },
  {
   "cell_type": "code",
   "execution_count": null,
   "metadata": {},
   "outputs": [],
   "source": [
    "# march \n",
    "df_march = pd.read_csv('months_datasets/df_march.csv')"
   ]
  },
  {
   "cell_type": "code",
   "execution_count": null,
   "metadata": {},
   "outputs": [],
   "source": [
    "df_march.shape"
   ]
  },
  {
   "cell_type": "code",
   "execution_count": null,
   "metadata": {},
   "outputs": [],
   "source": [
    "df_march"
   ]
  },
  {
   "cell_type": "code",
   "execution_count": null,
   "metadata": {},
   "outputs": [],
   "source": [
    "df_march[df_march['created_at']== '2020-03-16']"
   ]
  },
  {
   "cell_type": "code",
   "execution_count": null,
   "metadata": {},
   "outputs": [],
   "source": [
    "df_march['created_at'].min()"
   ]
  },
  {
   "cell_type": "code",
   "execution_count": null,
   "metadata": {},
   "outputs": [],
   "source": [
    "df_march['created_at'].max()"
   ]
  },
  {
   "cell_type": "markdown",
   "metadata": {},
   "source": [
    "## April 2020"
   ]
  },
  {
   "cell_type": "code",
   "execution_count": null,
   "metadata": {},
   "outputs": [],
   "source": [
    "df_april = pd.read_csv('months_datasets/df_april.csv')"
   ]
  },
  {
   "cell_type": "code",
   "execution_count": null,
   "metadata": {},
   "outputs": [],
   "source": [
    "pd.set_option('display.max_columns', None)"
   ]
  },
  {
   "cell_type": "code",
   "execution_count": null,
   "metadata": {},
   "outputs": [],
   "source": []
  },
  {
   "cell_type": "code",
   "execution_count": null,
   "metadata": {},
   "outputs": [],
   "source": [
    "df_april.shape"
   ]
  },
  {
   "cell_type": "code",
   "execution_count": null,
   "metadata": {},
   "outputs": [],
   "source": [
    "df_april['created_at'].min()"
   ]
  },
  {
   "cell_type": "code",
   "execution_count": null,
   "metadata": {},
   "outputs": [],
   "source": [
    "df_april['created_at'].max()"
   ]
  },
  {
   "cell_type": "code",
   "execution_count": null,
   "metadata": {},
   "outputs": [],
   "source": [
    "df_april"
   ]
  },
  {
   "cell_type": "markdown",
   "metadata": {},
   "source": [
    "## combined_df"
   ]
  },
  {
   "cell_type": "code",
   "execution_count": null,
   "metadata": {},
   "outputs": [],
   "source": [
    "df_combined = pd.read_csv('months_datasets/combined_df.csv')"
   ]
  },
  {
   "cell_type": "code",
   "execution_count": null,
   "metadata": {},
   "outputs": [],
   "source": [
    "pd.set_option('display.max_columns', None)"
   ]
  },
  {
   "cell_type": "code",
   "execution_count": null,
   "metadata": {},
   "outputs": [],
   "source": [
    "df_combined.head()"
   ]
  },
  {
   "cell_type": "code",
   "execution_count": null,
   "metadata": {},
   "outputs": [],
   "source": [
    "df_combined.shape"
   ]
  },
  {
   "cell_type": "code",
   "execution_count": null,
   "metadata": {},
   "outputs": [],
   "source": [
    "df_combined['created_at'].min()"
   ]
  },
  {
   "cell_type": "code",
   "execution_count": null,
   "metadata": {},
   "outputs": [],
   "source": [
    "df_combined['created_at'].max()"
   ]
  },
  {
   "cell_type": "markdown",
   "metadata": {},
   "source": [
    "## EDA"
   ]
  },
  {
   "cell_type": "code",
   "execution_count": null,
   "metadata": {},
   "outputs": [],
   "source": [
    "df_combined.info()"
   ]
  },
  {
   "cell_type": "code",
   "execution_count": null,
   "metadata": {},
   "outputs": [],
   "source": [
    "df_combined.isnull().sum()"
   ]
  },
  {
   "cell_type": "code",
   "execution_count": null,
   "metadata": {},
   "outputs": [],
   "source": [
    "df_combined.describe()"
   ]
  },
  {
   "cell_type": "markdown",
   "metadata": {},
   "source": [
    "## Hastags datasets"
   ]
  },
  {
   "cell_type": "code",
   "execution_count": null,
   "metadata": {
    "scrolled": true
   },
   "outputs": [],
   "source": [
    "df_qouranitine111=df_combined[df_combined['full_text'].str.contains(\"منع_التجول\")] \n",
    "df_qouranitine111\n"
   ]
  },
  {
   "cell_type": "code",
   "execution_count": null,
   "metadata": {},
   "outputs": [],
   "source": [
    "df_qouranitine111.to_csv('df_qouranitine111.csv',index = False)\n"
   ]
  },
  {
   "cell_type": "code",
   "execution_count": null,
   "metadata": {},
   "outputs": [],
   "source": []
  },
  {
   "cell_type": "code",
   "execution_count": null,
   "metadata": {},
   "outputs": [],
   "source": [
    "df = pd.read_csv('df_qouranitine111.csv')"
   ]
  },
  {
   "cell_type": "code",
   "execution_count": null,
   "metadata": {},
   "outputs": [],
   "source": [
    "pd.set_option('display.max_columns', None)"
   ]
  },
  {
   "cell_type": "code",
   "execution_count": null,
   "metadata": {},
   "outputs": [],
   "source": [
    "df.head()"
   ]
  },
  {
   "cell_type": "code",
   "execution_count": null,
   "metadata": {},
   "outputs": [],
   "source": [
    "df.isnull().sum()"
   ]
  },
  {
   "cell_type": "code",
   "execution_count": null,
   "metadata": {
    "scrolled": false
   },
   "outputs": [],
   "source": [
    "df1 = df[(df['created_at'] > '2020-03-23') & (df['created_at'] <= '2020-03-29')]\n",
    "df1"
   ]
  },
  {
   "cell_type": "code",
   "execution_count": null,
   "metadata": {},
   "outputs": [],
   "source": [
    "df1.to_csv('df1.csv',index = False)\n"
   ]
  },
  {
   "cell_type": "markdown",
   "metadata": {},
   "source": [
    "# DF1"
   ]
  },
  {
   "cell_type": "code",
   "execution_count": 229,
   "metadata": {},
   "outputs": [],
   "source": [
    "df1 = pd.read_csv('df1.csv')"
   ]
  },
  {
   "cell_type": "code",
   "execution_count": 230,
   "metadata": {},
   "outputs": [],
   "source": [
    "pd.set_option('display.max_columns', None)"
   ]
  },
  {
   "cell_type": "code",
   "execution_count": 231,
   "metadata": {},
   "outputs": [
    {
     "data": {
      "text/html": [
       "<div>\n",
       "<style scoped>\n",
       "    .dataframe tbody tr th:only-of-type {\n",
       "        vertical-align: middle;\n",
       "    }\n",
       "\n",
       "    .dataframe tbody tr th {\n",
       "        vertical-align: top;\n",
       "    }\n",
       "\n",
       "    .dataframe thead th {\n",
       "        text-align: right;\n",
       "    }\n",
       "</style>\n",
       "<table border=\"1\" class=\"dataframe\">\n",
       "  <thead>\n",
       "    <tr style=\"text-align: right;\">\n",
       "      <th></th>\n",
       "      <th>contributors</th>\n",
       "      <th>coordinates</th>\n",
       "      <th>created_at</th>\n",
       "      <th>display_text_range</th>\n",
       "      <th>entities</th>\n",
       "      <th>extended_entities</th>\n",
       "      <th>favorite_count</th>\n",
       "      <th>favorited</th>\n",
       "      <th>full_text</th>\n",
       "      <th>geo</th>\n",
       "      <th>id</th>\n",
       "      <th>id_str</th>\n",
       "      <th>in_reply_to_screen_name</th>\n",
       "      <th>in_reply_to_status_id</th>\n",
       "      <th>in_reply_to_status_id_str</th>\n",
       "      <th>in_reply_to_user_id</th>\n",
       "      <th>in_reply_to_user_id_str</th>\n",
       "      <th>is_quote_status</th>\n",
       "      <th>lang</th>\n",
       "      <th>place</th>\n",
       "      <th>possibly_sensitive</th>\n",
       "      <th>quoted_status</th>\n",
       "      <th>quoted_status_id</th>\n",
       "      <th>quoted_status_id_str</th>\n",
       "      <th>quoted_status_permalink</th>\n",
       "      <th>retweet_count</th>\n",
       "      <th>retweeted</th>\n",
       "      <th>retweeted_status</th>\n",
       "      <th>scopes</th>\n",
       "      <th>source</th>\n",
       "      <th>truncated</th>\n",
       "      <th>user</th>\n",
       "      <th>withheld_copyright</th>\n",
       "      <th>withheld_in_countries</th>\n",
       "      <th>withheld_scope</th>\n",
       "    </tr>\n",
       "  </thead>\n",
       "  <tbody>\n",
       "    <tr>\n",
       "      <td>0</td>\n",
       "      <td>NaN</td>\n",
       "      <td>NaN</td>\n",
       "      <td>2020-03-23 00:40:02+00:00</td>\n",
       "      <td>[0, 139]</td>\n",
       "      <td>{'hashtags': [{'text': 'منع_التجول', 'indices'...</td>\n",
       "      <td>NaN</td>\n",
       "      <td>0</td>\n",
       "      <td>False</td>\n",
       "      <td>RT @Dana_Alsuhaim: #منع_التجول اللهم اصرف عنا ...</td>\n",
       "      <td>NaN</td>\n",
       "      <td>1241887394019893200</td>\n",
       "      <td>1241887394019893248</td>\n",
       "      <td>NaN</td>\n",
       "      <td>NaN</td>\n",
       "      <td>NaN</td>\n",
       "      <td>NaN</td>\n",
       "      <td>NaN</td>\n",
       "      <td>False</td>\n",
       "      <td>ar</td>\n",
       "      <td>NaN</td>\n",
       "      <td>NaN</td>\n",
       "      <td>NaN</td>\n",
       "      <td>NaN</td>\n",
       "      <td>NaN</td>\n",
       "      <td>NaN</td>\n",
       "      <td>1</td>\n",
       "      <td>False</td>\n",
       "      <td>{'created_at': 'Mon Mar 23 00:38:31 +0000 2020...</td>\n",
       "      <td>NaN</td>\n",
       "      <td>&lt;a href=\"http://twitter.com/download/iphone\" r...</td>\n",
       "      <td>False</td>\n",
       "      <td>{'id': 254476169, 'id_str': '254476169', 'name...</td>\n",
       "      <td>NaN</td>\n",
       "      <td>NaN</td>\n",
       "      <td>NaN</td>\n",
       "    </tr>\n",
       "    <tr>\n",
       "      <td>1</td>\n",
       "      <td>NaN</td>\n",
       "      <td>NaN</td>\n",
       "      <td>2020-03-23 01:40:43+00:00</td>\n",
       "      <td>[0, 255]</td>\n",
       "      <td>{'hashtags': [{'text': 'حظر_التجوال_21يوم', 'i...</td>\n",
       "      <td>{'media': [{'id': 1241902654323937300, 'id_str...</td>\n",
       "      <td>35</td>\n",
       "      <td>False</td>\n",
       "      <td>#حظر_التجوال_21يوم \\nخادم الحرمين الشريفين يصد...</td>\n",
       "      <td>NaN</td>\n",
       "      <td>1241902663253581800</td>\n",
       "      <td>1241902663253581824</td>\n",
       "      <td>NaN</td>\n",
       "      <td>NaN</td>\n",
       "      <td>NaN</td>\n",
       "      <td>NaN</td>\n",
       "      <td>NaN</td>\n",
       "      <td>False</td>\n",
       "      <td>ar</td>\n",
       "      <td>NaN</td>\n",
       "      <td>0.0</td>\n",
       "      <td>NaN</td>\n",
       "      <td>NaN</td>\n",
       "      <td>NaN</td>\n",
       "      <td>NaN</td>\n",
       "      <td>34</td>\n",
       "      <td>False</td>\n",
       "      <td>NaN</td>\n",
       "      <td>NaN</td>\n",
       "      <td>&lt;a href=\"http://twitter.com/download/iphone\" r...</td>\n",
       "      <td>False</td>\n",
       "      <td>{'id': 519501958, 'id_str': '519501958', 'name...</td>\n",
       "      <td>NaN</td>\n",
       "      <td>NaN</td>\n",
       "      <td>NaN</td>\n",
       "    </tr>\n",
       "    <tr>\n",
       "      <td>2</td>\n",
       "      <td>NaN</td>\n",
       "      <td>NaN</td>\n",
       "      <td>2020-03-23 03:39:31+00:00</td>\n",
       "      <td>[0, 140]</td>\n",
       "      <td>{'hashtags': [{'text': 'حظر_التجوال_21يوم', 'i...</td>\n",
       "      <td>NaN</td>\n",
       "      <td>0</td>\n",
       "      <td>False</td>\n",
       "      <td>RT @f7970: #حظر_التجوال_21يوم \\nخادم الحرمين ا...</td>\n",
       "      <td>NaN</td>\n",
       "      <td>1241932563482108000</td>\n",
       "      <td>1241932563482107904</td>\n",
       "      <td>NaN</td>\n",
       "      <td>NaN</td>\n",
       "      <td>NaN</td>\n",
       "      <td>NaN</td>\n",
       "      <td>NaN</td>\n",
       "      <td>False</td>\n",
       "      <td>ar</td>\n",
       "      <td>NaN</td>\n",
       "      <td>NaN</td>\n",
       "      <td>NaN</td>\n",
       "      <td>NaN</td>\n",
       "      <td>NaN</td>\n",
       "      <td>NaN</td>\n",
       "      <td>34</td>\n",
       "      <td>False</td>\n",
       "      <td>{'created_at': 'Mon Mar 23 01:40:43 +0000 2020...</td>\n",
       "      <td>NaN</td>\n",
       "      <td>&lt;a href=\"http://twitter.com/download/iphone\" r...</td>\n",
       "      <td>False</td>\n",
       "      <td>{'id': 426905752, 'id_str': '426905752', 'name...</td>\n",
       "      <td>NaN</td>\n",
       "      <td>NaN</td>\n",
       "      <td>NaN</td>\n",
       "    </tr>\n",
       "    <tr>\n",
       "      <td>3</td>\n",
       "      <td>NaN</td>\n",
       "      <td>NaN</td>\n",
       "      <td>2020-03-23 00:51:31+00:00</td>\n",
       "      <td>[0, 139]</td>\n",
       "      <td>{'hashtags': [{'text': 'الأمر_الملكي', 'indice...</td>\n",
       "      <td>NaN</td>\n",
       "      <td>0</td>\n",
       "      <td>False</td>\n",
       "      <td>RT @Ali_alowifi: #الأمر_الملكي بـ #منع_التجول ...</td>\n",
       "      <td>NaN</td>\n",
       "      <td>1241890284956500000</td>\n",
       "      <td>1241890284956499968</td>\n",
       "      <td>NaN</td>\n",
       "      <td>NaN</td>\n",
       "      <td>NaN</td>\n",
       "      <td>NaN</td>\n",
       "      <td>NaN</td>\n",
       "      <td>False</td>\n",
       "      <td>ar</td>\n",
       "      <td>NaN</td>\n",
       "      <td>NaN</td>\n",
       "      <td>NaN</td>\n",
       "      <td>NaN</td>\n",
       "      <td>NaN</td>\n",
       "      <td>NaN</td>\n",
       "      <td>11</td>\n",
       "      <td>False</td>\n",
       "      <td>{'created_at': 'Mon Mar 23 00:49:35 +0000 2020...</td>\n",
       "      <td>NaN</td>\n",
       "      <td>&lt;a href=\"http://twitter.com/download/iphone\" r...</td>\n",
       "      <td>False</td>\n",
       "      <td>{'id': 741408700267696100, 'id_str': '74140870...</td>\n",
       "      <td>NaN</td>\n",
       "      <td>NaN</td>\n",
       "      <td>NaN</td>\n",
       "    </tr>\n",
       "    <tr>\n",
       "      <td>4</td>\n",
       "      <td>NaN</td>\n",
       "      <td>NaN</td>\n",
       "      <td>2020-03-23 02:21:34+00:00</td>\n",
       "      <td>[0, 140]</td>\n",
       "      <td>{'hashtags': [{'text': 'حظر_التجوال_21يوم', 'i...</td>\n",
       "      <td>NaN</td>\n",
       "      <td>0</td>\n",
       "      <td>False</td>\n",
       "      <td>RT @f7970: #حظر_التجوال_21يوم \\nخادم الحرمين ا...</td>\n",
       "      <td>NaN</td>\n",
       "      <td>1241912947166888000</td>\n",
       "      <td>1241912947166887936</td>\n",
       "      <td>NaN</td>\n",
       "      <td>NaN</td>\n",
       "      <td>NaN</td>\n",
       "      <td>NaN</td>\n",
       "      <td>NaN</td>\n",
       "      <td>False</td>\n",
       "      <td>ar</td>\n",
       "      <td>NaN</td>\n",
       "      <td>NaN</td>\n",
       "      <td>NaN</td>\n",
       "      <td>NaN</td>\n",
       "      <td>NaN</td>\n",
       "      <td>NaN</td>\n",
       "      <td>34</td>\n",
       "      <td>False</td>\n",
       "      <td>{'created_at': 'Mon Mar 23 01:40:43 +0000 2020...</td>\n",
       "      <td>NaN</td>\n",
       "      <td>&lt;a href=\"http://twitter.com/download/android\" ...</td>\n",
       "      <td>False</td>\n",
       "      <td>{'id': 887726655049003000, 'id_str': '88772665...</td>\n",
       "      <td>NaN</td>\n",
       "      <td>NaN</td>\n",
       "      <td>NaN</td>\n",
       "    </tr>\n",
       "  </tbody>\n",
       "</table>\n",
       "</div>"
      ],
      "text/plain": [
       "   contributors  coordinates                 created_at display_text_range  \\\n",
       "0           NaN          NaN  2020-03-23 00:40:02+00:00           [0, 139]   \n",
       "1           NaN          NaN  2020-03-23 01:40:43+00:00           [0, 255]   \n",
       "2           NaN          NaN  2020-03-23 03:39:31+00:00           [0, 140]   \n",
       "3           NaN          NaN  2020-03-23 00:51:31+00:00           [0, 139]   \n",
       "4           NaN          NaN  2020-03-23 02:21:34+00:00           [0, 140]   \n",
       "\n",
       "                                            entities  \\\n",
       "0  {'hashtags': [{'text': 'منع_التجول', 'indices'...   \n",
       "1  {'hashtags': [{'text': 'حظر_التجوال_21يوم', 'i...   \n",
       "2  {'hashtags': [{'text': 'حظر_التجوال_21يوم', 'i...   \n",
       "3  {'hashtags': [{'text': 'الأمر_الملكي', 'indice...   \n",
       "4  {'hashtags': [{'text': 'حظر_التجوال_21يوم', 'i...   \n",
       "\n",
       "                                   extended_entities  favorite_count  \\\n",
       "0                                                NaN               0   \n",
       "1  {'media': [{'id': 1241902654323937300, 'id_str...              35   \n",
       "2                                                NaN               0   \n",
       "3                                                NaN               0   \n",
       "4                                                NaN               0   \n",
       "\n",
       "   favorited                                          full_text  geo  \\\n",
       "0      False  RT @Dana_Alsuhaim: #منع_التجول اللهم اصرف عنا ...  NaN   \n",
       "1      False  #حظر_التجوال_21يوم \\nخادم الحرمين الشريفين يصد...  NaN   \n",
       "2      False  RT @f7970: #حظر_التجوال_21يوم \\nخادم الحرمين ا...  NaN   \n",
       "3      False  RT @Ali_alowifi: #الأمر_الملكي بـ #منع_التجول ...  NaN   \n",
       "4      False  RT @f7970: #حظر_التجوال_21يوم \\nخادم الحرمين ا...  NaN   \n",
       "\n",
       "                    id               id_str in_reply_to_screen_name  \\\n",
       "0  1241887394019893200  1241887394019893248                     NaN   \n",
       "1  1241902663253581800  1241902663253581824                     NaN   \n",
       "2  1241932563482108000  1241932563482107904                     NaN   \n",
       "3  1241890284956500000  1241890284956499968                     NaN   \n",
       "4  1241912947166888000  1241912947166887936                     NaN   \n",
       "\n",
       "   in_reply_to_status_id  in_reply_to_status_id_str  in_reply_to_user_id  \\\n",
       "0                    NaN                        NaN                  NaN   \n",
       "1                    NaN                        NaN                  NaN   \n",
       "2                    NaN                        NaN                  NaN   \n",
       "3                    NaN                        NaN                  NaN   \n",
       "4                    NaN                        NaN                  NaN   \n",
       "\n",
       "   in_reply_to_user_id_str  is_quote_status lang place  possibly_sensitive  \\\n",
       "0                      NaN            False   ar   NaN                 NaN   \n",
       "1                      NaN            False   ar   NaN                 0.0   \n",
       "2                      NaN            False   ar   NaN                 NaN   \n",
       "3                      NaN            False   ar   NaN                 NaN   \n",
       "4                      NaN            False   ar   NaN                 NaN   \n",
       "\n",
       "  quoted_status  quoted_status_id  quoted_status_id_str  \\\n",
       "0           NaN               NaN                   NaN   \n",
       "1           NaN               NaN                   NaN   \n",
       "2           NaN               NaN                   NaN   \n",
       "3           NaN               NaN                   NaN   \n",
       "4           NaN               NaN                   NaN   \n",
       "\n",
       "  quoted_status_permalink  retweet_count  retweeted  \\\n",
       "0                     NaN              1      False   \n",
       "1                     NaN             34      False   \n",
       "2                     NaN             34      False   \n",
       "3                     NaN             11      False   \n",
       "4                     NaN             34      False   \n",
       "\n",
       "                                    retweeted_status  scopes  \\\n",
       "0  {'created_at': 'Mon Mar 23 00:38:31 +0000 2020...     NaN   \n",
       "1                                                NaN     NaN   \n",
       "2  {'created_at': 'Mon Mar 23 01:40:43 +0000 2020...     NaN   \n",
       "3  {'created_at': 'Mon Mar 23 00:49:35 +0000 2020...     NaN   \n",
       "4  {'created_at': 'Mon Mar 23 01:40:43 +0000 2020...     NaN   \n",
       "\n",
       "                                              source  truncated  \\\n",
       "0  <a href=\"http://twitter.com/download/iphone\" r...      False   \n",
       "1  <a href=\"http://twitter.com/download/iphone\" r...      False   \n",
       "2  <a href=\"http://twitter.com/download/iphone\" r...      False   \n",
       "3  <a href=\"http://twitter.com/download/iphone\" r...      False   \n",
       "4  <a href=\"http://twitter.com/download/android\" ...      False   \n",
       "\n",
       "                                                user  withheld_copyright  \\\n",
       "0  {'id': 254476169, 'id_str': '254476169', 'name...                 NaN   \n",
       "1  {'id': 519501958, 'id_str': '519501958', 'name...                 NaN   \n",
       "2  {'id': 426905752, 'id_str': '426905752', 'name...                 NaN   \n",
       "3  {'id': 741408700267696100, 'id_str': '74140870...                 NaN   \n",
       "4  {'id': 887726655049003000, 'id_str': '88772665...                 NaN   \n",
       "\n",
       "   withheld_in_countries  withheld_scope  \n",
       "0                    NaN             NaN  \n",
       "1                    NaN             NaN  \n",
       "2                    NaN             NaN  \n",
       "3                    NaN             NaN  \n",
       "4                    NaN             NaN  "
      ]
     },
     "execution_count": 231,
     "metadata": {},
     "output_type": "execute_result"
    }
   ],
   "source": [
    "df1.head()"
   ]
  },
  {
   "cell_type": "code",
   "execution_count": 232,
   "metadata": {},
   "outputs": [
    {
     "data": {
      "text/plain": [
       "(16791, 35)"
      ]
     },
     "execution_count": 232,
     "metadata": {},
     "output_type": "execute_result"
    }
   ],
   "source": [
    "df1.shape"
   ]
  },
  {
   "cell_type": "code",
   "execution_count": 233,
   "metadata": {},
   "outputs": [
    {
     "data": {
      "text/plain": [
       "{'id': 985864521549058000, 'id_str': '985864521549058049', 'name': '﮼اناقهه،عسيري 💚', 'screen_name': '__wqw', 'location': 'مكة المكرمة', 'description': '#خواطر_عسيري ..#اناقة_عسيري .. خواطر و اقتباسات 📝 .. (ارفع راسك انت سعودي) السعودية خط احمر ⛔️❌ 🇸🇦 snpa:abdulelah_aseri', 'url': None, 'entities': {'description': {'urls': []}}, 'protected': False, 'followers_count': 198, 'friends_count': 346, 'listed_count': 0, 'created_at': 'Mon Apr 16 12:56:33 +0000 2018', 'favourites_count': 41171, 'utc_offset': None, 'time_zone': None, 'geo_enabled': False, 'verified': False, 'statuses_count': 42122, 'lang': None, 'contributors_enabled': False, 'is_translator': False, 'is_translation_enabled': False, 'profile_background_color': 'F5F8FA', 'profile_background_image_url': None, 'profile_background_image_url_https': None, 'profile_background_tile': False, 'profile_image_url': 'http://pbs.twimg.com/profile_images/1242147381409394689/Bg5PpJqO_normal.jpg', 'profile_image_url_https': 'https://pbs.twimg.com/profile_images/1242147381409394689/Bg5PpJqO_normal.jpg', 'profile_banner_url': 'https://pbs.twimg.com/profile_banners/985864521549058049/1580566953', 'profile_link_color': '1DA1F2', 'profile_sidebar_border_color': 'C0DEED', 'profile_sidebar_fill_color': 'DDEEF6', 'profile_text_color': '333333', 'profile_use_background_image': True, 'has_extended_profile': True, 'default_profile': True, 'default_profile_image': False, 'following': False, 'follow_request_sent': False, 'notifications': False, 'translator_type': 'none'}                                                                                                                                                                                                                                                                                  18\n",
       "{'id': 1662441404, 'id_str': '1662441404', 'name': '🇸🇦🇸🇦🗡ALSAIF🗡🇸🇦🇸🇦', 'screen_name': 'hmh888666', 'location': ' السعودية العظمى ', 'description': 'سبحان الله وبحمدة سبحان الله العظيم ، اللهم يسرلي كل أمر عسر علي ، إنك على كل شيء قدير.', 'url': 'https://t.co/WAWVY1g1Vf', 'entities': {'url': {'urls': [{'url': 'https://t.co/WAWVY1g1Vf', 'expanded_url': 'http://HMH888666.blogspot.com', 'display_url': 'HMH888666.blogspot.com', 'indices': [0, 23]}]}, 'description': {'urls': []}}, 'protected': False, 'followers_count': 1693, 'friends_count': 4793, 'listed_count': 0, 'created_at': 'Sun Aug 11 12:25:23 +0000 2013', 'favourites_count': 5776, 'utc_offset': None, 'time_zone': None, 'geo_enabled': True, 'verified': False, 'statuses_count': 33508, 'lang': None, 'contributors_enabled': False, 'is_translator': False, 'is_translation_enabled': False, 'profile_background_color': 'C0DEED', 'profile_background_image_url': 'http://abs.twimg.com/images/themes/theme1/bg.png', 'profile_background_image_url_https': 'https://abs.twimg.com/images/themes/theme1/bg.png', 'profile_background_tile': False, 'profile_image_url': 'http://pbs.twimg.com/profile_images/1243853378058432512/swXhwCKW_normal.jpg', 'profile_image_url_https': 'https://pbs.twimg.com/profile_images/1243853378058432512/swXhwCKW_normal.jpg', 'profile_banner_url': 'https://pbs.twimg.com/profile_banners/1662441404/1585600775', 'profile_link_color': '1DA1F2', 'profile_sidebar_border_color': 'C0DEED', 'profile_sidebar_fill_color': 'DDEEF6', 'profile_text_color': '333333', 'profile_use_background_image': True, 'has_extended_profile': True, 'default_profile': True, 'default_profile_image': False, 'following': False, 'follow_request_sent': False, 'notifications': False, 'translator_type': 'none'}                                        10\n",
       "{'id': 1089995657564295200, 'id_str': '1089995657564295172', 'name': 'عبدالحق محمد زمان', 'screen_name': 'CM9562ZRZLrY0L2', 'location': 'الطائف, المملكة العربية السعود', 'description': '\\u200f\\u200f\\u200f\\u200f\\u200fالحياة جميله\\nعاشق اتحادي🖤💛', 'url': None, 'entities': {'description': {'urls': []}}, 'protected': False, 'followers_count': 70, 'friends_count': 922, 'listed_count': 0, 'created_at': 'Mon Jan 28 21:16:30 +0000 2019', 'favourites_count': 3531, 'utc_offset': None, 'time_zone': None, 'geo_enabled': False, 'verified': False, 'statuses_count': 10554, 'lang': None, 'contributors_enabled': False, 'is_translator': False, 'is_translation_enabled': False, 'profile_background_color': 'F5F8FA', 'profile_background_image_url': None, 'profile_background_image_url_https': None, 'profile_background_tile': False, 'profile_image_url': 'http://pbs.twimg.com/profile_images/1090374030975225857/nX0nOhQq_normal.jpg', 'profile_image_url_https': 'https://pbs.twimg.com/profile_images/1090374030975225857/nX0nOhQq_normal.jpg', 'profile_link_color': '1DA1F2', 'profile_sidebar_border_color': 'C0DEED', 'profile_sidebar_fill_color': 'DDEEF6', 'profile_text_color': '333333', 'profile_use_background_image': True, 'has_extended_profile': True, 'default_profile': True, 'default_profile_image': False, 'following': False, 'follow_request_sent': False, 'notifications': False, 'translator_type': 'none'}                                                                                                                                                                                                                                                                                                                                                                                                               9\n",
       "{'id': 1606357903, 'id_str': '1606357903', 'name': 'بدرالسبيل مخاوي الذيب', 'screen_name': 'alka441', 'location': 'المملكة العربية السعودية', 'description': 'حفرالباطن', 'url': None, 'entities': {'description': {'urls': []}}, 'protected': False, 'followers_count': 11053, 'friends_count': 2, 'listed_count': 84, 'created_at': 'Fri Jul 19 16:52:32 +0000 2013', 'favourites_count': 28914, 'utc_offset': None, 'time_zone': None, 'geo_enabled': True, 'verified': False, 'statuses_count': 1350002, 'lang': None, 'contributors_enabled': False, 'is_translator': False, 'is_translation_enabled': False, 'profile_background_color': 'C0DEED', 'profile_background_image_url': 'http://abs.twimg.com/images/themes/theme1/bg.png', 'profile_background_image_url_https': 'https://abs.twimg.com/images/themes/theme1/bg.png', 'profile_background_tile': False, 'profile_image_url': 'http://pbs.twimg.com/profile_images/1229478099433201666/jqBIURbc_normal.jpg', 'profile_image_url_https': 'https://pbs.twimg.com/profile_images/1229478099433201666/jqBIURbc_normal.jpg', 'profile_banner_url': 'https://pbs.twimg.com/profile_banners/1606357903/1521773606', 'profile_link_color': '1DA1F2', 'profile_sidebar_border_color': 'C0DEED', 'profile_sidebar_fill_color': 'DDEEF6', 'profile_text_color': '333333', 'profile_use_background_image': True, 'has_extended_profile': False, 'default_profile': True, 'default_profile_image': False, 'following': False, 'follow_request_sent': False, 'notifications': False, 'translator_type': 'none'}                                                                                                                                                                                                                                                                                                    8\n",
       "{'id': 1148384195133227000, 'id_str': '1148384195133227008', 'name': 'خالد الثقفي جدة', 'screen_name': 'althaqafi02kh', 'location': '', 'description': '❤نرى الأمل في كل مكان❤', 'url': None, 'entities': {'description': {'urls': []}}, 'protected': False, 'followers_count': 143, 'friends_count': 916, 'listed_count': 0, 'created_at': 'Tue Jul 09 00:11:42 +0000 2019', 'favourites_count': 8, 'utc_offset': None, 'time_zone': None, 'geo_enabled': False, 'verified': False, 'statuses_count': 31159, 'lang': None, 'contributors_enabled': False, 'is_translator': False, 'is_translation_enabled': False, 'profile_background_color': 'F5F8FA', 'profile_background_image_url': None, 'profile_background_image_url_https': None, 'profile_background_tile': False, 'profile_image_url': 'http://pbs.twimg.com/profile_images/1199421386156126210/EoHvgrDD_normal.jpg', 'profile_image_url_https': 'https://pbs.twimg.com/profile_images/1199421386156126210/EoHvgrDD_normal.jpg', 'profile_banner_url': 'https://pbs.twimg.com/profile_banners/1148384195133227008/1562657080', 'profile_link_color': '1DA1F2', 'profile_sidebar_border_color': 'C0DEED', 'profile_sidebar_fill_color': 'DDEEF6', 'profile_text_color': '333333', 'profile_use_background_image': True, 'has_extended_profile': False, 'default_profile': True, 'default_profile_image': False, 'following': False, 'follow_request_sent': False, 'notifications': False, 'translator_type': 'none'}                                                                                                                                                                                                                                                                                                                                                                                       8\n",
       "                                                                                                                                                                                                                                                                                                                                                                                                                                                                                                                                                                                                                                                                                                                                                                                                                                                                                                                                                                                                                                                                                                                                                                                                                                                                                                                                                                                                                                                                                                                                                                                                                                                                                                                                                                                                                                                                     ..\n",
       "{'id': 431797721, 'id_str': '431797721', 'name': 'صحيفة خليص #كلنا_مسؤول', 'screen_name': 'KhlaisToday', 'location': 'خليص, المملكة العربية السعودية', 'description': 'الحساب الرسمي لصحيفة خليص اليوم ، حساب يهتم بنشر أخبار محافظة #خليص , والاخبار العامة . ترخيص وزارة الثقافة والإعلام رقم (غ خ 1642)', 'url': 'https://t.co/exNzMtE20h', 'entities': {'url': {'urls': [{'url': 'https://t.co/exNzMtE20h', 'expanded_url': 'http://www.khlais.sa', 'display_url': 'khlais.sa', 'indices': [0, 23]}]}, 'description': {'urls': []}}, 'protected': False, 'followers_count': 20036, 'friends_count': 4, 'listed_count': 43, 'created_at': 'Thu Dec 08 18:07:01 +0000 2011', 'favourites_count': 35, 'utc_offset': None, 'time_zone': None, 'geo_enabled': True, 'verified': False, 'statuses_count': 39770, 'lang': None, 'contributors_enabled': False, 'is_translator': False, 'is_translation_enabled': False, 'profile_background_color': '030303', 'profile_background_image_url': 'http://abs.twimg.com/images/themes/theme1/bg.png', 'profile_background_image_url_https': 'https://abs.twimg.com/images/themes/theme1/bg.png', 'profile_background_tile': True, 'profile_image_url': 'http://pbs.twimg.com/profile_images/820854766704148481/_QiRTPBX_normal.jpg', 'profile_image_url_https': 'https://pbs.twimg.com/profile_images/820854766704148481/_QiRTPBX_normal.jpg', 'profile_banner_url': 'https://pbs.twimg.com/profile_banners/431797721/1586869620', 'profile_link_color': '0DBEFF', 'profile_sidebar_border_color': 'FFFFFF', 'profile_sidebar_fill_color': 'DDEEF6', 'profile_text_color': '333333', 'profile_use_background_image': True, 'has_extended_profile': False, 'default_profile': False, 'default_profile_image': False, 'following': False, 'follow_request_sent': False, 'notifications': False, 'translator_type': 'none'}     1\n",
       "{'id': 2172643282, 'id_str': '2172643282', 'name': 'سوفسطائي ᴗ̈', 'screen_name': '6rbkm', 'location': 'الرياض', 'description': '#وطنجي #FCB', 'url': None, 'entities': {'description': {'urls': []}}, 'protected': False, 'followers_count': 402, 'friends_count': 1431, 'listed_count': 0, 'created_at': 'Thu Nov 07 21:31:40 +0000 2013', 'favourites_count': 180, 'utc_offset': None, 'time_zone': None, 'geo_enabled': False, 'verified': False, 'statuses_count': 35380, 'lang': None, 'contributors_enabled': False, 'is_translator': False, 'is_translation_enabled': False, 'profile_background_color': 'C0DEED', 'profile_background_image_url': 'http://abs.twimg.com/images/themes/theme1/bg.png', 'profile_background_image_url_https': 'https://abs.twimg.com/images/themes/theme1/bg.png', 'profile_background_tile': False, 'profile_image_url': 'http://pbs.twimg.com/profile_images/1055808852833300481/2xAOaZan_normal.jpg', 'profile_image_url_https': 'https://pbs.twimg.com/profile_images/1055808852833300481/2xAOaZan_normal.jpg', 'profile_banner_url': 'https://pbs.twimg.com/profile_banners/2172643282/1515149352', 'profile_link_color': '1DA1F2', 'profile_sidebar_border_color': 'C0DEED', 'profile_sidebar_fill_color': 'DDEEF6', 'profile_text_color': '333333', 'profile_use_background_image': True, 'has_extended_profile': True, 'default_profile': True, 'default_profile_image': False, 'following': False, 'follow_request_sent': False, 'notifications': False, 'translator_type': 'none'}                                                                                                                                                                                                                                                                                                                                    1\n",
       "{'id': 2273210666, 'id_str': '2273210666', 'name': 'عبيد بن محمد الشبوي', 'screen_name': 'obaid0612', 'location': '', 'description': 'احدٍلافقدته يوم تونس وجع فرقاه .. ويجيب الغنايم كل ماطول الغيبه واحدٍ مايروح الاوقد ودك بفرقاه .. اعقـابٍ عيــونـه ماتدله مراقيبـه', 'url': None, 'entities': {'description': {'urls': []}}, 'protected': False, 'followers_count': 939, 'friends_count': 1564, 'listed_count': 0, 'created_at': 'Thu Jan 02 16:00:41 +0000 2014', 'favourites_count': 22, 'utc_offset': None, 'time_zone': None, 'geo_enabled': False, 'verified': False, 'statuses_count': 2945, 'lang': None, 'contributors_enabled': False, 'is_translator': False, 'is_translation_enabled': False, 'profile_background_color': 'C0DEED', 'profile_background_image_url': 'http://abs.twimg.com/images/themes/theme1/bg.png', 'profile_background_image_url_https': 'https://abs.twimg.com/images/themes/theme1/bg.png', 'profile_background_tile': False, 'profile_image_url': 'http://pbs.twimg.com/profile_images/1042368705064263680/4yUD1P1B_normal.jpg', 'profile_image_url_https': 'https://pbs.twimg.com/profile_images/1042368705064263680/4yUD1P1B_normal.jpg', 'profile_banner_url': 'https://pbs.twimg.com/profile_banners/2273210666/1440582387', 'profile_link_color': '1DA1F2', 'profile_sidebar_border_color': 'C0DEED', 'profile_sidebar_fill_color': 'DDEEF6', 'profile_text_color': '333333', 'profile_use_background_image': True, 'has_extended_profile': False, 'default_profile': True, 'default_profile_image': False, 'following': False, 'follow_request_sent': False, 'notifications': False, 'translator_type': 'none'}                                                                                                                                                                                                        1\n",
       "{'id': 2654276154, 'id_str': '2654276154', 'name': 'گـــفّــــاخ العتيبي - الاستثنائي', 'screen_name': 'pdf1000', 'location': '', 'description': 'الرياض', 'url': None, 'entities': {'description': {'urls': []}}, 'protected': False, 'followers_count': 200, 'friends_count': 710, 'listed_count': 1, 'created_at': 'Thu Jul 17 16:50:37 +0000 2014', 'favourites_count': 659, 'utc_offset': None, 'time_zone': None, 'geo_enabled': True, 'verified': False, 'statuses_count': 15451, 'lang': None, 'contributors_enabled': False, 'is_translator': False, 'is_translation_enabled': False, 'profile_background_color': 'C0DEED', 'profile_background_image_url': 'http://abs.twimg.com/images/themes/theme1/bg.png', 'profile_background_image_url_https': 'https://abs.twimg.com/images/themes/theme1/bg.png', 'profile_background_tile': False, 'profile_image_url': 'http://pbs.twimg.com/profile_images/1133433128423428096/fAxnqP30_normal.jpg', 'profile_image_url_https': 'https://pbs.twimg.com/profile_images/1133433128423428096/fAxnqP30_normal.jpg', 'profile_banner_url': 'https://pbs.twimg.com/profile_banners/2654276154/1535345920', 'profile_link_color': '1DA1F2', 'profile_sidebar_border_color': 'C0DEED', 'profile_sidebar_fill_color': 'DDEEF6', 'profile_text_color': '333333', 'profile_use_background_image': True, 'has_extended_profile': False, 'default_profile': True, 'default_profile_image': False, 'following': False, 'follow_request_sent': False, 'notifications': False, 'translator_type': 'none'}                                                                                                                                                                                                                                                                                                                        1\n",
       "{'id': 1186841948, 'id_str': '1186841948', 'name': 'alshmmri', 'screen_name': 'bm848', 'location': 'المملكة العربية السعودية', 'description': '\\u200fانا على بيض النوايا تربيت ونفوس خلق الله على ماتربت', 'url': None, 'entities': {'description': {'urls': []}}, 'protected': False, 'followers_count': 1328, 'friends_count': 5000, 'listed_count': 0, 'created_at': 'Sat Feb 16 17:10:11 +0000 2013', 'favourites_count': 50427, 'utc_offset': None, 'time_zone': None, 'geo_enabled': False, 'verified': False, 'statuses_count': 53224, 'lang': None, 'contributors_enabled': False, 'is_translator': False, 'is_translation_enabled': False, 'profile_background_color': 'C0DEED', 'profile_background_image_url': 'http://abs.twimg.com/images/themes/theme1/bg.png', 'profile_background_image_url_https': 'https://abs.twimg.com/images/themes/theme1/bg.png', 'profile_background_tile': False, 'profile_image_url': 'http://pbs.twimg.com/profile_images/1255633396086292480/gtjjkQUF_normal.jpg', 'profile_image_url_https': 'https://pbs.twimg.com/profile_images/1255633396086292480/gtjjkQUF_normal.jpg', 'profile_banner_url': 'https://pbs.twimg.com/profile_banners/1186841948/1567359005', 'profile_link_color': '1DA1F2', 'profile_sidebar_border_color': 'C0DEED', 'profile_sidebar_fill_color': 'DDEEF6', 'profile_text_color': '333333', 'profile_use_background_image': True, 'has_extended_profile': False, 'default_profile': True, 'default_profile_image': False, 'following': False, 'follow_request_sent': False, 'notifications': False, 'translator_type': 'none'}                                                                                                                                                                                                                                                                   1\n",
       "Name: user, Length: 14860, dtype: int64"
      ]
     },
     "execution_count": 233,
     "metadata": {},
     "output_type": "execute_result"
    }
   ],
   "source": [
    "df1['user'].value_counts()"
   ]
  },
  {
   "cell_type": "code",
   "execution_count": 234,
   "metadata": {},
   "outputs": [
    {
     "data": {
      "text/plain": [
       "'Alkhobar KSA _London '"
      ]
     },
     "execution_count": 234,
     "metadata": {},
     "output_type": "execute_result"
    }
   ],
   "source": [
    "eval(df1['user'][0]).get('location')"
   ]
  },
  {
   "cell_type": "code",
   "execution_count": 235,
   "metadata": {},
   "outputs": [
    {
     "data": {
      "text/plain": [
       "'Hessa j Alyagout ♔'"
      ]
     },
     "execution_count": 235,
     "metadata": {},
     "output_type": "execute_result"
    }
   ],
   "source": [
    "eval(df1['user'][0]).get('name')"
   ]
  },
  {
   "cell_type": "code",
   "execution_count": 236,
   "metadata": {},
   "outputs": [],
   "source": [
    "# create a list for locations\n",
    "locations=[]"
   ]
  },
  {
   "cell_type": "code",
   "execution_count": 219,
   "metadata": {},
   "outputs": [],
   "source": [
    "# create for loop to match the user locations \n",
    "\n",
    "\n",
    "for i in df1['user'] :\n",
    "    x= eval(i).get('location') # get the location and append it to a list\n",
    "    if x == 'Kingdom of Saudi Arabia' :\n",
    "        locations.append(x)\n",
    "    elif x== 'Saudi Arabia':\n",
    "        locations.append(x)\n",
    "    elif x== 'المملكة العربية السعودية':\n",
    "        locations.append(x)\n",
    "    elif x== 'الرياض': \n",
    "        locations.append(x)\n",
    "    elif x== 'الرياض, المملكة العربية السعودية':\n",
    "        locations.append(x)\n",
    "    elif x== 'جدة, المملكة العربية السعودية':\n",
    "        locations.append(x)\n",
    "    elif x== 'Kingdom of Saudi Arabia':\n",
    "        locations.append(x)\n",
    "    elif x== 'الرياض, المملكة العربية السعود':\n",
    "        locations.append(x)\n",
    "    elif x== 'Riyadh':\n",
    "        locations.append(x)\n",
    "    elif x== 'Riyadh, Kingdom of Saudi Arabia':\n",
    "        locations.append(x)\n",
    "    elif x== 'مكة المكرمة':\n",
    "        locations.append(x)\n",
    "    elif x== 'Jeddah ':\n",
    "        locations.append(x)\n",
    "    elif x== 'المدينة المنورة':\n",
    "        locations.append(x)\n",
    "    elif x== 'مكة المكرمة, المملكة العربية ا':\n",
    "        locations.append(x)\n",
    "    elif x== 'Jeddah, Kingdom of Saudi Arabia':\n",
    "        locations.append(x)\n",
    "    elif x== 'حائل, المملكة العربية السعودية':\n",
    "        locations.append(x)\n",
    "    elif x== 'مكة المكرمة, المملكة العربية السعودية':\n",
    "        locations.append(x)\n",
    "    elif x== 'السعودية':\n",
    "        locations.append(x)\n",
    "    elif x== 'تبوك, المملكة العربية السعودية':\n",
    "        locations.append(x)\n",
    "    elif x== 'KSA':\n",
    "        locations.append(x)\n",
    "    elif x== 'جدة':\n",
    "        locations.append(x)\n",
    "    elif x== 'السعودية':\n",
    "        locations.append(x)\n",
    "    elif x== 'Riyadh, Kingdom of Saudi Arabi':\n",
    "        locations.append(x)\n",
    "    elif x== 'تبوك, المملكة العربية السعودية':\n",
    "        locations.append(x)\n",
    "    elif x== 'Riyadh, Saudi Arabia':\n",
    "        locations.append(x)\n",
    "    elif x== 'المدينة المن, المملكة العربية':\n",
    "        locations.append(x)\n",
    "    elif x== 'الدمام':\n",
    "        locations.append(x)\n",
    "    elif x== 'الدمام, المملكة العربية السعود':\n",
    "        locations.append(x)\n",
    "    elif x== 'القصيم':\n",
    "        locations.append(x)\n",
    "    elif x== 'الدمام, المملكة العربية السعودية':\n",
    "        locations.append(x)\n",
    "    elif x== 'الطائف, المملكة العربية السعود':\n",
    "        locations.append(x)\n",
    "    elif x== 'المملكة العربية السعودية🇸🇦':\n",
    "        locations.append(x)\n",
    "    elif x== 'عسير, المملكة العربية السعودية':\n",
    "        locations.append(x)\n",
    "    elif x== 'السعودية العظمى':\n",
    "        locations.append(x)\n",
    "    elif x== 'jeddah':\n",
    "        locations.append(x)\n",
    "    elif x== 'ksa':\n",
    "        locations.append(x)\n",
    "    elif x== '🇸🇦':\n",
    "        locations.append(x)\n",
    "    elif x== 'المملكه العربيه السعوديه':\n",
    "        locations.append(x)\n",
    "    elif x== 'Al Khobar':\n",
    "        locations.append(x)\n",
    "    elif x== 'الخبر':\n",
    "        locations.append(x)\n",
    "    elif x== 'Jeddah, Kingdom of Saudi Arabi':\n",
    "        locations.append(x)\n",
    "    elif x== 'المدينة المنورة, المملكة العرب':\n",
    "        locations.append(x)\n",
    "    elif x== 'الاحساء':\n",
    "        locations.append(x)\n",
    "    elif x== 'المدينة المنورة':\n",
    "        locations.append(x)\n",
    "    elif x== 'القصيم, المملكة العربية السعود':\n",
    "        locations.append(x)\n",
    "    elif x== 'المدينة المنورة, المملكة العربية السعودية':\n",
    "        locations.append(x)\n",
    "    elif x== 'ابها, المملكة العربية السعودية':\n",
    "        locations.append(x)\n",
    "    elif x== 'الخبر, المملكة العربية السعودي':\n",
    "        locations.append(x)\n",
    "    elif x== 'جازان':\n",
    "        locations.append(x)\n",
    "    elif x== 'حفر الباطن, المملكة العربية السعودية':\n",
    "        locations.append(x)\n",
    "    elif x== 'المملكة العربية السعودية 🇸🇦':\n",
    "        locations.append(x)\n",
    "    elif x== 'حائل':\n",
    "        locations.append(x)\n",
    "    elif x== 'الخرج':\n",
    "        locations.append(x)\n",
    "    elif x== 'K.S.A':\n",
    "        locations.append(x)\n",
    "    elif x== 'saudi arabia':\n",
    "        locations.append(x)\n",
    "    elif x== 'جدة, مكة المكرمة':\n",
    "        locations.append(x)\n",
    "    elif x== 'المملكة العربية السعودية':\n",
    "        locations.append(x)\n",
    "    elif x== 'Al Khobar, Kingdom of Saudi Arabia':\n",
    "        locations.append(x)\n",
    "    elif x== 'ينبع, المملكة العربية السعودية':\n",
    "        locations.append(x)\n",
    "    elif x== 'القصيم, المملكة العربية السعودية':\n",
    "        locations.append(x)\n",
    "    elif x== 'Makkah Al Mukarrama, Kingdom of Saudi Arabia':\n",
    "        locations.append(x)\n",
    "    elif x== 'السعوديه':\n",
    "        locations.append(x)\n",
    "    elif x== 'الطائف, المملكة العربية السعودية':\n",
    "        locations.append(x)\n",
    "    elif x== 'جده':\n",
    "        locations.append(x)\n",
    "    elif x== 'Riyadh':\n",
    "        locations.append(x)\n",
    "    elif x== 'الطائف':\n",
    "        locations.append(x)\n",
    "    elif x== 'الاحساء, المملكة العربية السعودية':\n",
    "        locations.append(x)\n",
    "    elif x== 'السعودية العظمى':\n",
    "        locations.append(x)\n",
    "    elif x== 'جازان, المملكة العربية السعودي':\n",
    "        locations.append(x)\n",
    "    elif x== 'Dammam, Kingdom of Saudi Arabia':\n",
    "        locations.append(x)\n",
    "    elif x== 'Ahsa, Kingdom of Saudi Arabia':\n",
    "        locations.append(x)\n",
    "    elif x== 'Makkah Al Mukarrama':\n",
    "        locations.append(x)\n",
    "    elif x== 'المملكة العربية السعودية . جده':\n",
    "        locations.append(x)\n",
    "    elif x== 'بريدة':\n",
    "        locations.append(x)\n",
    "    elif x== 'المنطقة الشرقية':\n",
    "        locations.append(x)\n",
    "    elif x== 'الشرقي, المملكة العربية السعود':\n",
    "        locations.append(x)\n",
    "    elif x== 'الجوف, المملكة العربية السعودية':\n",
    "        locations.append(x)\n",
    "    elif x== 'السعودية':\n",
    "        locations.append(x)\n",
    "    elif x== 'Al Madinah Al Munawwarah':\n",
    "        locations.append(x)\n",
    "    elif x== 'الظهران':\n",
    "        locations.append(x)\n",
    "    elif x== 'Saudi Arabia':\n",
    "        locations.append(x)\n",
    "    elif x== 'المدينة المن, المملكة العربية السعودية':\n",
    "        locations.append(x)\n",
    "    elif x== 'Saudi Arabia - Riyadh':\n",
    "        locations.append(x)\n",
    "    elif x== 'خليص, المملكة العربية السعودية':\n",
    "        locations.append(x)\n",
    "    elif x== 'Dammam':\n",
    "        locations.append(x)\n",
    "    elif x== 'السعوديه العظمى':\n",
    "        locations.append(x)\n",
    "    elif x== 'Jeddah, Saudi Arabia':\n",
    "        locations.append(x)\n",
    "    elif x== 'الجوف,المملكة العربية السعودية':\n",
    "        locations.append(x)\n",
    "    elif x== 'الرياض المملكه العربيه السعودي':\n",
    "        locations.append(x)\n",
    "    elif x== 'Taif':\n",
    "        locations.append(x)\n",
    "    elif x== 'الخبر, المملكة العربية السعودية':\n",
    "        locations.append(x)\n",
    "    elif x== 'حفر الباطن':\n",
    "        locations.append(x)\n",
    "    elif x== 'السعودية العظمى':\n",
    "        locations.append(x)\n",
    "    elif x== 'Eastern, Kingdom of Saudi Arabia':\n",
    "        locations.append(x)\n",
    "    elif x== 'Almadinah Almunawarah':\n",
    "        locations.append(x)\n",
    "    elif x== 'Jeddah, Makkah Al Mukarrama':\n",
    "        locations.append(x)\n",
    "    elif x== 'محافظة الزلفي':\n",
    "        locations.append(x)\n",
    "    elif x== 'خميس مشيط':\n",
    "        locations.append(x)\n",
    "    elif x== 'Riyadh,Saudi Arabia':\n",
    "        locations.append(x)\n",
    "    elif x== 'نجران':\n",
    "        locations.append(x)\n",
    "    elif x== ', المملكة العربية السعودية':\n",
    "        locations.append(x)\n",
    "    elif x== 'تبوك':\n",
    "        locations.append(x)\n",
    "    elif x== 'RUH - KSA':\n",
    "        locations.append(x)\n",
    "    elif x== 'نجران, المملكة العربية السعودية':\n",
    "        locations.append(x)\n",
    "    elif x== 'مكه المكرمه':\n",
    "        locations.append(x)\n",
    "    elif x== 'الباحة':\n",
    "        locations.append(x)\n",
    "    elif x== 'الجوف':\n",
    "        locations.append(x)\n",
    "    elif x== 'المدينه المنورة':\n",
    "        locations.append(x)\n",
    "    elif x== 'الجبيل':\n",
    "        locations.append(x)\n",
    "    elif x== '#السعودية_العظمى':\n",
    "        locations.append(x)\n",
    "    elif x== 'جده  .المملكه العربيه السعوديه':\n",
    "        locations.append(x)\n",
    "    elif x== 'saudi arabia jeddah':\n",
    "        locations.append(x)\n",
    "    elif x== 'Saudi Arabia':\n",
    "        locations.append(x)\n",
    "    elif x== 'Dhahran':\n",
    "        locations.append(x)\n",
    "    elif x== 'Jubail Industrial City':\n",
    "        locations.append(x)\n",
    "    elif x== 'AL-HILAL':\n",
    "        locations.append(x)\n",
    "    elif x== 'نجد':\n",
    "        locations.append(x)\n",
    "    elif x== 'Taif, Kingdom of Saudi Arabia':\n",
    "        locations.append(x)\n",
    "    elif x== 'KSA, Dammam':\n",
    "        locations.append(x)\n",
    "    elif x== 'Qassim':\n",
    "        locations.append(x)\n",
    "    elif x== 'Saudi Arabia ❤️':\n",
    "        locations.append(x)\n",
    "    elif x== 'Saudi Arabia - Khobar':\n",
    "        locations.append(x)\n",
    "    elif x== 'سلمان الحزم المنطقه الشرقيه':\n",
    "        locations.append(x)\n",
    "    elif x== 'riyadh':\n",
    "        locations.append(x)\n",
    "    elif x== '🇸🇦🇸🇦 الجوف 🇸🇦🇸🇦':\n",
    "        locations.append(x)\n",
    "    elif x== 'مكة المكرمة':\n",
    "        locations.append(x)\n",
    "    elif x== 'Dammam, Kingdom of Saudi Arabi':\n",
    "        locations.append(x)\n",
    "    elif x== 'بريدة, المملكة العربية السعودية':\n",
    "        locations.append(x)\n",
    "    elif x== 'الشرقي':\n",
    "        locations.append(x)\n",
    "    elif x== 'دومة الجندل, المملكة العربية السعودية':\n",
    "        locations.append(x)\n",
    "    elif x== '':\n",
    "        locations.append(x)\n",
    "    elif x== 'محافظة الخرمه ▪️ مركز الغريف':\n",
    "        locations.append(x)\n",
    "    elif x== 'الأحساء':\n",
    "        locations.append(x)\n",
    "    elif x== 'الـرياض،  عاصمة القرار العربي':\n",
    "        locations.append(x)\n",
    "    elif x== 'الزلفي, المملكة العربية السعودية':\n",
    "        locations.append(x)\n",
    "    elif x== 'رابغ, المملكة العربية السعودية':\n",
    "        locations.append(x)\n",
    "    elif x== 'بيشة, المملكة العربية السعودية':\n",
    "        locations.append(x)\n",
    "    elif x== 'عرعر, المملكة العربية السعودية':\n",
    "        locations.append(x)\n",
    "    elif x== 'Buraydah':\n",
    "        locations.append(x)\n",
    "    elif x== 'الاحساء, المملكة العربية السعو':\n",
    "        locations.append(x)\n",
    "    elif x== 'Jubail Industrial City, Kingdom of Saudi Arabia':\n",
    "        locations.append(x)\n",
    "    elif x== 'القريات':\n",
    "        locations.append(x)\n",
    "    elif x== 'السعوديه.             حائل':\n",
    "        locations.append(x)\n",
    "    elif x== 'المدينة المنورة':\n",
    "        locations.append(x)\n",
    "    elif x== 'Saudi Arabia - Makkah':\n",
    "        locations.append(x)\n",
    "    elif x== 'حفر الباطن,':\n",
    "        locations.append(x)\n",
    "    elif x== 'المدينه المنوره':\n",
    "        locations.append(x)\n",
    "    elif x== 'رأس تنورة, المملكة العربية السعودية':\n",
    "        locations.append(x)\n",
    "    elif x== 'مدينة الجبيل الصناعية, المملكة':\n",
    "        locations.append(x)\n",
    "    elif x== 'مدينة الجبيل الصناعية':\n",
    "        locations.append(x)\n",
    "    elif x== 'Eastern':\n",
    "        locations.append(x)\n",
    "    elif x== 'بقيق, المملكة العربية السعودية':\n",
    "        locations.append(x)\n",
    "    elif x== 'Ksa':\n",
    "        locations.append(x)\n",
    "    elif x== 'جده':\n",
    "        locations.append(x)\n",
    "    elif x== 'السعوديه العضمى':\n",
    "        locations.append(x)\n",
    "    elif x== 'الجبيل, المملكة العربية السعود':\n",
    "        locations.append(x)\n",
    "    elif x== 'الخفجي':\n",
    "        locations.append(x)\n",
    "    elif x== 'حفرالباطن':\n",
    "        locations.append(x)\n",
    "    elif x== 'القصيم':\n",
    "        locations.append(x)\n",
    "    elif x== 'الخرج, المملكة العربية السعودي':\n",
    "        locations.append(x)\n",
    "    elif x== 'الطائف-مكة المكرمة-السعودية':\n",
    "        locations.append(x)\n",
    "    elif x== 'Saudi arabia':\n",
    "        locations.append(x)\n",
    "    elif x== 'السعودية - حائل 🇸🇦':\n",
    "        locations.append(x)\n",
    "    elif x== 'Hail':\n",
    "        locations.append(x)\n",
    "    elif x== 'الشمال, المملكة العربية السعودية':\n",
    "        locations.append(x)\n",
    "    elif x== 'Riyadh,Kingdom of Saudi Arabia':\n",
    "        locations.append(x)\n",
    "    elif x== 'ابها':\n",
    "        locations.append(x)\n",
    "    elif x== 'السعودية - الرياض':\n",
    "        locations.append(x)\n",
    "    elif x== 'Saudia Arabia':\n",
    "        locations.append(x)\n",
    "    elif x== 'الباحة, المملكة العربية السعود':\n",
    "        locations.append(x)\n",
    "    elif x== 'عفيف':\n",
    "        locations.append(x)\n",
    "    elif x== 'عفيف, المملكة العربية السعودية':\n",
    "        locations.append(x)\n",
    "    elif x== 'الدوادمي, المملكة العربية السعودية':\n",
    "        locations.append(x)\n",
    "    elif x== '#السعودية_العظمى 💚':\n",
    "        locations.append(x)\n",
    "    elif x== 'القريات, المملكة العربية السعودية':\n",
    "        locations.append(x)\n",
    "    elif x== 'جلاجل,المملكة العربية السعودية':\n",
    "        locations.append(x)\n",
    "    elif x== 'المجمعة':\n",
    "        locations.append(x)\n",
    "    elif x== 'أخبار عالمية ومحلية':\n",
    "        locations.append(x)\n",
    "    elif x== 'السعودية / الرياض':\n",
    "        locations.append(x)\n",
    "    elif x== 'المدينة المنورة, جده':\n",
    "        locations.append(x)\n",
    "    elif x== \"مركزجدم_بني فهم\": ###\n",
    "        locations.append(x)\n",
    "    elif x== 'حفر الباطن, المملكة العربية ال':\n",
    "        locations.append(x)\n",
    "    elif x== '':\n",
    "        locations.append(x)\n",
    "    elif x== 'Dammam, Eastern':\n",
    "        locations.append(x)\n",
    "    elif x== 'الرياض,':\n",
    "        locations.append(x)\n",
    "    elif x== 'الظهران, المملكة العربية السعودية':\n",
    "        locations.append(x)\n",
    "    elif x== 'المملكة العربية السعوديه':\n",
    "        locations.append(x)\n",
    "    elif x== 'بريدة, المملكة العربية السعودي':\n",
    "        locations.append(x)\n",
    "    elif x== 'Jubail':\n",
    "        locations.append(x)\n",
    "    elif x== 'السعوديه العظمى':\n",
    "        locations.append(x)\n",
    "    elif x== 'الرس, المملكة العربية السعودية':\n",
    "        locations.append(x)\n",
    "    elif x== 'Makkah':\n",
    "        locations.append(x)\n",
    "    elif x== 'الطائف':\n",
    "        locations.append(x)\n",
    "    elif x== '#المنطقة_الشرقية':\n",
    "        locations.append(x)\n",
    "    elif x== 'الزعيم حب لاينتهي':\n",
    "        locations.append(x)\n",
    "    elif x== 'Al Khobar, Eastern':\n",
    "        locations.append(x)\n",
    "    elif x== 'مكة':\n",
    "        locations.append(x)\n",
    "    elif x== 'Saudi Arabia, Tabuk':\n",
    "        locations.append(x)\n",
    "    elif x== '#معاً_ضد_الارهاب_والفكر_الضال':\n",
    "        locations.append(x)\n",
    "    elif x== 'المدينة المن':\n",
    "        locations.append(x)\n",
    "    elif x== '\" السعودية العظمى \"':\n",
    "        locations.append(x)\n",
    "    elif x== 'Abha, Kingdom of Saudi Arabia':\n",
    "        locations.append(x)\n",
    "    elif x== 'Makkah Al Mukarrama, Kingdom o':\n",
    "        locations.append(x)\n",
    "    elif x== 'Kingdom of Saudi Arabia 🇸🇦':\n",
    "        locations.append(x)\n",
    "    elif x== 'ديار العز':\n",
    "        locations.append(x)\n",
    "    elif x== '🇸🇦 𝙎𝘼𝙐𝘿𝙄 𝘼𝙍𝘼𝘽𝙄𝘼':\n",
    "        locations.append(x)\n",
    "    elif x== 'الجبيل, المملكة العربية السعودية':\n",
    "        locations.append(x)\n",
    "    elif x== 'saudi arabi':\n",
    "        locations.append(x)\n",
    "    elif x== 'k.s.a':\n",
    "        locations.append(x)\n",
    "    elif x== '#الرياض وداعاً':\n",
    "        locations.append(x)\n",
    "    elif x== 'جدة':\n",
    "        locations.append(x)\n",
    "    elif x== 'Dhahran, Kingdom of Saudi Arabia':\n",
    "        locations.append(x)\n",
    "    elif x== 'Dammam':\n",
    "        locations.append(x)\n",
    "    elif x== 'Qatif, Kingdom of Saudi Arabia':\n",
    "        locations.append(x)\n",
    "    elif x== 'الخرج, المملكة العربية السعودية':\n",
    "        locations.append(x)\n",
    "    elif x== 'Riyahd':\n",
    "        locations.append(x)\n",
    "    elif x== 'السعودية العظمى':\n",
    "        locations.append(x)\n",
    "    elif x== '26.441162,50.109014':\n",
    "        locations.append(x)\n",
    "    elif x== 'السعودية العظمى 🇸🇦':\n",
    "        locations.append(x)\n",
    "    elif x== 'Saudi Arabia, Riyadh':\n",
    "        locations.append(x)\n",
    "    elif x== 'riyadh. Saudi Arabia':\n",
    "        locations.append(x)\n",
    "    elif x== 'الشرقيه':\n",
    "        locations.append(x)\n",
    "    elif x== 'تيماء':\n",
    "        locations.append(x)\n",
    "    elif x== 'رفحاء':\n",
    "        locations.append(x)\n",
    "    elif x== 'السعودية العظمى🇸🇦':\n",
    "        locations.append(x)\n",
    "    elif x== 'jeddah':\n",
    "        locations.append(x)\n",
    "    elif x== 'محايل, المملكة العربية السعودية':\n",
    "        locations.append(x)\n",
    "    elif x== 'k.S.A':\n",
    "        locations.append(x)\n",
    "    elif x== 'جدة, المملكة العربية السعودية':\n",
    "        locations.append(x)\n",
    "    elif x== 'UK - KSA':\n",
    "        locations.append(x)\n",
    "    elif x== 'KSA':\n",
    "        locations.append(x)\n",
    "    elif x== 'الكويت/السعوديه':\n",
    "        locations.append(x)\n",
    "    elif x== 'المنطقة الشرقية - الدمام':\n",
    "        locations.append(x)\n",
    "    elif x== 'الرياض مخرج:14ط عمر عبد العزيز':\n",
    "        locations.append(x)\n",
    "    elif x== 'ديرتي ديرة كريمين الخصالي 💚❤':\n",
    "        locations.append(x)\n",
    "    elif x== 'The kingdom of Saudi Arabia':\n",
    "        locations.append(x)\n",
    "    elif x== 'ثول, المملكة العربية السعودية':\n",
    "        locations.append(x)\n",
    "    elif x== 'حائل':\n",
    "        locations.append(x)\n",
    "    elif x== 'املج, المملكة العربية السعودية':\n",
    "        locations.append(x)\n",
    "    elif x== 'عنيزة':\n",
    "        locations.append(x)\n",
    "    elif x== 'Saudi Arabia 🇸🇦':\n",
    "        locations.append(x)\n",
    "    elif x== 'المملكة العربية السعودية❤':\n",
    "        locations.append(x)\n",
    "    elif x== 'المملكة العربية السعودية-الريا':\n",
    "        locations.append(x)\n",
    "    elif x== 'المدينه':\n",
    "        locations.append(x)\n",
    "    elif x== 'حايل':\n",
    "        locations.append(x)\n",
    "    elif x== 'القصيم - بريده':\n",
    "        locations.append(x)\n",
    "    elif x== '#السعودية_العظمى':\n",
    "        locations.append(x)\n",
    "    elif x== 'Riyadh - Saudi Arabia':\n",
    "        locations.append(x)\n",
    "    elif x== 'kingdom of saudi arabia':\n",
    "        locations.append(x)\n",
    "    elif x== '🇸🇦 وسط قلب السعوديه العظمى':\n",
    "        locations.append(x)\n",
    "    elif x== 'الرياض ♡':\n",
    "        locations.append(x)\n",
    "    elif x== 'مدينة الجبيل الصناعية, المملكة العربية السعودية':\n",
    "        locations.append(x)\n",
    "    elif x== 'منطقة الرياض':\n",
    "        locations.append(x)\n",
    "    elif x== 'Jeddah':\n",
    "        locations.append(x)\n",
    "    elif x== 'تربة, المملكة العربية السعودية':\n",
    "        locations.append(x)\n",
    "    elif x== 'الجموم, المملكة العربية السعودية':\n",
    "        locations.append(x)\n",
    "    elif x== 'الزلفي':\n",
    "        locations.append(x)\n",
    "    elif x== 'ينبع البحر':\n",
    "        locations.append(x)\n",
    "    elif x== 'Riyadh, SA':\n",
    "        locations.append(x)\n",
    "    elif x== 'الرياض - محافظة الرين':\n",
    "        locations.append(x)\n",
    "    elif x== 'صفوى, المملكة العربية السعودية':\n",
    "        locations.append(x)\n",
    "    elif x== 'الشفا - الطائف':\n",
    "        locations.append(x)\n",
    "    elif x== 'Saudi Arabia - Dammam':\n",
    "        locations.append(x)\n",
    "    elif x== 'المجمعة, المملكة العربية السعودية':\n",
    "        locations.append(x)\n",
    "    elif x== 'الرياض فرحان بن عايد العنزي':\n",
    "        locations.append(x)\n",
    "    elif x== 'alkhubar ,saudi arabia ksa❤️':\n",
    "        locations.append(x)\n",
    "    elif x== 'القنفذة, المملكة العربية السعودية':\n",
    "        locations.append(x)\n",
    "    elif x== 'SAUDI ARABIA':\n",
    "        locations.append(x)\n",
    "    elif x== 'المملكةالعربيةالسعودية':\n",
    "        locations.append(x)\n",
    "    elif x== 'KSA                 ALKhobar':\n",
    "        locations.append(x)\n",
    "    elif x== 'القصيم - بريدة':\n",
    "        locations.append(x)\n",
    "    elif x== 'طيبة - تبوك':\n",
    "        locations.append(x)\n",
    "    elif x== 'المملكه العربيه السعوديه':\n",
    "        locations.append(x)\n",
    "    elif x== 'الشرقية , المملكة العربية السعودية':\n",
    "        locations.append(x)\n",
    "    elif x== 'Saudi.':\n",
    "        locations.append(x)\n",
    "    elif x== 'Riyadh KSA':\n",
    "        locations.append(x)\n",
    "    elif x== 'makkah. saudia arabia':\n",
    "        locations.append(x)\n",
    "    elif x== 'الباحة, جدة , KSA 🇸🇦':\n",
    "        locations.append(x)\n",
    "    elif x== 'kingdom of Saudi Arabia':\n",
    "        locations.append(x)\n",
    "    elif x== 'Madinah&Riyadh':\n",
    "        locations.append(x)\n",
    "    elif x== 'المدينة المنورة,':\n",
    "        locations.append(x)\n",
    "    elif x== 'القويعية, المملكة العربية السع':\n",
    "        locations.append(x)\n",
    "    elif x== 'المملكه العربية السعودية':\n",
    "        locations.append(x)\n",
    "    elif x== 'الرياض, المملكةالعربيةالسعودية':\n",
    "        locations.append(x)\n",
    "    elif x== 'عنيزة, القصيم':\n",
    "        locations.append(x)\n",
    "    elif x== 'القطيف':\n",
    "        locations.append(x)\n",
    "    elif x== 'جدة':\n",
    "        locations.append(x)\n",
    "    elif x== 'الخبر- المنطقة الشرقيه':\n",
    "        locations.append(x)\n",
    "    elif x== 'حائل,  مصوره':\n",
    "        locations.append(x)\n",
    "    elif x== 'المملكة العربية السعودية 💚':\n",
    "        locations.append(x)\n",
    "    elif x== 'الباحة, المملكة العربية السعودية':\n",
    "        locations.append(x)\n",
    "    elif x== 'جده - لكن الروح في أبها':\n",
    "        locations.append(x)\n",
    "    elif x== ' السعودية _ المدينة المنورة':\n",
    "        locations.append(x)\n",
    "    elif x== '🇸🇦':\n",
    "        locations.append(x)\n",
    "    elif x== 'المملكة العربية السعودية 🇸🇦':\n",
    "        locations.append(x)\n",
    "    elif x== 'السعودية  . الرياض . أشيقر':\n",
    "        locations.append(x)\n",
    "    elif x== 'الهلال':\n",
    "        locations.append(x)\n",
    "    elif x== 'الزعيم  عشقي للأبد':\n",
    "        locations.append(x)\n",
    "    elif x== '~ \" مكتبات و معلومات \"( مكه )':\n",
    "        locations.append(x)\n",
    "    elif x== 'Al Madinah Al Munawwarah, Kingdom of Saudi Arabia':\n",
    "        locations.append(x)\n",
    "    elif x== 'Tabuk':\n",
    "        locations.append(x)\n",
    "    elif x== 'الهيئة الملكية الجبيل الصناعية':\n",
    "        locations.append(x)\n",
    "    elif x== 'Makkah, Saudi Arabia':\n",
    "        locations.append(x)\n",
    "    elif x== ' السعودية - جدة':\n",
    "        locations.append(x)\n",
    "    elif x== 'Kingdom Of Saudi Arabia':\n",
    "        locations.append(x)\n",
    "    elif x== 'makkah':\n",
    "        locations.append(x)\n",
    "    elif x== 'الرياض ... ❤':\n",
    "        locations.append(x)\n",
    "    elif x== 'حائل المملكة العربية السعودية':\n",
    "        locations.append(x)\n",
    "    elif x== 'خميس مشيط .. السعودية':\n",
    "        locations.append(x)\n",
    "    elif x== 'أبها':\n",
    "        locations.append(x)\n",
    "    elif x== 'JEDDAH SAUDI ARABIA':\n",
    "        locations.append(x)\n",
    "    elif x== 'سكاكا':\n",
    "        locations.append(x)\n",
    "    elif x== 'مكة المكرمة - ينبع':\n",
    "        locations.append(x)\n",
    "    elif x== ' السعودية.. جدة':\n",
    "        locations.append(x)\n",
    "    elif x== '#Saudivision2030':\n",
    "        locations.append(x)\n",
    "    elif x== 'الدمام':\n",
    "        locations.append(x)\n",
    "    elif x== 'جازان, المملكة العربية السعودية':\n",
    "        locations.append(x)\n",
    "    elif x== 'المدينة المنوره':\n",
    "        locations.append(x)\n",
    "    elif x== 'السعودية العُظمى🇸🇦✨.':\n",
    "        locations.append(x)\n",
    "    elif x== 'الرياض,المملكة العربيةالسعودية':\n",
    "        locations.append(x)\n",
    "    elif x== 'جدة,':\n",
    "        locations.append(x)\n",
    "    elif x== 'الرياض المملكة العربية السعودي':\n",
    "        locations.append(x)\n",
    "    elif x== 'Riyadh Saudi Arabia':\n",
    "        locations.append(x)\n",
    "    elif x== 'جيزانن':\n",
    "        locations.append(x)\n",
    "    elif x== 'المملكة العربية السعودية':\n",
    "        locations.append(x)\n",
    "    elif x== 'المملكة العربية السعودية جده':\n",
    "        locations.append(x)\n",
    "    elif x== 'Yanbu Industrial City':\n",
    "        locations.append(x)\n",
    "    elif x== 'العقيق':\n",
    "        locations.append(x)\n",
    "    elif x== 'الدمام':\n",
    "        locations.append(x)\n",
    "        \n",
    "\n",
    "        \n",
    "    "
   ]
  },
  {
   "cell_type": "code",
   "execution_count": null,
   "metadata": {},
   "outputs": [],
   "source": []
  },
  {
   "cell_type": "code",
   "execution_count": 220,
   "metadata": {},
   "outputs": [
    {
     "data": {
      "text/plain": [
       "13135"
      ]
     },
     "execution_count": 220,
     "metadata": {},
     "output_type": "execute_result"
    }
   ],
   "source": [
    "len(locations)"
   ]
  },
  {
   "cell_type": "code",
   "execution_count": 237,
   "metadata": {},
   "outputs": [],
   "source": [
    "# locations"
   ]
  },
  {
   "cell_type": "code",
   "execution_count": null,
   "metadata": {},
   "outputs": [],
   "source": []
  },
  {
   "cell_type": "code",
   "execution_count": 238,
   "metadata": {
    "scrolled": false
   },
   "outputs": [],
   "source": [
    "## to count the unique locations\n",
    "\n",
    "\n",
    "# new_v = Counter(locations).most_common()\n",
    "# new_v = new_v[::-1] #this sorts the list in ascending order\n",
    "\n",
    "# for i, c in new_v:\n",
    "#     print (i,\"count:   \", c)"
   ]
  },
  {
   "cell_type": "code",
   "execution_count": 168,
   "metadata": {},
   "outputs": [
    {
     "data": {
      "text/plain": [
       "2912"
      ]
     },
     "execution_count": 168,
     "metadata": {},
     "output_type": "execute_result"
    }
   ],
   "source": [
    "# count the total unique locations\n",
    "\n",
    "len(new_v)"
   ]
  },
  {
   "cell_type": "code",
   "execution_count": 169,
   "metadata": {},
   "outputs": [],
   "source": [
    "# create list to store the account names\n",
    "\n",
    "names=[]"
   ]
  },
  {
   "cell_type": "code",
   "execution_count": 170,
   "metadata": {},
   "outputs": [],
   "source": [
    "# for loop for the names\n",
    "\n",
    "for n in df1['user'] :\n",
    "    x= eval(n).get('name')\n",
    "    names.append(x)"
   ]
  },
  {
   "cell_type": "code",
   "execution_count": 222,
   "metadata": {
    "scrolled": false
   },
   "outputs": [],
   "source": [
    "# names"
   ]
  },
  {
   "cell_type": "code",
   "execution_count": 239,
   "metadata": {},
   "outputs": [
    {
     "ename": "SyntaxError",
     "evalue": "unexpected EOF while parsing (<ipython-input-239-57ca5e8d98b2>, line 7)",
     "output_type": "error",
     "traceback": [
      "\u001b[1;36m  File \u001b[1;32m\"<ipython-input-239-57ca5e8d98b2>\"\u001b[1;36m, line \u001b[1;32m7\u001b[0m\n\u001b[1;33m    #     print (a,\"for   \", b)\u001b[0m\n\u001b[1;37m                               ^\u001b[0m\n\u001b[1;31mSyntaxError\u001b[0m\u001b[1;31m:\u001b[0m unexpected EOF while parsing\n"
     ]
    }
   ],
   "source": [
    "# count the unique names \n",
    "\n",
    "new_vals = Counter(names).most_common()\n",
    "new_vals = new_vals[::-1] #this sorts the list in ascending order\n",
    "\n",
    "for a, b in new_vals:\n",
    "    print (a,\"for   \", b)"
   ]
  },
  {
   "cell_type": "code",
   "execution_count": 242,
   "metadata": {},
   "outputs": [],
   "source": [
    "# create for loop to check the tweets in Saudi Arabia\n",
    "\n",
    "for i in locations:\n",
    "    print (df1['full_text'][i])\n",
    "   "
   ]
  },
  {
   "cell_type": "code",
   "execution_count": 245,
   "metadata": {},
   "outputs": [
    {
     "ename": "KeyError",
     "evalue": "0",
     "output_type": "error",
     "traceback": [
      "\u001b[1;31m---------------------------------------------------------------------------\u001b[0m",
      "\u001b[1;31mKeyError\u001b[0m                                  Traceback (most recent call last)",
      "\u001b[1;32m~\\Anaconda3\\lib\\site-packages\\pandas\\core\\indexes\\base.py\u001b[0m in \u001b[0;36mget_loc\u001b[1;34m(self, key, method, tolerance)\u001b[0m\n\u001b[0;32m   2896\u001b[0m             \u001b[1;32mtry\u001b[0m\u001b[1;33m:\u001b[0m\u001b[1;33m\u001b[0m\u001b[1;33m\u001b[0m\u001b[0m\n\u001b[1;32m-> 2897\u001b[1;33m                 \u001b[1;32mreturn\u001b[0m \u001b[0mself\u001b[0m\u001b[1;33m.\u001b[0m\u001b[0m_engine\u001b[0m\u001b[1;33m.\u001b[0m\u001b[0mget_loc\u001b[0m\u001b[1;33m(\u001b[0m\u001b[0mkey\u001b[0m\u001b[1;33m)\u001b[0m\u001b[1;33m\u001b[0m\u001b[1;33m\u001b[0m\u001b[0m\n\u001b[0m\u001b[0;32m   2898\u001b[0m             \u001b[1;32mexcept\u001b[0m \u001b[0mKeyError\u001b[0m\u001b[1;33m:\u001b[0m\u001b[1;33m\u001b[0m\u001b[1;33m\u001b[0m\u001b[0m\n",
      "\u001b[1;32mpandas\\_libs\\index.pyx\u001b[0m in \u001b[0;36mpandas._libs.index.IndexEngine.get_loc\u001b[1;34m()\u001b[0m\n",
      "\u001b[1;32mpandas\\_libs\\index.pyx\u001b[0m in \u001b[0;36mpandas._libs.index.IndexEngine.get_loc\u001b[1;34m()\u001b[0m\n",
      "\u001b[1;32mpandas\\_libs\\hashtable_class_helper.pxi\u001b[0m in \u001b[0;36mpandas._libs.hashtable.PyObjectHashTable.get_item\u001b[1;34m()\u001b[0m\n",
      "\u001b[1;32mpandas\\_libs\\hashtable_class_helper.pxi\u001b[0m in \u001b[0;36mpandas._libs.hashtable.PyObjectHashTable.get_item\u001b[1;34m()\u001b[0m\n",
      "\u001b[1;31mKeyError\u001b[0m: 0",
      "\nDuring handling of the above exception, another exception occurred:\n",
      "\u001b[1;31mKeyError\u001b[0m                                  Traceback (most recent call last)",
      "\u001b[1;32m<ipython-input-245-692059bf7d21>\u001b[0m in \u001b[0;36m<module>\u001b[1;34m\u001b[0m\n\u001b[0;32m      1\u001b[0m \u001b[1;32mfor\u001b[0m \u001b[0mi\u001b[0m \u001b[1;32min\u001b[0m \u001b[0mrange\u001b[0m\u001b[1;33m(\u001b[0m\u001b[0mlen\u001b[0m\u001b[1;33m(\u001b[0m\u001b[0mdf1\u001b[0m\u001b[1;33m)\u001b[0m\u001b[1;33m)\u001b[0m\u001b[1;33m:\u001b[0m\u001b[1;33m\u001b[0m\u001b[1;33m\u001b[0m\u001b[0m\n\u001b[1;32m----> 2\u001b[1;33m     \u001b[0mprint\u001b[0m\u001b[1;33m(\u001b[0m\u001b[0mdf1\u001b[0m\u001b[1;33m[\u001b[0m\u001b[0mi\u001b[0m\u001b[1;33m]\u001b[0m\u001b[1;33m)\u001b[0m\u001b[1;33m\u001b[0m\u001b[1;33m\u001b[0m\u001b[0m\n\u001b[0m",
      "\u001b[1;32m~\\Anaconda3\\lib\\site-packages\\pandas\\core\\frame.py\u001b[0m in \u001b[0;36m__getitem__\u001b[1;34m(self, key)\u001b[0m\n\u001b[0;32m   2978\u001b[0m             \u001b[1;32mif\u001b[0m \u001b[0mself\u001b[0m\u001b[1;33m.\u001b[0m\u001b[0mcolumns\u001b[0m\u001b[1;33m.\u001b[0m\u001b[0mnlevels\u001b[0m \u001b[1;33m>\u001b[0m \u001b[1;36m1\u001b[0m\u001b[1;33m:\u001b[0m\u001b[1;33m\u001b[0m\u001b[1;33m\u001b[0m\u001b[0m\n\u001b[0;32m   2979\u001b[0m                 \u001b[1;32mreturn\u001b[0m \u001b[0mself\u001b[0m\u001b[1;33m.\u001b[0m\u001b[0m_getitem_multilevel\u001b[0m\u001b[1;33m(\u001b[0m\u001b[0mkey\u001b[0m\u001b[1;33m)\u001b[0m\u001b[1;33m\u001b[0m\u001b[1;33m\u001b[0m\u001b[0m\n\u001b[1;32m-> 2980\u001b[1;33m             \u001b[0mindexer\u001b[0m \u001b[1;33m=\u001b[0m \u001b[0mself\u001b[0m\u001b[1;33m.\u001b[0m\u001b[0mcolumns\u001b[0m\u001b[1;33m.\u001b[0m\u001b[0mget_loc\u001b[0m\u001b[1;33m(\u001b[0m\u001b[0mkey\u001b[0m\u001b[1;33m)\u001b[0m\u001b[1;33m\u001b[0m\u001b[1;33m\u001b[0m\u001b[0m\n\u001b[0m\u001b[0;32m   2981\u001b[0m             \u001b[1;32mif\u001b[0m \u001b[0mis_integer\u001b[0m\u001b[1;33m(\u001b[0m\u001b[0mindexer\u001b[0m\u001b[1;33m)\u001b[0m\u001b[1;33m:\u001b[0m\u001b[1;33m\u001b[0m\u001b[1;33m\u001b[0m\u001b[0m\n\u001b[0;32m   2982\u001b[0m                 \u001b[0mindexer\u001b[0m \u001b[1;33m=\u001b[0m \u001b[1;33m[\u001b[0m\u001b[0mindexer\u001b[0m\u001b[1;33m]\u001b[0m\u001b[1;33m\u001b[0m\u001b[1;33m\u001b[0m\u001b[0m\n",
      "\u001b[1;32m~\\Anaconda3\\lib\\site-packages\\pandas\\core\\indexes\\base.py\u001b[0m in \u001b[0;36mget_loc\u001b[1;34m(self, key, method, tolerance)\u001b[0m\n\u001b[0;32m   2897\u001b[0m                 \u001b[1;32mreturn\u001b[0m \u001b[0mself\u001b[0m\u001b[1;33m.\u001b[0m\u001b[0m_engine\u001b[0m\u001b[1;33m.\u001b[0m\u001b[0mget_loc\u001b[0m\u001b[1;33m(\u001b[0m\u001b[0mkey\u001b[0m\u001b[1;33m)\u001b[0m\u001b[1;33m\u001b[0m\u001b[1;33m\u001b[0m\u001b[0m\n\u001b[0;32m   2898\u001b[0m             \u001b[1;32mexcept\u001b[0m \u001b[0mKeyError\u001b[0m\u001b[1;33m:\u001b[0m\u001b[1;33m\u001b[0m\u001b[1;33m\u001b[0m\u001b[0m\n\u001b[1;32m-> 2899\u001b[1;33m                 \u001b[1;32mreturn\u001b[0m \u001b[0mself\u001b[0m\u001b[1;33m.\u001b[0m\u001b[0m_engine\u001b[0m\u001b[1;33m.\u001b[0m\u001b[0mget_loc\u001b[0m\u001b[1;33m(\u001b[0m\u001b[0mself\u001b[0m\u001b[1;33m.\u001b[0m\u001b[0m_maybe_cast_indexer\u001b[0m\u001b[1;33m(\u001b[0m\u001b[0mkey\u001b[0m\u001b[1;33m)\u001b[0m\u001b[1;33m)\u001b[0m\u001b[1;33m\u001b[0m\u001b[1;33m\u001b[0m\u001b[0m\n\u001b[0m\u001b[0;32m   2900\u001b[0m         \u001b[0mindexer\u001b[0m \u001b[1;33m=\u001b[0m \u001b[0mself\u001b[0m\u001b[1;33m.\u001b[0m\u001b[0mget_indexer\u001b[0m\u001b[1;33m(\u001b[0m\u001b[1;33m[\u001b[0m\u001b[0mkey\u001b[0m\u001b[1;33m]\u001b[0m\u001b[1;33m,\u001b[0m \u001b[0mmethod\u001b[0m\u001b[1;33m=\u001b[0m\u001b[0mmethod\u001b[0m\u001b[1;33m,\u001b[0m \u001b[0mtolerance\u001b[0m\u001b[1;33m=\u001b[0m\u001b[0mtolerance\u001b[0m\u001b[1;33m)\u001b[0m\u001b[1;33m\u001b[0m\u001b[1;33m\u001b[0m\u001b[0m\n\u001b[0;32m   2901\u001b[0m         \u001b[1;32mif\u001b[0m \u001b[0mindexer\u001b[0m\u001b[1;33m.\u001b[0m\u001b[0mndim\u001b[0m \u001b[1;33m>\u001b[0m \u001b[1;36m1\u001b[0m \u001b[1;32mor\u001b[0m \u001b[0mindexer\u001b[0m\u001b[1;33m.\u001b[0m\u001b[0msize\u001b[0m \u001b[1;33m>\u001b[0m \u001b[1;36m1\u001b[0m\u001b[1;33m:\u001b[0m\u001b[1;33m\u001b[0m\u001b[1;33m\u001b[0m\u001b[0m\n",
      "\u001b[1;32mpandas\\_libs\\index.pyx\u001b[0m in \u001b[0;36mpandas._libs.index.IndexEngine.get_loc\u001b[1;34m()\u001b[0m\n",
      "\u001b[1;32mpandas\\_libs\\index.pyx\u001b[0m in \u001b[0;36mpandas._libs.index.IndexEngine.get_loc\u001b[1;34m()\u001b[0m\n",
      "\u001b[1;32mpandas\\_libs\\hashtable_class_helper.pxi\u001b[0m in \u001b[0;36mpandas._libs.hashtable.PyObjectHashTable.get_item\u001b[1;34m()\u001b[0m\n",
      "\u001b[1;32mpandas\\_libs\\hashtable_class_helper.pxi\u001b[0m in \u001b[0;36mpandas._libs.hashtable.PyObjectHashTable.get_item\u001b[1;34m()\u001b[0m\n",
      "\u001b[1;31mKeyError\u001b[0m: 0"
     ]
    }
   ],
   "source": [
    "for i in range(len(df1)):\n",
    "    print(df1[i])"
   ]
  },
  {
   "cell_type": "code",
   "execution_count": null,
   "metadata": {},
   "outputs": [],
   "source": []
  }
 ],
 "metadata": {
  "kernelspec": {
   "display_name": "Python 3",
   "language": "python",
   "name": "python3"
  },
  "language_info": {
   "codemirror_mode": {
    "name": "ipython",
    "version": 3
   },
   "file_extension": ".py",
   "mimetype": "text/x-python",
   "name": "python",
   "nbconvert_exporter": "python",
   "pygments_lexer": "ipython3",
   "version": "3.7.4"
  }
 },
 "nbformat": 4,
 "nbformat_minor": 2
}
