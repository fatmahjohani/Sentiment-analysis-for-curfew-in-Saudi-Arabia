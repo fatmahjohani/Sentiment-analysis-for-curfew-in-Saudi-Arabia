{
 "cells": [
  {
   "cell_type": "markdown",
   "metadata": {},
   "source": [
    "<img src=\"http://imgur.com/1ZcRyrc.png\" style=\"float: left; margin: 20px; height: 55px\">\n",
    "\n",
    "# Capstone project : COVID-19 sentiment analysis in Saudi Arabia \n"
   ]
  },
  {
   "cell_type": "code",
   "execution_count": 7,
   "metadata": {},
   "outputs": [],
   "source": [
    "# ! pip install twarc"
   ]
  },
  {
   "cell_type": "code",
   "execution_count": 17,
   "metadata": {},
   "outputs": [],
   "source": [
    "import pandas as pd\n",
    "import numpy as np\n",
    "import matplotlib.pyplot as plt\n",
    "import seaborn as sns\n",
    "import datetime\n",
    "np.set_printoptions(precision=4)\n",
    "sns.set(font_scale=1.5)\n",
    "plt.style.use('fivethirtyeight')\n",
    "import statsmodels.api as sm  \n",
    "\n",
    "%matplotlib inline\n",
    "%config InlineBackend.figure_format = 'retina'"
   ]
  },
  {
   "cell_type": "code",
   "execution_count": 18,
   "metadata": {},
   "outputs": [],
   "source": [
    "import pandas as pd\n",
    "\n",
    "# خلك في البيت\n",
    "tweet1= pd.read_csv ('#خلك_في_البيت/23-27-march.csv')"
   ]
  },
  {
   "cell_type": "code",
   "execution_count": 19,
   "metadata": {},
   "outputs": [],
   "source": [
    "tweet2= pd.read_csv ('#خلك_في_البيت/28-31-march.csv')"
   ]
  },
  {
   "cell_type": "code",
   "execution_count": 20,
   "metadata": {},
   "outputs": [],
   "source": [
    "tweet3= pd.read_csv ('#خلك_في_البيت/01-07-april.csv')"
   ]
  },
  {
   "cell_type": "code",
   "execution_count": 21,
   "metadata": {},
   "outputs": [],
   "source": [
    "tweet4= pd.read_csv ('#خلك_في_البيت/08-14-april.csv')"
   ]
  },
  {
   "cell_type": "code",
   "execution_count": 22,
   "metadata": {},
   "outputs": [],
   "source": [
    "tweet5= pd.read_csv ('#خلك_في_البيت/15-21-april.csv')"
   ]
  },
  {
   "cell_type": "code",
   "execution_count": 23,
   "metadata": {},
   "outputs": [],
   "source": [
    "tweet6= pd.read_csv ('#خلك_في_البيت/22-26-april.csv')"
   ]
  },
  {
   "cell_type": "code",
   "execution_count": 24,
   "metadata": {},
   "outputs": [],
   "source": [
    "tweet7= pd.read_csv ('#خلك_في_البيت/27-30-april.csv')"
   ]
  },
  {
   "cell_type": "code",
   "execution_count": 25,
   "metadata": {},
   "outputs": [],
   "source": [
    "# merged_df = pd.concat([df1, df2])\n",
    "tweet= pd.concat([tweet1, tweet2, tweet3, tweet4, tweet5, tweet6, tweet7])"
   ]
  },
  {
   "cell_type": "code",
   "execution_count": 26,
   "metadata": {},
   "outputs": [
    {
     "data": {
      "text/html": [
       "<div>\n",
       "<style scoped>\n",
       "    .dataframe tbody tr th:only-of-type {\n",
       "        vertical-align: middle;\n",
       "    }\n",
       "\n",
       "    .dataframe tbody tr th {\n",
       "        vertical-align: top;\n",
       "    }\n",
       "\n",
       "    .dataframe thead th {\n",
       "        text-align: right;\n",
       "    }\n",
       "</style>\n",
       "<table border=\"1\" class=\"dataframe\">\n",
       "  <thead>\n",
       "    <tr style=\"text-align: right;\">\n",
       "      <th></th>\n",
       "      <th>handle</th>\n",
       "      <th>name</th>\n",
       "      <th>content</th>\n",
       "      <th>replies</th>\n",
       "      <th>retweets</th>\n",
       "      <th>favorite</th>\n",
       "      <th>unix_timestamp</th>\n",
       "      <th>date</th>\n",
       "      <th>url</th>\n",
       "      <th>search_url</th>\n",
       "      <th>hashtags</th>\n",
       "    </tr>\n",
       "  </thead>\n",
       "  <tbody>\n",
       "    <tr>\n",
       "      <td>0</td>\n",
       "      <td>@gnas_Alain</td>\n",
       "      <td>ױ ﻗنآصَ آﻟﻋﻳـنّ</td>\n",
       "      <td>النشيد الوطني الإماراتي يصدح عالياً من حناجر أ...</td>\n",
       "      <td>0</td>\n",
       "      <td>7</td>\n",
       "      <td>5</td>\n",
       "      <td>1585252510000</td>\n",
       "      <td>26 Mar 2020</td>\n",
       "      <td>gnas_Alain/status/1243265254315962369</td>\n",
       "      <td>https://twitter.com/search?q=(%23%D8%AE%D9%84%...</td>\n",
       "      <td>الإمارات | برنامج_التعقيم_الوطني | خلك_في_البيت</td>\n",
       "    </tr>\n",
       "    <tr>\n",
       "      <td>1</td>\n",
       "      <td>@abo_ayoob1385</td>\n",
       "      <td>د.عبدالعزيز الفايز</td>\n",
       "      <td>قال السخاوي رحمه الله : الصلاة على النبي ﷺ من ...</td>\n",
       "      <td>7</td>\n",
       "      <td>116</td>\n",
       "      <td>56</td>\n",
       "      <td>1585256900000</td>\n",
       "      <td>26 Mar 2020</td>\n",
       "      <td>abo_ayoob1385/status/1243283667528617988</td>\n",
       "      <td>https://twitter.com/search?q=(%23%D8%AE%D9%84%...</td>\n",
       "      <td>خلك_في_البيت</td>\n",
       "    </tr>\n",
       "    <tr>\n",
       "      <td>2</td>\n",
       "      <td>@AlsrkhyAlhasny</td>\n",
       "      <td>الصرخي الحسني</td>\n",
       "      <td>[وِلايَةُ الفَقِيهِ...وِلايَةُ الطّاغوت] [40] ...</td>\n",
       "      <td>3116</td>\n",
       "      <td>2816</td>\n",
       "      <td>3192</td>\n",
       "      <td>1585249845000</td>\n",
       "      <td>26 Mar 2020</td>\n",
       "      <td>AlsrkhyAlhasny/status/1243254077972078593</td>\n",
       "      <td>https://twitter.com/search?q=(%23%D8%AE%D9%84%...</td>\n",
       "      <td>NaN</td>\n",
       "    </tr>\n",
       "    <tr>\n",
       "      <td>3</td>\n",
       "      <td>@taibadv</td>\n",
       "      <td>TaibaAdv طيبة الإعلانية</td>\n",
       "      <td>شكراً لمشاركتكم...💕 #Taibadv #iloveyoumom #Mot...</td>\n",
       "      <td>0</td>\n",
       "      <td>0</td>\n",
       "      <td>0</td>\n",
       "      <td>1585257322000</td>\n",
       "      <td>26 Mar 2020</td>\n",
       "      <td>taibadv/status/1243285438967820288</td>\n",
       "      <td>https://twitter.com/search?q=(%23%D8%AE%D9%84%...</td>\n",
       "      <td>Taibadv | iloveyoumom | MothersDay | mother | ...</td>\n",
       "    </tr>\n",
       "    <tr>\n",
       "      <td>4</td>\n",
       "      <td>@P_s911</td>\n",
       "      <td>صالح 🇰🇼 💛</td>\n",
       "      <td>#خلك_في_البيت #الحجر_المنزلي #حظر_جزئي #حجر_كل...</td>\n",
       "      <td>0</td>\n",
       "      <td>2</td>\n",
       "      <td>1</td>\n",
       "      <td>1585260278000</td>\n",
       "      <td>26 Mar 2020</td>\n",
       "      <td>P_s911/status/1243297838999764992</td>\n",
       "      <td>https://twitter.com/search?q=(%23%D8%AE%D9%84%...</td>\n",
       "      <td>خلك_في_البيت | الحجر_المنزلي | حظر_جزئي | حجر_كلي</td>\n",
       "    </tr>\n",
       "  </tbody>\n",
       "</table>\n",
       "</div>"
      ],
      "text/plain": [
       "            handle                     name  \\\n",
       "0      @gnas_Alain          ױ ﻗنآصَ آﻟﻋﻳـنّ   \n",
       "1   @abo_ayoob1385       د.عبدالعزيز الفايز   \n",
       "2  @AlsrkhyAlhasny            الصرخي الحسني   \n",
       "3         @taibadv  TaibaAdv طيبة الإعلانية   \n",
       "4          @P_s911                صالح 🇰🇼 💛   \n",
       "\n",
       "                                             content  replies  retweets  \\\n",
       "0  النشيد الوطني الإماراتي يصدح عالياً من حناجر أ...        0         7   \n",
       "1  قال السخاوي رحمه الله : الصلاة على النبي ﷺ من ...        7       116   \n",
       "2  [وِلايَةُ الفَقِيهِ...وِلايَةُ الطّاغوت] [40] ...     3116      2816   \n",
       "3  شكراً لمشاركتكم...💕 #Taibadv #iloveyoumom #Mot...        0         0   \n",
       "4  #خلك_في_البيت #الحجر_المنزلي #حظر_جزئي #حجر_كل...        0         2   \n",
       "\n",
       "   favorite  unix_timestamp         date  \\\n",
       "0         5   1585252510000  26 Mar 2020   \n",
       "1        56   1585256900000  26 Mar 2020   \n",
       "2      3192   1585249845000  26 Mar 2020   \n",
       "3         0   1585257322000  26 Mar 2020   \n",
       "4         1   1585260278000  26 Mar 2020   \n",
       "\n",
       "                                         url  \\\n",
       "0      gnas_Alain/status/1243265254315962369   \n",
       "1   abo_ayoob1385/status/1243283667528617988   \n",
       "2  AlsrkhyAlhasny/status/1243254077972078593   \n",
       "3         taibadv/status/1243285438967820288   \n",
       "4          P_s911/status/1243297838999764992   \n",
       "\n",
       "                                          search_url  \\\n",
       "0  https://twitter.com/search?q=(%23%D8%AE%D9%84%...   \n",
       "1  https://twitter.com/search?q=(%23%D8%AE%D9%84%...   \n",
       "2  https://twitter.com/search?q=(%23%D8%AE%D9%84%...   \n",
       "3  https://twitter.com/search?q=(%23%D8%AE%D9%84%...   \n",
       "4  https://twitter.com/search?q=(%23%D8%AE%D9%84%...   \n",
       "\n",
       "                                            hashtags  \n",
       "0    الإمارات | برنامج_التعقيم_الوطني | خلك_في_البيت  \n",
       "1                                       خلك_في_البيت  \n",
       "2                                                NaN  \n",
       "3  Taibadv | iloveyoumom | MothersDay | mother | ...  \n",
       "4  خلك_في_البيت | الحجر_المنزلي | حظر_جزئي | حجر_كلي  "
      ]
     },
     "execution_count": 26,
     "metadata": {},
     "output_type": "execute_result"
    }
   ],
   "source": [
    "tweet.head()"
   ]
  },
  {
   "cell_type": "code",
   "execution_count": 27,
   "metadata": {},
   "outputs": [
    {
     "data": {
      "text/plain": [
       "(3290, 11)"
      ]
     },
     "execution_count": 27,
     "metadata": {},
     "output_type": "execute_result"
    }
   ],
   "source": [
    "tweet.shape"
   ]
  },
  {
   "cell_type": "code",
   "execution_count": 28,
   "metadata": {},
   "outputs": [],
   "source": [
    "# saving \n",
    "tweet= tweet.to_csv('خلك_في_البيت.csv')"
   ]
  },
  {
   "cell_type": "code",
   "execution_count": 29,
   "metadata": {},
   "outputs": [],
   "source": [
    "# الحجر المنزلي \n",
    "t1= pd.read_csv ('#الحجر_المنزلي/23-27-march.csv')"
   ]
  },
  {
   "cell_type": "code",
   "execution_count": 30,
   "metadata": {},
   "outputs": [],
   "source": [
    "t2= pd.read_csv ('#الحجر_المنزلي/28-31-march.csv')"
   ]
  },
  {
   "cell_type": "code",
   "execution_count": 31,
   "metadata": {},
   "outputs": [],
   "source": [
    "t3= pd.read_csv ('#الحجر_المنزلي/01-07-april.csv')"
   ]
  },
  {
   "cell_type": "code",
   "execution_count": 32,
   "metadata": {},
   "outputs": [],
   "source": [
    "t4= pd.read_csv ('#الحجر_المنزلي/08-14-april.csv')"
   ]
  },
  {
   "cell_type": "code",
   "execution_count": 33,
   "metadata": {},
   "outputs": [],
   "source": [
    "t5= pd.read_csv ('#الحجر_المنزلي/15-21-april.csv')"
   ]
  },
  {
   "cell_type": "code",
   "execution_count": 34,
   "metadata": {},
   "outputs": [],
   "source": [
    "t6= pd.read_csv ('#الحجر_المنزلي/22-26-april.csv')"
   ]
  },
  {
   "cell_type": "code",
   "execution_count": 35,
   "metadata": {},
   "outputs": [],
   "source": [
    "t7= pd.read_csv ('#الحجر_المنزلي/27-30-april.csv')"
   ]
  },
  {
   "cell_type": "code",
   "execution_count": 36,
   "metadata": {},
   "outputs": [],
   "source": [
    "t= pd.concat([t1, t2, t3, t4, t5, t6, t7])"
   ]
  },
  {
   "cell_type": "code",
   "execution_count": 37,
   "metadata": {},
   "outputs": [
    {
     "data": {
      "text/html": [
       "<div>\n",
       "<style scoped>\n",
       "    .dataframe tbody tr th:only-of-type {\n",
       "        vertical-align: middle;\n",
       "    }\n",
       "\n",
       "    .dataframe tbody tr th {\n",
       "        vertical-align: top;\n",
       "    }\n",
       "\n",
       "    .dataframe thead th {\n",
       "        text-align: right;\n",
       "    }\n",
       "</style>\n",
       "<table border=\"1\" class=\"dataframe\">\n",
       "  <thead>\n",
       "    <tr style=\"text-align: right;\">\n",
       "      <th></th>\n",
       "      <th>handle</th>\n",
       "      <th>name</th>\n",
       "      <th>content</th>\n",
       "      <th>replies</th>\n",
       "      <th>retweets</th>\n",
       "      <th>favorite</th>\n",
       "      <th>unix_timestamp</th>\n",
       "      <th>date</th>\n",
       "      <th>url</th>\n",
       "      <th>search_url</th>\n",
       "      <th>hashtags</th>\n",
       "    </tr>\n",
       "  </thead>\n",
       "  <tbody>\n",
       "    <tr>\n",
       "      <td>0</td>\n",
       "      <td>@nadi_m36</td>\n",
       "      <td>نادي الحي بمدرسة المقابل الإبتدائية( بنات )</td>\n",
       "      <td>دورة تجميل القطع الملبسية من ضمن فعاليات ودورا...</td>\n",
       "      <td>0</td>\n",
       "      <td>3</td>\n",
       "      <td>4</td>\n",
       "      <td>1585253475000</td>\n",
       "      <td>26 Mar 2020</td>\n",
       "      <td>nadi_m36/status/1243269305082544129</td>\n",
       "      <td>https://twitter.com/search?lf=on&amp;q=(%23%D8%A7%...</td>\n",
       "      <td>خليك_بالبيت | الحجر_المنزلي | فايروس_كورونا | ...</td>\n",
       "    </tr>\n",
       "    <tr>\n",
       "      <td>1</td>\n",
       "      <td>@Alaa16383</td>\n",
       "      <td>Alaa A. F.</td>\n",
       "      <td>#الحجر_المنزلي #استغل_فترة_العزل_فى_الدايت #ال...</td>\n",
       "      <td>0</td>\n",
       "      <td>0</td>\n",
       "      <td>2</td>\n",
       "      <td>1585266102000</td>\n",
       "      <td>26 Mar 2020</td>\n",
       "      <td>Alaa16383/status/1243322267066601477</td>\n",
       "      <td>https://twitter.com/search?lf=on&amp;q=(%23%D8%A7%...</td>\n",
       "      <td>الحجر_المنزلي | استغل_فترة_العزل_فى_الدايت | ا...</td>\n",
       "    </tr>\n",
       "    <tr>\n",
       "      <td>2</td>\n",
       "      <td>@AbuAlHarith17</td>\n",
       "      <td>أبو_الحارث 🇸🇦 #كلنا_مسؤول 🇸🇦</td>\n",
       "      <td>#واقع #مدينة يمكنك فيهاالعمل دون الخوف من العد...</td>\n",
       "      <td>0</td>\n",
       "      <td>3</td>\n",
       "      <td>2</td>\n",
       "      <td>1585260155000</td>\n",
       "      <td>26 Mar 2020</td>\n",
       "      <td>AbuAlHarith17/status/1243297320629927938</td>\n",
       "      <td>https://twitter.com/search?lf=on&amp;q=(%23%D8%A7%...</td>\n",
       "      <td>واقع | مدينة | التقنية | اين | نيوم | المملكة_...</td>\n",
       "    </tr>\n",
       "    <tr>\n",
       "      <td>3</td>\n",
       "      <td>@W0OF0OA</td>\n",
       "      <td>WAFA</td>\n",
       "      <td>• اللهم يا واسع العطاء يا منزل الشفاء يا رافع ...</td>\n",
       "      <td>0</td>\n",
       "      <td>1</td>\n",
       "      <td>0</td>\n",
       "      <td>1585263491000</td>\n",
       "      <td>26 Mar 2020</td>\n",
       "      <td>W0OF0OA/status/1243311314472222720</td>\n",
       "      <td>https://twitter.com/search?lf=on&amp;q=(%23%D8%A7%...</td>\n",
       "      <td>الحجر_المنزلي</td>\n",
       "    </tr>\n",
       "    <tr>\n",
       "      <td>4</td>\n",
       "      <td>@EIvi9</td>\n",
       "      <td>eman</td>\n",
       "      <td>لا تكذبي ،، قصيدة من كلمات كامل الشناوي كتبها ...</td>\n",
       "      <td>0</td>\n",
       "      <td>0</td>\n",
       "      <td>0</td>\n",
       "      <td>1585257430000</td>\n",
       "      <td>26 Mar 2020</td>\n",
       "      <td>EIvi9/status/1243285890199367682</td>\n",
       "      <td>https://twitter.com/search?lf=on&amp;q=(%23%D8%A7%...</td>\n",
       "      <td>نجاة_الصغيرة | الشاهيون | الحجر_المنزلي</td>\n",
       "    </tr>\n",
       "  </tbody>\n",
       "</table>\n",
       "</div>"
      ],
      "text/plain": [
       "           handle                                         name  \\\n",
       "0       @nadi_m36  نادي الحي بمدرسة المقابل الإبتدائية( بنات )   \n",
       "1      @Alaa16383                                   Alaa A. F.   \n",
       "2  @AbuAlHarith17                 أبو_الحارث 🇸🇦 #كلنا_مسؤول 🇸🇦   \n",
       "3        @W0OF0OA                                         WAFA   \n",
       "4          @EIvi9                                         eman   \n",
       "\n",
       "                                             content  replies  retweets  \\\n",
       "0  دورة تجميل القطع الملبسية من ضمن فعاليات ودورا...        0         3   \n",
       "1  #الحجر_المنزلي #استغل_فترة_العزل_فى_الدايت #ال...        0         0   \n",
       "2  #واقع #مدينة يمكنك فيهاالعمل دون الخوف من العد...        0         3   \n",
       "3  • اللهم يا واسع العطاء يا منزل الشفاء يا رافع ...        0         1   \n",
       "4  لا تكذبي ،، قصيدة من كلمات كامل الشناوي كتبها ...        0         0   \n",
       "\n",
       "   favorite  unix_timestamp         date  \\\n",
       "0         4   1585253475000  26 Mar 2020   \n",
       "1         2   1585266102000  26 Mar 2020   \n",
       "2         2   1585260155000  26 Mar 2020   \n",
       "3         0   1585263491000  26 Mar 2020   \n",
       "4         0   1585257430000  26 Mar 2020   \n",
       "\n",
       "                                        url  \\\n",
       "0       nadi_m36/status/1243269305082544129   \n",
       "1      Alaa16383/status/1243322267066601477   \n",
       "2  AbuAlHarith17/status/1243297320629927938   \n",
       "3        W0OF0OA/status/1243311314472222720   \n",
       "4          EIvi9/status/1243285890199367682   \n",
       "\n",
       "                                          search_url  \\\n",
       "0  https://twitter.com/search?lf=on&q=(%23%D8%A7%...   \n",
       "1  https://twitter.com/search?lf=on&q=(%23%D8%A7%...   \n",
       "2  https://twitter.com/search?lf=on&q=(%23%D8%A7%...   \n",
       "3  https://twitter.com/search?lf=on&q=(%23%D8%A7%...   \n",
       "4  https://twitter.com/search?lf=on&q=(%23%D8%A7%...   \n",
       "\n",
       "                                            hashtags  \n",
       "0  خليك_بالبيت | الحجر_المنزلي | فايروس_كورونا | ...  \n",
       "1  الحجر_المنزلي | استغل_فترة_العزل_فى_الدايت | ا...  \n",
       "2  واقع | مدينة | التقنية | اين | نيوم | المملكة_...  \n",
       "3                                      الحجر_المنزلي  \n",
       "4            نجاة_الصغيرة | الشاهيون | الحجر_المنزلي  "
      ]
     },
     "execution_count": 37,
     "metadata": {},
     "output_type": "execute_result"
    }
   ],
   "source": [
    "t.head()"
   ]
  },
  {
   "cell_type": "code",
   "execution_count": 38,
   "metadata": {},
   "outputs": [
    {
     "data": {
      "text/plain": [
       "(3533, 11)"
      ]
     },
     "execution_count": 38,
     "metadata": {},
     "output_type": "execute_result"
    }
   ],
   "source": [
    "t.shape"
   ]
  },
  {
   "cell_type": "code",
   "execution_count": 39,
   "metadata": {},
   "outputs": [],
   "source": [
    "# saving \n",
    "t_final= t.to_csv('الحجر_المنزلي.csv')"
   ]
  },
  {
   "cell_type": "code",
   "execution_count": 43,
   "metadata": {},
   "outputs": [],
   "source": [
    "t_final= pd.read_csv ('الحجر_المنزلي.csv')"
   ]
  },
  {
   "cell_type": "code",
   "execution_count": 44,
   "metadata": {},
   "outputs": [
    {
     "data": {
      "text/plain": [
       "(3533, 12)"
      ]
     },
     "execution_count": 44,
     "metadata": {},
     "output_type": "execute_result"
    }
   ],
   "source": [
    "t_final.shape"
   ]
  },
  {
   "cell_type": "code",
   "execution_count": 45,
   "metadata": {},
   "outputs": [],
   "source": [
    "#نبيها_صفر\n",
    "s1= pd.read_csv ('#نبيها_صفر/21-22-march.csv')"
   ]
  },
  {
   "cell_type": "code",
   "execution_count": 46,
   "metadata": {},
   "outputs": [],
   "source": [
    "s2= pd.read_csv ('#نبيها_صفر/23-27-march.csv')"
   ]
  },
  {
   "cell_type": "code",
   "execution_count": 47,
   "metadata": {},
   "outputs": [],
   "source": [
    "s3= pd.read_csv ('#نبيها_صفر/28-31-march.csv')"
   ]
  },
  {
   "cell_type": "code",
   "execution_count": 48,
   "metadata": {},
   "outputs": [],
   "source": [
    "s= pd.concat([s1, s2, s3])"
   ]
  },
  {
   "cell_type": "code",
   "execution_count": 52,
   "metadata": {},
   "outputs": [
    {
     "data": {
      "text/plain": [
       "(1543, 11)"
      ]
     },
     "execution_count": 52,
     "metadata": {},
     "output_type": "execute_result"
    }
   ],
   "source": [
    "s.shape"
   ]
  },
  {
   "cell_type": "code",
   "execution_count": 49,
   "metadata": {},
   "outputs": [],
   "source": [
    "s_final= t.to_csv('نبيها_صفر.csv')"
   ]
  },
  {
   "cell_type": "code",
   "execution_count": 50,
   "metadata": {},
   "outputs": [],
   "source": [
    "s_final= pd.read_csv ('نبيها_صفر.csv')"
   ]
  },
  {
   "cell_type": "code",
   "execution_count": 53,
   "metadata": {},
   "outputs": [
    {
     "data": {
      "text/plain": [
       "(3533, 12)"
      ]
     },
     "execution_count": 53,
     "metadata": {},
     "output_type": "execute_result"
    }
   ],
   "source": [
    "s_final.shape"
   ]
  },
  {
   "cell_type": "code",
   "execution_count": 54,
   "metadata": {},
   "outputs": [
    {
     "data": {
      "text/html": [
       "<div>\n",
       "<style scoped>\n",
       "    .dataframe tbody tr th:only-of-type {\n",
       "        vertical-align: middle;\n",
       "    }\n",
       "\n",
       "    .dataframe tbody tr th {\n",
       "        vertical-align: top;\n",
       "    }\n",
       "\n",
       "    .dataframe thead th {\n",
       "        text-align: right;\n",
       "    }\n",
       "</style>\n",
       "<table border=\"1\" class=\"dataframe\">\n",
       "  <thead>\n",
       "    <tr style=\"text-align: right;\">\n",
       "      <th></th>\n",
       "      <th>Unnamed: 0</th>\n",
       "      <th>handle</th>\n",
       "      <th>name</th>\n",
       "      <th>content</th>\n",
       "      <th>replies</th>\n",
       "      <th>retweets</th>\n",
       "      <th>favorite</th>\n",
       "      <th>unix_timestamp</th>\n",
       "      <th>date</th>\n",
       "      <th>url</th>\n",
       "      <th>search_url</th>\n",
       "      <th>hashtags</th>\n",
       "    </tr>\n",
       "  </thead>\n",
       "  <tbody>\n",
       "    <tr>\n",
       "      <td>0</td>\n",
       "      <td>0</td>\n",
       "      <td>@nadi_m36</td>\n",
       "      <td>نادي الحي بمدرسة المقابل الإبتدائية( بنات )</td>\n",
       "      <td>دورة تجميل القطع الملبسية من ضمن فعاليات ودورا...</td>\n",
       "      <td>0</td>\n",
       "      <td>3</td>\n",
       "      <td>4</td>\n",
       "      <td>1585253475000</td>\n",
       "      <td>26 Mar 2020</td>\n",
       "      <td>nadi_m36/status/1243269305082544129</td>\n",
       "      <td>https://twitter.com/search?lf=on&amp;q=(%23%D8%A7%...</td>\n",
       "      <td>خليك_بالبيت | الحجر_المنزلي | فايروس_كورونا | ...</td>\n",
       "    </tr>\n",
       "    <tr>\n",
       "      <td>1</td>\n",
       "      <td>1</td>\n",
       "      <td>@Alaa16383</td>\n",
       "      <td>Alaa A. F.</td>\n",
       "      <td>#الحجر_المنزلي #استغل_فترة_العزل_فى_الدايت #ال...</td>\n",
       "      <td>0</td>\n",
       "      <td>0</td>\n",
       "      <td>2</td>\n",
       "      <td>1585266102000</td>\n",
       "      <td>26 Mar 2020</td>\n",
       "      <td>Alaa16383/status/1243322267066601477</td>\n",
       "      <td>https://twitter.com/search?lf=on&amp;q=(%23%D8%A7%...</td>\n",
       "      <td>الحجر_المنزلي | استغل_فترة_العزل_فى_الدايت | ا...</td>\n",
       "    </tr>\n",
       "    <tr>\n",
       "      <td>2</td>\n",
       "      <td>2</td>\n",
       "      <td>@AbuAlHarith17</td>\n",
       "      <td>أبو_الحارث 🇸🇦 #كلنا_مسؤول 🇸🇦</td>\n",
       "      <td>#واقع #مدينة يمكنك فيهاالعمل دون الخوف من العد...</td>\n",
       "      <td>0</td>\n",
       "      <td>3</td>\n",
       "      <td>2</td>\n",
       "      <td>1585260155000</td>\n",
       "      <td>26 Mar 2020</td>\n",
       "      <td>AbuAlHarith17/status/1243297320629927938</td>\n",
       "      <td>https://twitter.com/search?lf=on&amp;q=(%23%D8%A7%...</td>\n",
       "      <td>واقع | مدينة | التقنية | اين | نيوم | المملكة_...</td>\n",
       "    </tr>\n",
       "    <tr>\n",
       "      <td>3</td>\n",
       "      <td>3</td>\n",
       "      <td>@W0OF0OA</td>\n",
       "      <td>WAFA</td>\n",
       "      <td>• اللهم يا واسع العطاء يا منزل الشفاء يا رافع ...</td>\n",
       "      <td>0</td>\n",
       "      <td>1</td>\n",
       "      <td>0</td>\n",
       "      <td>1585263491000</td>\n",
       "      <td>26 Mar 2020</td>\n",
       "      <td>W0OF0OA/status/1243311314472222720</td>\n",
       "      <td>https://twitter.com/search?lf=on&amp;q=(%23%D8%A7%...</td>\n",
       "      <td>الحجر_المنزلي</td>\n",
       "    </tr>\n",
       "    <tr>\n",
       "      <td>4</td>\n",
       "      <td>4</td>\n",
       "      <td>@EIvi9</td>\n",
       "      <td>eman</td>\n",
       "      <td>لا تكذبي ،، قصيدة من كلمات كامل الشناوي كتبها ...</td>\n",
       "      <td>0</td>\n",
       "      <td>0</td>\n",
       "      <td>0</td>\n",
       "      <td>1585257430000</td>\n",
       "      <td>26 Mar 2020</td>\n",
       "      <td>EIvi9/status/1243285890199367682</td>\n",
       "      <td>https://twitter.com/search?lf=on&amp;q=(%23%D8%A7%...</td>\n",
       "      <td>نجاة_الصغيرة | الشاهيون | الحجر_المنزلي</td>\n",
       "    </tr>\n",
       "  </tbody>\n",
       "</table>\n",
       "</div>"
      ],
      "text/plain": [
       "   Unnamed: 0          handle                                         name  \\\n",
       "0           0       @nadi_m36  نادي الحي بمدرسة المقابل الإبتدائية( بنات )   \n",
       "1           1      @Alaa16383                                   Alaa A. F.   \n",
       "2           2  @AbuAlHarith17                 أبو_الحارث 🇸🇦 #كلنا_مسؤول 🇸🇦   \n",
       "3           3        @W0OF0OA                                         WAFA   \n",
       "4           4          @EIvi9                                         eman   \n",
       "\n",
       "                                             content  replies  retweets  \\\n",
       "0  دورة تجميل القطع الملبسية من ضمن فعاليات ودورا...        0         3   \n",
       "1  #الحجر_المنزلي #استغل_فترة_العزل_فى_الدايت #ال...        0         0   \n",
       "2  #واقع #مدينة يمكنك فيهاالعمل دون الخوف من العد...        0         3   \n",
       "3  • اللهم يا واسع العطاء يا منزل الشفاء يا رافع ...        0         1   \n",
       "4  لا تكذبي ،، قصيدة من كلمات كامل الشناوي كتبها ...        0         0   \n",
       "\n",
       "   favorite  unix_timestamp         date  \\\n",
       "0         4   1585253475000  26 Mar 2020   \n",
       "1         2   1585266102000  26 Mar 2020   \n",
       "2         2   1585260155000  26 Mar 2020   \n",
       "3         0   1585263491000  26 Mar 2020   \n",
       "4         0   1585257430000  26 Mar 2020   \n",
       "\n",
       "                                        url  \\\n",
       "0       nadi_m36/status/1243269305082544129   \n",
       "1      Alaa16383/status/1243322267066601477   \n",
       "2  AbuAlHarith17/status/1243297320629927938   \n",
       "3        W0OF0OA/status/1243311314472222720   \n",
       "4          EIvi9/status/1243285890199367682   \n",
       "\n",
       "                                          search_url  \\\n",
       "0  https://twitter.com/search?lf=on&q=(%23%D8%A7%...   \n",
       "1  https://twitter.com/search?lf=on&q=(%23%D8%A7%...   \n",
       "2  https://twitter.com/search?lf=on&q=(%23%D8%A7%...   \n",
       "3  https://twitter.com/search?lf=on&q=(%23%D8%A7%...   \n",
       "4  https://twitter.com/search?lf=on&q=(%23%D8%A7%...   \n",
       "\n",
       "                                            hashtags  \n",
       "0  خليك_بالبيت | الحجر_المنزلي | فايروس_كورونا | ...  \n",
       "1  الحجر_المنزلي | استغل_فترة_العزل_فى_الدايت | ا...  \n",
       "2  واقع | مدينة | التقنية | اين | نيوم | المملكة_...  \n",
       "3                                      الحجر_المنزلي  \n",
       "4            نجاة_الصغيرة | الشاهيون | الحجر_المنزلي  "
      ]
     },
     "execution_count": 54,
     "metadata": {},
     "output_type": "execute_result"
    }
   ],
   "source": [
    "s_final.head()"
   ]
  },
  {
   "cell_type": "code",
   "execution_count": 55,
   "metadata": {},
   "outputs": [],
   "source": [
    "##كلنا_مسؤول\n",
    "f1= pd.read_csv ('#كلنا_مسؤول/01-07-april.csv')"
   ]
  },
  {
   "cell_type": "code",
   "execution_count": 57,
   "metadata": {},
   "outputs": [],
   "source": [
    "f2= pd.read_csv ('#كلنا_مسؤول/8-14-april.csv')"
   ]
  },
  {
   "cell_type": "code",
   "execution_count": 62,
   "metadata": {},
   "outputs": [],
   "source": [
    "f3= pd.read_csv ('#كلنا_مسؤول/15-21-april.csv')"
   ]
  },
  {
   "cell_type": "code",
   "execution_count": 67,
   "metadata": {},
   "outputs": [],
   "source": [
    "f4= pd.read_csv ('#كلنا_مسؤول/22-27-april.csv')"
   ]
  },
  {
   "cell_type": "code",
   "execution_count": 68,
   "metadata": {},
   "outputs": [],
   "source": [
    "f5= pd.read_csv ('#كلنا_مسؤول/28-30-april.csv')"
   ]
  },
  {
   "cell_type": "code",
   "execution_count": 69,
   "metadata": {},
   "outputs": [],
   "source": [
    "f= pd.concat([f1, f2, f3,f4,f5])"
   ]
  },
  {
   "cell_type": "code",
   "execution_count": 70,
   "metadata": {},
   "outputs": [
    {
     "data": {
      "text/plain": [
       "(2078, 11)"
      ]
     },
     "execution_count": 70,
     "metadata": {},
     "output_type": "execute_result"
    }
   ],
   "source": [
    "f.shape"
   ]
  },
  {
   "cell_type": "code",
   "execution_count": 71,
   "metadata": {},
   "outputs": [],
   "source": [
    "#shaving\n",
    "f_final1= t.to_csv('كلنا_مسؤول.csv')"
   ]
  },
  {
   "cell_type": "code",
   "execution_count": 72,
   "metadata": {},
   "outputs": [],
   "source": [
    "f_final= pd.read_csv ('نبيها_صفر.csv')"
   ]
  },
  {
   "cell_type": "code",
   "execution_count": 73,
   "metadata": {},
   "outputs": [
    {
     "data": {
      "text/plain": [
       "(3533, 12)"
      ]
     },
     "execution_count": 73,
     "metadata": {},
     "output_type": "execute_result"
    }
   ],
   "source": [
    "f_final.shape"
   ]
  },
  {
   "cell_type": "code",
   "execution_count": null,
   "metadata": {},
   "outputs": [],
   "source": []
  }
 ],
 "metadata": {
  "kernelspec": {
   "display_name": "Python 3",
   "language": "python",
   "name": "python3"
  },
  "language_info": {
   "codemirror_mode": {
    "name": "ipython",
    "version": 3
   },
   "file_extension": ".py",
   "mimetype": "text/x-python",
   "name": "python",
   "nbconvert_exporter": "python",
   "pygments_lexer": "ipython3",
   "version": "3.7.4"
  }
 },
 "nbformat": 4,
 "nbformat_minor": 2
}
