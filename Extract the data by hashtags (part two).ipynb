{
 "cells": [
  {
   "cell_type": "markdown",
   "metadata": {},
   "source": [
    "<img src=\"http://imgur.com/1ZcRyrc.png\" style=\"float: left; margin: 20px; height: 55px\">\n",
    "\n",
    "\n",
    "\n",
    "# Capstone : Sentiment analysis for curfew in Saudi Arabia\n",
    "\n",
    "\n",
    "\n",
    "\n",
    "\n",
    "\n",
    "\n",
    "\n",
    "### Group Member:\n",
    "\n",
    "\n",
    "- Fatimah Aljohani\n",
    "- Rawan Almalki\n",
    "- Najwa Alharbi\n",
    "\n",
    "<img src=\"https://www.al-khaleeg.com/wp-content/uploads/2020/04/IMG-20200420-WA0157.jpg\" style=\"height: 350px; width: 900px\">"
   ]
  },
  {
   "cell_type": "code",
   "execution_count": 1,
   "metadata": {},
   "outputs": [],
   "source": [
    "import numpy as np\n",
    "import pandas as pd\n",
    "import seaborn as sns"
   ]
  },
  {
   "cell_type": "code",
   "execution_count": 2,
   "metadata": {},
   "outputs": [
    {
     "name": "stderr",
     "output_type": "stream",
     "text": [
      "C:\\Users\\fatma\\Anaconda3\\lib\\site-packages\\IPython\\core\\interactiveshell.py:3058: DtypeWarning: Columns (1,9,28,33,34) have mixed types. Specify dtype option on import or set low_memory=False.\n",
      "  interactivity=interactivity, compiler=compiler, result=result)\n"
     ]
    }
   ],
   "source": [
    "#Read the dataframe for march month from day 1 intell day 31.\n",
    "df_march = pd.read_csv('datasets/df_march.csv')"
   ]
  },
  {
   "cell_type": "code",
   "execution_count": 2,
   "metadata": {},
   "outputs": [
    {
     "name": "stderr",
     "output_type": "stream",
     "text": [
      "C:\\Users\\fatma\\Anaconda3\\lib\\site-packages\\IPython\\core\\interactiveshell.py:3058: DtypeWarning: Columns (28) have mixed types. Specify dtype option on import or set low_memory=False.\n",
      "  interactivity=interactivity, compiler=compiler, result=result)\n"
     ]
    }
   ],
   "source": [
    "#Read the dataframe for april month from day 1 intell day 4.\n",
    "df_april = pd.read_csv('datasets/df_april.csv')"
   ]
  },
  {
   "cell_type": "code",
   "execution_count": 4,
   "metadata": {},
   "outputs": [
    {
     "name": "stderr",
     "output_type": "stream",
     "text": [
      "C:\\Users\\fatma\\Anaconda3\\lib\\site-packages\\ipykernel_launcher.py:2: FutureWarning: Sorting because non-concatenation axis is not aligned. A future version\n",
      "of pandas will change to not sort by default.\n",
      "\n",
      "To accept the future behavior, pass 'sort=False'.\n",
      "\n",
      "To retain the current behavior and silence the warning, pass 'sort=True'.\n",
      "\n",
      "  \n"
     ]
    }
   ],
   "source": [
    "# We merged the dataframe for both two months.\n",
    "main_df = pd.concat([df_march, df_april])"
   ]
  },
  {
   "cell_type": "code",
   "execution_count": 5,
   "metadata": {},
   "outputs": [
    {
     "name": "stdout",
     "output_type": "stream",
     "text": [
      "<class 'pandas.core.frame.DataFrame'>\n",
      "Int64Index: 628615 entries, 0 to 81182\n",
      "Data columns (total 35 columns):\n",
      "contributors                 0 non-null float64\n",
      "coordinates                  50 non-null object\n",
      "created_at                   628615 non-null object\n",
      "display_text_range           628615 non-null object\n",
      "entities                     628615 non-null object\n",
      "extended_entities            175622 non-null object\n",
      "favorite_count               628615 non-null int64\n",
      "favorited                    628615 non-null bool\n",
      "full_text                    628615 non-null object\n",
      "geo                          50 non-null object\n",
      "id                           628615 non-null int64\n",
      "id_str                       628615 non-null int64\n",
      "in_reply_to_screen_name      11435 non-null object\n",
      "in_reply_to_status_id        10945 non-null float64\n",
      "in_reply_to_status_id_str    10945 non-null float64\n",
      "in_reply_to_user_id          11435 non-null float64\n",
      "in_reply_to_user_id_str      11435 non-null float64\n",
      "is_quote_status              628615 non-null bool\n",
      "lang                         628615 non-null object\n",
      "place                        3341 non-null object\n",
      "possibly_sensitive           198921 non-null float64\n",
      "quoted_status                4402 non-null object\n",
      "quoted_status_id             17726 non-null float64\n",
      "quoted_status_id_str         17726 non-null float64\n",
      "quoted_status_permalink      17726 non-null object\n",
      "retweet_count                628615 non-null int64\n",
      "retweeted                    628615 non-null bool\n",
      "retweeted_status             530531 non-null object\n",
      "scopes                       10 non-null object\n",
      "source                       628615 non-null object\n",
      "truncated                    628615 non-null bool\n",
      "user                         628615 non-null object\n",
      "withheld_copyright           6 non-null float64\n",
      "withheld_in_countries        13 non-null object\n",
      "withheld_scope               6 non-null object\n",
      "dtypes: bool(4), float64(9), int64(4), object(18)\n",
      "memory usage: 155.9+ MB\n"
     ]
    }
   ],
   "source": [
    "# we Explore the data \n",
    "main_df.info()"
   ]
  },
  {
   "cell_type": "markdown",
   "metadata": {},
   "source": [
    "# Dfine the hashtags"
   ]
  },
  {
   "cell_type": "markdown",
   "metadata": {},
   "source": [
    "- The dataframe contains several hashtags, so we've extracted related hashtags to the curfew theme."
   ]
  },
  {
   "cell_type": "markdown",
   "metadata": {},
   "source": [
    "# خليك في البيت"
   ]
  },
  {
   "cell_type": "code",
   "execution_count": 6,
   "metadata": {},
   "outputs": [
    {
     "data": {
      "text/plain": [
       "(1933, 35)"
      ]
     },
     "execution_count": 6,
     "metadata": {},
     "output_type": "execute_result"
    }
   ],
   "source": [
    "# Extract the hashtag name frome the full_text column.\n",
    "df_athome=main_df[main_df['full_text'].str.contains(\"خليك_في_البيت\")] \n",
    "# Print the shape \n",
    "df_athome.shape"
   ]
  },
  {
   "cell_type": "code",
   "execution_count": 7,
   "metadata": {},
   "outputs": [
    {
     "data": {
      "text/plain": [
       "(696, 35)"
      ]
     },
     "execution_count": 7,
     "metadata": {},
     "output_type": "execute_result"
    }
   ],
   "source": [
    "# Remove the retweet from the data\n",
    "w=df_athome[~df_athome.full_text.str.startswith('RT')]\n",
    "w.shape"
   ]
  },
  {
   "cell_type": "code",
   "execution_count": 8,
   "metadata": {},
   "outputs": [],
   "source": [
    "# save the data in csv file.\n",
    "w.to_csv('df11.csv')"
   ]
  },
  {
   "cell_type": "code",
   "execution_count": 9,
   "metadata": {},
   "outputs": [
    {
     "data": {
      "text/plain": [
       "(696, 36)"
      ]
     },
     "execution_count": 9,
     "metadata": {},
     "output_type": "execute_result"
    }
   ],
   "source": [
    "#Read the dataframe, so we can merging the other hashtags.\n",
    "df11 = pd.read_csv('datasets/df11.csv')\n",
    "df11.shape"
   ]
  },
  {
   "cell_type": "markdown",
   "metadata": {},
   "source": [
    "# خلك بالبيت"
   ]
  },
  {
   "cell_type": "code",
   "execution_count": 10,
   "metadata": {},
   "outputs": [
    {
     "data": {
      "text/plain": [
       "(845, 35)"
      ]
     },
     "execution_count": 10,
     "metadata": {},
     "output_type": "execute_result"
    }
   ],
   "source": [
    "# Extract the hashtag name frome the full_text column.\n",
    "df_athome3=main_df[main_df['full_text'].str.contains(\"خلك_بالبيت\")] \n",
    "df_athome3.shape"
   ]
  },
  {
   "cell_type": "code",
   "execution_count": 11,
   "metadata": {},
   "outputs": [
    {
     "data": {
      "text/plain": [
       "(375, 35)"
      ]
     },
     "execution_count": 11,
     "metadata": {},
     "output_type": "execute_result"
    }
   ],
   "source": [
    "# Remove the retweet from the data\n",
    "r=df_athome3[~df_athome3.full_text.str.startswith('RT')]\n",
    "r.shape"
   ]
  },
  {
   "cell_type": "code",
   "execution_count": 12,
   "metadata": {},
   "outputs": [],
   "source": [
    "# save the data in csv file.\n",
    "r.to_csv('df22.csv')"
   ]
  },
  {
   "cell_type": "code",
   "execution_count": 13,
   "metadata": {},
   "outputs": [
    {
     "data": {
      "text/plain": [
       "(375, 36)"
      ]
     },
     "execution_count": 13,
     "metadata": {},
     "output_type": "execute_result"
    }
   ],
   "source": [
    "#Read the dataframe, so we can merging the other hashtags.\n",
    "df22 = pd.read_csv('datasets/df22.csv')\n",
    "df22.shape"
   ]
  },
  {
   "cell_type": "markdown",
   "metadata": {},
   "source": [
    "# منع التجول"
   ]
  },
  {
   "cell_type": "code",
   "execution_count": 14,
   "metadata": {},
   "outputs": [
    {
     "data": {
      "text/plain": [
       "(49700, 35)"
      ]
     },
     "execution_count": 14,
     "metadata": {},
     "output_type": "execute_result"
    }
   ],
   "source": [
    "# Extract the hashtag name frome the full_text column.\n",
    "df_Curfew=main_df[main_df['full_text'].str.contains(\"منع_التجول\")] \n",
    "df_Curfew.shape"
   ]
  },
  {
   "cell_type": "code",
   "execution_count": 15,
   "metadata": {},
   "outputs": [
    {
     "data": {
      "text/plain": [
       "(49293, 35)"
      ]
     },
     "execution_count": 15,
     "metadata": {},
     "output_type": "execute_result"
    }
   ],
   "source": [
    "# Some hashtags start before the procedure is carried out in Saudi Arabia, so the hashtags are determined by the date of the decision in Saudi Arabia.\n",
    "df = df_Curfew[(df_Curfew['created_at'] >= '2020-03-23') & (df_Curfew['created_at'] <= '2020-04-12')]\n",
    "df.shape"
   ]
  },
  {
   "cell_type": "code",
   "execution_count": 16,
   "metadata": {},
   "outputs": [
    {
     "data": {
      "text/plain": [
       "(3530, 35)"
      ]
     },
     "execution_count": 16,
     "metadata": {},
     "output_type": "execute_result"
    }
   ],
   "source": [
    "# Remove the retweet from the data\n",
    "s=df[~df.full_text.str.startswith('RT')]\n",
    "s.shape"
   ]
  },
  {
   "cell_type": "code",
   "execution_count": 17,
   "metadata": {},
   "outputs": [],
   "source": [
    "# save the data in csv file.\n",
    "s.to_csv('df33.csv')"
   ]
  },
  {
   "cell_type": "code",
   "execution_count": 19,
   "metadata": {},
   "outputs": [
    {
     "data": {
      "text/plain": [
       "(3530, 36)"
      ]
     },
     "execution_count": 19,
     "metadata": {},
     "output_type": "execute_result"
    }
   ],
   "source": [
    "#Read the dataframe, so we can merging the other hashtags.\n",
    "df33 = pd.read_csv('datasets/df33.csv')\n",
    "df33.shape"
   ]
  },
  {
   "cell_type": "markdown",
   "metadata": {},
   "source": [
    "## اعزل نفسك"
   ]
  },
  {
   "cell_type": "code",
   "execution_count": 20,
   "metadata": {},
   "outputs": [
    {
     "data": {
      "text/plain": [
       "(14683, 35)"
      ]
     },
     "execution_count": 20,
     "metadata": {},
     "output_type": "execute_result"
    }
   ],
   "source": [
    "# Extract the hashtag name frome the full_text column.\n",
    "df_youself=main_df[main_df['full_text'].str.contains(\"اعزل_نفسك\")] \n",
    "df_youself.shape"
   ]
  },
  {
   "cell_type": "code",
   "execution_count": 21,
   "metadata": {},
   "outputs": [
    {
     "data": {
      "text/plain": [
       "(14549, 35)"
      ]
     },
     "execution_count": 21,
     "metadata": {},
     "output_type": "execute_result"
    }
   ],
   "source": [
    "#Some hashtags start before the procedure is carried out in Saudi Arabia, so the hashtags are determined by the date of the decision in Saudi Arabia.\n",
    "df3 = df_youself[(df_youself['created_at'] >= '2020-03-23') & (df_youself['created_at'] <= '2020-04-12')]\n",
    "df3.shape"
   ]
  },
  {
   "cell_type": "code",
   "execution_count": 22,
   "metadata": {},
   "outputs": [
    {
     "data": {
      "text/plain": [
       "(4748, 35)"
      ]
     },
     "execution_count": 22,
     "metadata": {},
     "output_type": "execute_result"
    }
   ],
   "source": [
    "# Remove the retweet from the data\n",
    "e=df3[~df3.full_text.str.startswith('RT')]\n",
    "e.shape"
   ]
  },
  {
   "cell_type": "code",
   "execution_count": 23,
   "metadata": {},
   "outputs": [],
   "source": [
    "# save the data in csv file.\n",
    "e.to_csv('df44.csv')"
   ]
  },
  {
   "cell_type": "code",
   "execution_count": 24,
   "metadata": {},
   "outputs": [
    {
     "data": {
      "text/plain": [
       "(4748, 36)"
      ]
     },
     "execution_count": 24,
     "metadata": {},
     "output_type": "execute_result"
    }
   ],
   "source": [
    "#Read the dataframe, so we can merging the other hashtags.\n",
    "df44 = pd.read_csv('datasets/df44.csv')\n",
    "df44.shape"
   ]
  },
  {
   "cell_type": "markdown",
   "metadata": {},
   "source": [
    "## الحجر المنزلي"
   ]
  },
  {
   "cell_type": "code",
   "execution_count": 25,
   "metadata": {},
   "outputs": [
    {
     "data": {
      "text/plain": [
       "(28476, 35)"
      ]
     },
     "execution_count": 25,
     "metadata": {},
     "output_type": "execute_result"
    }
   ],
   "source": [
    "# Extract the hashtag name frome the full_text column.\n",
    "df_stay_home=main_df[main_df['full_text'].str.contains(\"الحجر_المنزلي\")] \n",
    "df_stay_home.shape"
   ]
  },
  {
   "cell_type": "code",
   "execution_count": 26,
   "metadata": {},
   "outputs": [
    {
     "data": {
      "text/plain": [
       "(943, 35)"
      ]
     },
     "execution_count": 26,
     "metadata": {},
     "output_type": "execute_result"
    }
   ],
   "source": [
    "#Some hashtags start before the procedure is carried out in Saudi Arabia, so the hashtags are determined by the date of the decision in Saudi Arabia.\n",
    "df_ss = df_stay_home[(df_stay_home['created_at'] >= '2020-03-23') & (df_stay_home['created_at'] <= '2020-04-12')]\n",
    "df_ss.shape"
   ]
  },
  {
   "cell_type": "code",
   "execution_count": 27,
   "metadata": {},
   "outputs": [
    {
     "data": {
      "text/plain": [
       "(472, 35)"
      ]
     },
     "execution_count": 27,
     "metadata": {},
     "output_type": "execute_result"
    }
   ],
   "source": [
    "# Remove the retweet from the data\n",
    "d=df_ss[~df_ss.full_text.str.startswith('RT')]\n",
    "d.shape"
   ]
  },
  {
   "cell_type": "code",
   "execution_count": 28,
   "metadata": {},
   "outputs": [],
   "source": [
    "# save the data in csv file.\n",
    "d.to_csv('df55.csv')"
   ]
  },
  {
   "cell_type": "code",
   "execution_count": 29,
   "metadata": {},
   "outputs": [
    {
     "data": {
      "text/plain": [
       "(472, 36)"
      ]
     },
     "execution_count": 29,
     "metadata": {},
     "output_type": "execute_result"
    }
   ],
   "source": [
    "#Read the dataframe, so we can merging the other hashtags.\n",
    "df55 = pd.read_csv('datasets/df55.csv')\n",
    "df55.shape"
   ]
  },
  {
   "cell_type": "markdown",
   "metadata": {},
   "source": [
    "## كلنا في البيت لأجل السعودية"
   ]
  },
  {
   "cell_type": "code",
   "execution_count": 30,
   "metadata": {},
   "outputs": [
    {
     "data": {
      "text/plain": [
       "(6444, 35)"
      ]
     },
     "execution_count": 30,
     "metadata": {},
     "output_type": "execute_result"
    }
   ],
   "source": [
    "# Extract the hashtag name frome the full_text column.\n",
    "df_stayhome=main_df[main_df['full_text'].str.contains(\"كلنا_في_البيت_لاجل_السعوديه\")] \n",
    "df_stayhome.shape"
   ]
  },
  {
   "cell_type": "code",
   "execution_count": 31,
   "metadata": {},
   "outputs": [
    {
     "data": {
      "text/plain": [
       "(3004, 35)"
      ]
     },
     "execution_count": 31,
     "metadata": {},
     "output_type": "execute_result"
    }
   ],
   "source": [
    "# Remove the retweet from the data\n",
    "o=df_stayhome[~df_stayhome.full_text.str.startswith('RT')]\n",
    "o.shape"
   ]
  },
  {
   "cell_type": "code",
   "execution_count": 32,
   "metadata": {},
   "outputs": [],
   "source": [
    "# save the data in csv file.\n",
    "o.to_csv('df66.csv')"
   ]
  },
  {
   "cell_type": "code",
   "execution_count": 33,
   "metadata": {},
   "outputs": [
    {
     "data": {
      "text/plain": [
       "(3004, 36)"
      ]
     },
     "execution_count": 33,
     "metadata": {},
     "output_type": "execute_result"
    }
   ],
   "source": [
    "#Read the dataframe, so we can merging the other hashtags.\n",
    "df66= pd.read_csv('datasets/df66.csv')\n",
    "df66.shape"
   ]
  },
  {
   "cell_type": "markdown",
   "metadata": {},
   "source": [
    "## حظر التجول في السعودية"
   ]
  },
  {
   "cell_type": "code",
   "execution_count": 34,
   "metadata": {},
   "outputs": [
    {
     "data": {
      "text/plain": [
       "(416, 35)"
      ]
     },
     "execution_count": 34,
     "metadata": {},
     "output_type": "execute_result"
    }
   ],
   "source": [
    "# Extract the hashtag name frome the full_text column.\n",
    "df_saudi=main_df[main_df['full_text'].str.contains(\"حظر_التجول_في_السعودية\")] \n",
    "df_saudi.shape"
   ]
  },
  {
   "cell_type": "code",
   "execution_count": 35,
   "metadata": {},
   "outputs": [
    {
     "data": {
      "text/plain": [
       "(100, 35)"
      ]
     },
     "execution_count": 35,
     "metadata": {},
     "output_type": "execute_result"
    }
   ],
   "source": [
    "# Remove the retweet from the data\n",
    "v=df_saudi[~df_saudi.full_text.str.startswith('RT')]\n",
    "v.shape"
   ]
  },
  {
   "cell_type": "code",
   "execution_count": 36,
   "metadata": {},
   "outputs": [],
   "source": [
    "# save the data in csv file.\n",
    "v.to_csv('df77.csv')"
   ]
  },
  {
   "cell_type": "code",
   "execution_count": 37,
   "metadata": {},
   "outputs": [
    {
     "data": {
      "text/plain": [
       "(100, 36)"
      ]
     },
     "execution_count": 37,
     "metadata": {},
     "output_type": "execute_result"
    }
   ],
   "source": [
    "#Read the dataframe, so we can merging the other hashtags.\n",
    "df77 = pd.read_csv('datasets/df77.csv')\n",
    "df77.shape"
   ]
  },
  {
   "cell_type": "markdown",
   "metadata": {},
   "source": [
    "## الحجر المنزلي واجب وطني"
   ]
  },
  {
   "cell_type": "code",
   "execution_count": 38,
   "metadata": {},
   "outputs": [
    {
     "data": {
      "text/plain": [
       "(12335, 35)"
      ]
     },
     "execution_count": 38,
     "metadata": {},
     "output_type": "execute_result"
    }
   ],
   "source": [
    "# Extract the hashtag name frome the full_text column.\n",
    "df_Qsaudi=main_df[main_df['full_text'].str.contains(\"الحجر_المنزلي_واجب_وطني\")] \n",
    "df_Qsaudi.shape"
   ]
  },
  {
   "cell_type": "code",
   "execution_count": 39,
   "metadata": {},
   "outputs": [
    {
     "data": {
      "text/plain": [
       "(206, 35)"
      ]
     },
     "execution_count": 39,
     "metadata": {},
     "output_type": "execute_result"
    }
   ],
   "source": [
    "#Some hashtags start before the procedure is carried out in Saudi Arabia, so the hashtags are determined by the date of the decision in Saudi Arabia.\n",
    "df_s2 = df_Qsaudi[(df_Qsaudi['created_at'] >= '2020-03-23') & (df_Qsaudi['created_at'] <= '2020-04-12')]\n",
    "df_s2.shape"
   ]
  },
  {
   "cell_type": "code",
   "execution_count": 40,
   "metadata": {},
   "outputs": [
    {
     "data": {
      "text/plain": [
       "(81, 35)"
      ]
     },
     "execution_count": 40,
     "metadata": {},
     "output_type": "execute_result"
    }
   ],
   "source": [
    "# Remove the retweet from the data\n",
    "q=df_s2[~df_s2.full_text.str.startswith('RT')]\n",
    "q.shape"
   ]
  },
  {
   "cell_type": "code",
   "execution_count": 41,
   "metadata": {},
   "outputs": [],
   "source": [
    "# save the data in csv file.\n",
    "q.to_csv('df88.csv')"
   ]
  },
  {
   "cell_type": "code",
   "execution_count": 43,
   "metadata": {},
   "outputs": [
    {
     "data": {
      "text/plain": [
       "(81, 36)"
      ]
     },
     "execution_count": 43,
     "metadata": {},
     "output_type": "execute_result"
    }
   ],
   "source": [
    "#Read the dataframe, so we can merging the other hashtags.\n",
    "df88 = pd.read_csv('datasets/df88.csv')\n",
    "df88.shape"
   ]
  },
  {
   "cell_type": "markdown",
   "metadata": {},
   "source": [
    "## اجلس بالبيت"
   ]
  },
  {
   "cell_type": "code",
   "execution_count": 44,
   "metadata": {},
   "outputs": [
    {
     "data": {
      "text/plain": [
       "(3476, 35)"
      ]
     },
     "execution_count": 44,
     "metadata": {},
     "output_type": "execute_result"
    }
   ],
   "source": [
    "# Extract the hashtag name frome the full_text column.\n",
    "df_sweethome=main_df[main_df['full_text'].str.contains(\"اجلس_بالبيت\")] \n",
    "df_sweethome.shape"
   ]
  },
  {
   "cell_type": "code",
   "execution_count": 45,
   "metadata": {},
   "outputs": [
    {
     "data": {
      "text/plain": [
       "(1780, 35)"
      ]
     },
     "execution_count": 45,
     "metadata": {},
     "output_type": "execute_result"
    }
   ],
   "source": [
    "# Remove the retweet from the data.\n",
    "u=df_sweethome[~df_sweethome.full_text.str.startswith('RT')]\n",
    "u.shape"
   ]
  },
  {
   "cell_type": "code",
   "execution_count": 46,
   "metadata": {},
   "outputs": [],
   "source": [
    "# save the data in csv file.\n",
    "u.to_csv('df99.csv')"
   ]
  },
  {
   "cell_type": "code",
   "execution_count": 47,
   "metadata": {},
   "outputs": [
    {
     "data": {
      "text/plain": [
       "(1780, 36)"
      ]
     },
     "execution_count": 47,
     "metadata": {},
     "output_type": "execute_result"
    }
   ],
   "source": [
    "#Read the dataframe, so we can merging the other hashtags.\n",
    "df99 = pd.read_csv('datasets/df99.csv')\n",
    "df99.shape"
   ]
  },
  {
   "cell_type": "markdown",
   "metadata": {},
   "source": [
    "## انثبروا ببيوتكم"
   ]
  },
  {
   "cell_type": "code",
   "execution_count": 48,
   "metadata": {},
   "outputs": [
    {
     "data": {
      "text/plain": [
       "(6747, 35)"
      ]
     },
     "execution_count": 48,
     "metadata": {},
     "output_type": "execute_result"
    }
   ],
   "source": [
    "# Extract the hashtag name frome the full_text column.\n",
    "df_stay=main_df[main_df['full_text'].str.contains(\"انثبروا_ببيوتكم\")] \n",
    "df_stay.shape"
   ]
  },
  {
   "cell_type": "code",
   "execution_count": 49,
   "metadata": {},
   "outputs": [
    {
     "data": {
      "text/plain": [
       "(3887, 35)"
      ]
     },
     "execution_count": 49,
     "metadata": {},
     "output_type": "execute_result"
    }
   ],
   "source": [
    "# Remove the retweet from the data.\n",
    "c=df_stay[~df_stay.full_text.str.startswith('RT')]\n",
    "c.shape"
   ]
  },
  {
   "cell_type": "code",
   "execution_count": 50,
   "metadata": {},
   "outputs": [],
   "source": [
    "# save the data in csv file.\n",
    "c.to_csv('df10.csv')"
   ]
  },
  {
   "cell_type": "code",
   "execution_count": 51,
   "metadata": {},
   "outputs": [
    {
     "data": {
      "text/plain": [
       "(3887, 36)"
      ]
     },
     "execution_count": 51,
     "metadata": {},
     "output_type": "execute_result"
    }
   ],
   "source": [
    "#Read the dataframe, so we can merging the other hashtags.\n",
    "df10 = pd.read_csv('datasets/df10.csv')\n",
    "df10.shape"
   ]
  },
  {
   "cell_type": "markdown",
   "metadata": {},
   "source": [
    "## Full dataframe"
   ]
  },
  {
   "cell_type": "code",
   "execution_count": 52,
   "metadata": {},
   "outputs": [
    {
     "data": {
      "text/plain": [
       "(18673, 36)"
      ]
     },
     "execution_count": 52,
     "metadata": {},
     "output_type": "execute_result"
    }
   ],
   "source": [
    "# We merged all the dataframes of the hashtags.\n",
    "Full_dataframe = pd.concat([df11,df22,df33,df44,df55,df66,df77,df88,df99,df10])\n",
    "Full_dataframe.shape"
   ]
  },
  {
   "cell_type": "code",
   "execution_count": 53,
   "metadata": {},
   "outputs": [],
   "source": [
    "# save the data in csv file.\n",
    "Full_dataframe.to_csv('Full_dataframe.csv')"
   ]
  },
  {
   "cell_type": "code",
   "execution_count": 54,
   "metadata": {},
   "outputs": [
    {
     "name": "stderr",
     "output_type": "stream",
     "text": [
      "C:\\Users\\fatma\\Anaconda3\\lib\\site-packages\\IPython\\core\\interactiveshell.py:3058: DtypeWarning: Columns (30) have mixed types. Specify dtype option on import or set low_memory=False.\n",
      "  interactivity=interactivity, compiler=compiler, result=result)\n"
     ]
    },
    {
     "data": {
      "text/plain": [
       "(18673, 37)"
      ]
     },
     "execution_count": 54,
     "metadata": {},
     "output_type": "execute_result"
    }
   ],
   "source": [
    "#Read the dataframe, so we can merging the other hashtags.\n",
    "full_df = pd.read_csv('datasets/Full_dataframe.csv')\n",
    "full_df.shape"
   ]
  },
  {
   "cell_type": "code",
   "execution_count": 55,
   "metadata": {},
   "outputs": [],
   "source": [
    "# create list to save the location\n",
    "locations =[]\n",
    "# Loop for get all locatons from user to save in (location)\n",
    "for i in full_df['user'] :\n",
    "    x= eval(i).get('location')\n",
    "    locations .append(x)\n",
    "# create new column to save the location\n",
    "full_df['location']=locations "
   ]
  },
  {
   "cell_type": "code",
   "execution_count": 56,
   "metadata": {},
   "outputs": [],
   "source": [
    "# save the data in csv file.\n",
    "full_df.to_csv('full_df.csv')"
   ]
  },
  {
   "cell_type": "code",
   "execution_count": 58,
   "metadata": {},
   "outputs": [
    {
     "name": "stderr",
     "output_type": "stream",
     "text": [
      "C:\\Users\\fatma\\Anaconda3\\lib\\site-packages\\IPython\\core\\interactiveshell.py:3058: DtypeWarning: Columns (31) have mixed types. Specify dtype option on import or set low_memory=False.\n",
      "  interactivity=interactivity, compiler=compiler, result=result)\n"
     ]
    }
   ],
   "source": [
    "df1 = pd.read_csv('datasets/full_df.csv')\n"
   ]
  },
  {
   "cell_type": "code",
   "execution_count": 59,
   "metadata": {},
   "outputs": [],
   "source": [
    "# drop the columns that have nan or unnecessary.\n",
    "df1.drop(['contributors','coordinates','extended_entities', 'withheld_copyright',\n",
    "          'withheld_in_countries','withheld_scope','Unnamed: 0','Unnamed: 0.1',\n",
    "          'scopes','geo','in_reply_to_screen_name',\n",
    "          'in_reply_to_status_id', 'in_reply_to_status_id_str',\n",
    "          'in_reply_to_user_id','in_reply_to_user_id_str',\n",
    "          'place','possibly_sensitive','quoted_status','quoted_status_id',\n",
    "          'quoted_status_id_str','quoted_status_permalink',\n",
    "          'id_str','is_quote_status','lang','retweet_count',\n",
    "          'retweeted','retweeted_status','source','truncated',\n",
    "         'created_at','display_text_range','entities','favorite_count','favorited'\n",
    "         ], axis=1, inplace=True)"
   ]
  },
  {
   "cell_type": "code",
   "execution_count": 60,
   "metadata": {},
   "outputs": [
    {
     "data": {
      "text/html": [
       "<div>\n",
       "<style scoped>\n",
       "    .dataframe tbody tr th:only-of-type {\n",
       "        vertical-align: middle;\n",
       "    }\n",
       "\n",
       "    .dataframe tbody tr th {\n",
       "        vertical-align: top;\n",
       "    }\n",
       "\n",
       "    .dataframe thead th {\n",
       "        text-align: right;\n",
       "    }\n",
       "</style>\n",
       "<table border=\"1\" class=\"dataframe\">\n",
       "  <thead>\n",
       "    <tr style=\"text-align: right;\">\n",
       "      <th></th>\n",
       "      <th>Unnamed: 0</th>\n",
       "      <th>Unnamed: 0.1</th>\n",
       "      <th>contributors</th>\n",
       "      <th>coordinates</th>\n",
       "      <th>created_at</th>\n",
       "      <th>display_text_range</th>\n",
       "      <th>entities</th>\n",
       "      <th>extended_entities</th>\n",
       "      <th>favorite_count</th>\n",
       "      <th>favorited</th>\n",
       "      <th>...</th>\n",
       "      <th>retweeted</th>\n",
       "      <th>retweeted_status</th>\n",
       "      <th>scopes</th>\n",
       "      <th>source</th>\n",
       "      <th>truncated</th>\n",
       "      <th>user</th>\n",
       "      <th>withheld_copyright</th>\n",
       "      <th>withheld_in_countries</th>\n",
       "      <th>withheld_scope</th>\n",
       "      <th>location</th>\n",
       "    </tr>\n",
       "  </thead>\n",
       "  <tbody>\n",
       "    <tr>\n",
       "      <td>0</td>\n",
       "      <td>0</td>\n",
       "      <td>107107</td>\n",
       "      <td>NaN</td>\n",
       "      <td>NaN</td>\n",
       "      <td>2020-03-14 01:30:15+00:00</td>\n",
       "      <td>[0, 275]</td>\n",
       "      <td>{'hashtags': [{'text': 'ملل', 'indices': [0, 4...</td>\n",
       "      <td>NaN</td>\n",
       "      <td>13</td>\n",
       "      <td>False</td>\n",
       "      <td>...</td>\n",
       "      <td>False</td>\n",
       "      <td>NaN</td>\n",
       "      <td>NaN</td>\n",
       "      <td>&lt;a href=\"https://mobile.twitter.com\" rel=\"nofo...</td>\n",
       "      <td>False</td>\n",
       "      <td>{'id': 482567298, 'id_str': '482567298', 'name...</td>\n",
       "      <td>NaN</td>\n",
       "      <td>NaN</td>\n",
       "      <td>NaN</td>\n",
       "      <td>الرياض</td>\n",
       "    </tr>\n",
       "    <tr>\n",
       "      <td>1</td>\n",
       "      <td>1</td>\n",
       "      <td>147255</td>\n",
       "      <td>NaN</td>\n",
       "      <td>NaN</td>\n",
       "      <td>2020-03-14 17:55:45+00:00</td>\n",
       "      <td>[0, 28]</td>\n",
       "      <td>{'hashtags': [{'text': 'خليك_في_البيت', 'indic...</td>\n",
       "      <td>{'media': [{'id': 1238886383877587000, 'id_str...</td>\n",
       "      <td>3</td>\n",
       "      <td>False</td>\n",
       "      <td>...</td>\n",
       "      <td>False</td>\n",
       "      <td>NaN</td>\n",
       "      <td>NaN</td>\n",
       "      <td>&lt;a href=\"https://mobile.twitter.com\" rel=\"nofo...</td>\n",
       "      <td>False</td>\n",
       "      <td>{'id': 3081154219, 'id_str': '3081154219', 'na...</td>\n",
       "      <td>NaN</td>\n",
       "      <td>NaN</td>\n",
       "      <td>NaN</td>\n",
       "      <td>سلطنة عمان</td>\n",
       "    </tr>\n",
       "    <tr>\n",
       "      <td>2</td>\n",
       "      <td>2</td>\n",
       "      <td>164993</td>\n",
       "      <td>NaN</td>\n",
       "      <td>NaN</td>\n",
       "      <td>2020-03-14 16:36:33+00:00</td>\n",
       "      <td>[0, 120]</td>\n",
       "      <td>{'hashtags': [{'text': 'قعدوا_في_البيت', 'indi...</td>\n",
       "      <td>{'media': [{'id': 1238866476574150700, 'id_str...</td>\n",
       "      <td>27</td>\n",
       "      <td>False</td>\n",
       "      <td>...</td>\n",
       "      <td>False</td>\n",
       "      <td>NaN</td>\n",
       "      <td>NaN</td>\n",
       "      <td>&lt;a href=\"http://twitter.com/download/iphone\" r...</td>\n",
       "      <td>False</td>\n",
       "      <td>{'id': 81937499, 'id_str': '81937499', 'name':...</td>\n",
       "      <td>NaN</td>\n",
       "      <td>NaN</td>\n",
       "      <td>NaN</td>\n",
       "      <td>Kuwait</td>\n",
       "    </tr>\n",
       "    <tr>\n",
       "      <td>3</td>\n",
       "      <td>3</td>\n",
       "      <td>165395</td>\n",
       "      <td>NaN</td>\n",
       "      <td>NaN</td>\n",
       "      <td>2020-03-14 18:09:16+00:00</td>\n",
       "      <td>[0, 146]</td>\n",
       "      <td>{'hashtags': [{'text': 'خليك_في_البيت', 'indic...</td>\n",
       "      <td>{'media': [{'id': 1238889943293931500, 'id_str...</td>\n",
       "      <td>3</td>\n",
       "      <td>False</td>\n",
       "      <td>...</td>\n",
       "      <td>False</td>\n",
       "      <td>NaN</td>\n",
       "      <td>NaN</td>\n",
       "      <td>&lt;a href=\"http://twitter.com/download/iphone\" r...</td>\n",
       "      <td>False</td>\n",
       "      <td>{'id': 919957538480820200, 'id_str': '91995753...</td>\n",
       "      <td>NaN</td>\n",
       "      <td>NaN</td>\n",
       "      <td>NaN</td>\n",
       "      <td>دولة الكويت</td>\n",
       "    </tr>\n",
       "    <tr>\n",
       "      <td>4</td>\n",
       "      <td>4</td>\n",
       "      <td>185849</td>\n",
       "      <td>NaN</td>\n",
       "      <td>NaN</td>\n",
       "      <td>2020-03-15 04:10:19+00:00</td>\n",
       "      <td>[0, 181]</td>\n",
       "      <td>{'hashtags': [{'text': 'كورونا', 'indices': [6...</td>\n",
       "      <td>{'media': [{'id': 1239041202944647200, 'id_str...</td>\n",
       "      <td>3</td>\n",
       "      <td>False</td>\n",
       "      <td>...</td>\n",
       "      <td>False</td>\n",
       "      <td>NaN</td>\n",
       "      <td>NaN</td>\n",
       "      <td>&lt;a href=\"http://twitter.com/download/android\" ...</td>\n",
       "      <td>False</td>\n",
       "      <td>{'id': 489380447, 'id_str': '489380447', 'name...</td>\n",
       "      <td>NaN</td>\n",
       "      <td>NaN</td>\n",
       "      <td>NaN</td>\n",
       "      <td>الرياض, المملكة العربية السعود</td>\n",
       "    </tr>\n",
       "  </tbody>\n",
       "</table>\n",
       "<p>5 rows × 38 columns</p>\n",
       "</div>"
      ],
      "text/plain": [
       "   Unnamed: 0  Unnamed: 0.1  contributors coordinates  \\\n",
       "0           0        107107           NaN         NaN   \n",
       "1           1        147255           NaN         NaN   \n",
       "2           2        164993           NaN         NaN   \n",
       "3           3        165395           NaN         NaN   \n",
       "4           4        185849           NaN         NaN   \n",
       "\n",
       "                  created_at display_text_range  \\\n",
       "0  2020-03-14 01:30:15+00:00           [0, 275]   \n",
       "1  2020-03-14 17:55:45+00:00            [0, 28]   \n",
       "2  2020-03-14 16:36:33+00:00           [0, 120]   \n",
       "3  2020-03-14 18:09:16+00:00           [0, 146]   \n",
       "4  2020-03-15 04:10:19+00:00           [0, 181]   \n",
       "\n",
       "                                            entities  \\\n",
       "0  {'hashtags': [{'text': 'ملل', 'indices': [0, 4...   \n",
       "1  {'hashtags': [{'text': 'خليك_في_البيت', 'indic...   \n",
       "2  {'hashtags': [{'text': 'قعدوا_في_البيت', 'indi...   \n",
       "3  {'hashtags': [{'text': 'خليك_في_البيت', 'indic...   \n",
       "4  {'hashtags': [{'text': 'كورونا', 'indices': [6...   \n",
       "\n",
       "                                   extended_entities  favorite_count  \\\n",
       "0                                                NaN              13   \n",
       "1  {'media': [{'id': 1238886383877587000, 'id_str...               3   \n",
       "2  {'media': [{'id': 1238866476574150700, 'id_str...              27   \n",
       "3  {'media': [{'id': 1238889943293931500, 'id_str...               3   \n",
       "4  {'media': [{'id': 1239041202944647200, 'id_str...               3   \n",
       "\n",
       "   favorited  ... retweeted retweeted_status  scopes  \\\n",
       "0      False  ...     False              NaN     NaN   \n",
       "1      False  ...     False              NaN     NaN   \n",
       "2      False  ...     False              NaN     NaN   \n",
       "3      False  ...     False              NaN     NaN   \n",
       "4      False  ...     False              NaN     NaN   \n",
       "\n",
       "                                              source truncated  \\\n",
       "0  <a href=\"https://mobile.twitter.com\" rel=\"nofo...     False   \n",
       "1  <a href=\"https://mobile.twitter.com\" rel=\"nofo...     False   \n",
       "2  <a href=\"http://twitter.com/download/iphone\" r...     False   \n",
       "3  <a href=\"http://twitter.com/download/iphone\" r...     False   \n",
       "4  <a href=\"http://twitter.com/download/android\" ...     False   \n",
       "\n",
       "                                                user  withheld_copyright  \\\n",
       "0  {'id': 482567298, 'id_str': '482567298', 'name...                 NaN   \n",
       "1  {'id': 3081154219, 'id_str': '3081154219', 'na...                 NaN   \n",
       "2  {'id': 81937499, 'id_str': '81937499', 'name':...                 NaN   \n",
       "3  {'id': 919957538480820200, 'id_str': '91995753...                 NaN   \n",
       "4  {'id': 489380447, 'id_str': '489380447', 'name...                 NaN   \n",
       "\n",
       "   withheld_in_countries  withheld_scope                        location  \n",
       "0                    NaN             NaN                          الرياض  \n",
       "1                    NaN             NaN                      سلطنة عمان  \n",
       "2                    NaN             NaN                          Kuwait  \n",
       "3                    NaN             NaN                     دولة الكويت  \n",
       "4                    NaN             NaN  الرياض, المملكة العربية السعود  \n",
       "\n",
       "[5 rows x 38 columns]"
      ]
     },
     "execution_count": 60,
     "metadata": {},
     "output_type": "execute_result"
    }
   ],
   "source": [
    "full_df.head()"
   ]
  },
  {
   "cell_type": "code",
   "execution_count": 61,
   "metadata": {},
   "outputs": [
    {
     "data": {
      "text/plain": [
       "(18673, 38)"
      ]
     },
     "execution_count": 61,
     "metadata": {},
     "output_type": "execute_result"
    }
   ],
   "source": [
    "full_df.shape"
   ]
  },
  {
   "cell_type": "code",
   "execution_count": 169,
   "metadata": {},
   "outputs": [
    {
     "data": {
      "text/html": [
       "<div>\n",
       "<style scoped>\n",
       "    .dataframe tbody tr th:only-of-type {\n",
       "        vertical-align: middle;\n",
       "    }\n",
       "\n",
       "    .dataframe tbody tr th {\n",
       "        vertical-align: top;\n",
       "    }\n",
       "\n",
       "    .dataframe thead th {\n",
       "        text-align: right;\n",
       "    }\n",
       "</style>\n",
       "<table border=\"1\" class=\"dataframe\">\n",
       "  <thead>\n",
       "    <tr style=\"text-align: right;\">\n",
       "      <th></th>\n",
       "      <th>created_at</th>\n",
       "      <th>full_text</th>\n",
       "      <th>id</th>\n",
       "      <th>location</th>\n",
       "      <th>test</th>\n",
       "    </tr>\n",
       "  </thead>\n",
       "  <tbody>\n",
       "    <tr>\n",
       "      <td>15700</td>\n",
       "      <td>2020-03-14 17:10:34+00:00</td>\n",
       "      <td>#انثبروا_ببيوتكم\\nنطالب بااقفال المولات والمقاهي</td>\n",
       "      <td>1238875180061114400</td>\n",
       "      <td></td>\n",
       "      <td>NaN</td>\n",
       "    </tr>\n",
       "    <tr>\n",
       "      <td>17213</td>\n",
       "      <td>2020-03-14 20:06:57+00:00</td>\n",
       "      <td>دخول ال 7500 من #مصر !!!\\n\\nلم تنسينا جرائم اب...</td>\n",
       "      <td>1238919566409044000</td>\n",
       "      <td>الكويت / لندن</td>\n",
       "      <td>NaN</td>\n",
       "    </tr>\n",
       "    <tr>\n",
       "      <td>3209</td>\n",
       "      <td>2020-04-01 17:33:17+00:00</td>\n",
       "      <td>ترصد مبادرة توصيل أدوية الأمراض المزمنة بـ #عر...</td>\n",
       "      <td>1245403876930596900</td>\n",
       "      <td></td>\n",
       "      <td>NaN</td>\n",
       "    </tr>\n",
       "    <tr>\n",
       "      <td>9283</td>\n",
       "      <td>2020-04-10 00:08:58+00:00</td>\n",
       "      <td>الاعلامي بركات الوقيان من خلال برنامج #من_الاخ...</td>\n",
       "      <td>1248402557845655600</td>\n",
       "      <td></td>\n",
       "      <td>NaN</td>\n",
       "    </tr>\n",
       "    <tr>\n",
       "      <td>2554</td>\n",
       "      <td>2020-03-29 21:10:06+00:00</td>\n",
       "      <td>@sabqorg و الرجال اللي في #الحد_الجنوبي ما فكر...</td>\n",
       "      <td>1244371276153618400</td>\n",
       "      <td></td>\n",
       "      <td>NaN</td>\n",
       "    </tr>\n",
       "    <tr>\n",
       "      <td>...</td>\n",
       "      <td>...</td>\n",
       "      <td>...</td>\n",
       "      <td>...</td>\n",
       "      <td>...</td>\n",
       "      <td>...</td>\n",
       "    </tr>\n",
       "    <tr>\n",
       "      <td>2882</td>\n",
       "      <td>2020-04-01 11:41:15+00:00</td>\n",
       "      <td>اين الصلاه واين غاب المنبر\\n\\n#كورونا #وزارة_ا...</td>\n",
       "      <td>1245315283658723300</td>\n",
       "      <td>المملكة العربية السعودية 🇸🇦</td>\n",
       "      <td>NaN</td>\n",
       "    </tr>\n",
       "    <tr>\n",
       "      <td>1667</td>\n",
       "      <td>2020-03-25 10:31:04+00:00</td>\n",
       "      <td>#وزارة_الداخلية تقديم وقت بدء #منع_التجول إلى ...</td>\n",
       "      <td>1242760907488403500</td>\n",
       "      <td>Riyahd</td>\n",
       "      <td>NaN</td>\n",
       "    </tr>\n",
       "    <tr>\n",
       "      <td>5365</td>\n",
       "      <td>2020-03-28 23:37:17+00:00</td>\n",
       "      <td>#اعزل_نفسك https://t.co/SisxJ9I4ww</td>\n",
       "      <td>1244045931110072300</td>\n",
       "      <td>حايل</td>\n",
       "      <td>NaN</td>\n",
       "    </tr>\n",
       "    <tr>\n",
       "      <td>6728</td>\n",
       "      <td>2020-03-28 22:58:01+00:00</td>\n",
       "      <td>الدنيا مرعبة #اعزل_نفسك</td>\n",
       "      <td>1244036049287987200</td>\n",
       "      <td>الدمام, المملكة العربية السعودية</td>\n",
       "      <td>2020-03-28 22:58:01+00:00</td>\n",
       "    </tr>\n",
       "    <tr>\n",
       "      <td>13071</td>\n",
       "      <td>2020-03-14 19:41:34+00:00</td>\n",
       "      <td>هجع بالبيت  #اجلس_بالبيت</td>\n",
       "      <td>1238913177703809000</td>\n",
       "      <td>أوفياء من كِرااام العربِ</td>\n",
       "      <td>NaN</td>\n",
       "    </tr>\n",
       "  </tbody>\n",
       "</table>\n",
       "<p>6000 rows × 5 columns</p>\n",
       "</div>"
      ],
      "text/plain": [
       "                      created_at  \\\n",
       "15700  2020-03-14 17:10:34+00:00   \n",
       "17213  2020-03-14 20:06:57+00:00   \n",
       "3209   2020-04-01 17:33:17+00:00   \n",
       "9283   2020-04-10 00:08:58+00:00   \n",
       "2554   2020-03-29 21:10:06+00:00   \n",
       "...                          ...   \n",
       "2882   2020-04-01 11:41:15+00:00   \n",
       "1667   2020-03-25 10:31:04+00:00   \n",
       "5365   2020-03-28 23:37:17+00:00   \n",
       "6728   2020-03-28 22:58:01+00:00   \n",
       "13071  2020-03-14 19:41:34+00:00   \n",
       "\n",
       "                                               full_text                   id  \\\n",
       "15700   #انثبروا_ببيوتكم\\nنطالب بااقفال المولات والمقاهي  1238875180061114400   \n",
       "17213  دخول ال 7500 من #مصر !!!\\n\\nلم تنسينا جرائم اب...  1238919566409044000   \n",
       "3209   ترصد مبادرة توصيل أدوية الأمراض المزمنة بـ #عر...  1245403876930596900   \n",
       "9283   الاعلامي بركات الوقيان من خلال برنامج #من_الاخ...  1248402557845655600   \n",
       "2554   @sabqorg و الرجال اللي في #الحد_الجنوبي ما فكر...  1244371276153618400   \n",
       "...                                                  ...                  ...   \n",
       "2882   اين الصلاه واين غاب المنبر\\n\\n#كورونا #وزارة_ا...  1245315283658723300   \n",
       "1667   #وزارة_الداخلية تقديم وقت بدء #منع_التجول إلى ...  1242760907488403500   \n",
       "5365                  #اعزل_نفسك https://t.co/SisxJ9I4ww  1244045931110072300   \n",
       "6728                             الدنيا مرعبة #اعزل_نفسك  1244036049287987200   \n",
       "13071                           هجع بالبيت  #اجلس_بالبيت  1238913177703809000   \n",
       "\n",
       "                               location                       test  \n",
       "15700                                                          NaN  \n",
       "17213                     الكويت / لندن                        NaN  \n",
       "3209                                                           NaN  \n",
       "9283                                                           NaN  \n",
       "2554                                                           NaN  \n",
       "...                                 ...                        ...  \n",
       "2882        المملكة العربية السعودية 🇸🇦                        NaN  \n",
       "1667                             Riyahd                        NaN  \n",
       "5365                               حايل                        NaN  \n",
       "6728   الدمام, المملكة العربية السعودية  2020-03-28 22:58:01+00:00  \n",
       "13071          أوفياء من كِرااام العربِ                        NaN  \n",
       "\n",
       "[6000 rows x 5 columns]"
      ]
     },
     "execution_count": 169,
     "metadata": {},
     "output_type": "execute_result"
    }
   ],
   "source": [
    "# Extract the train data randomly,so if we run the code the data will change and this is an example for df train becouse we saved the first data showed for us as df train before.\n",
    "df_Train = full_df.sample(frac =.3213)\n",
    "df_Train"
   ]
  },
  {
   "cell_type": "code",
   "execution_count": 62,
   "metadata": {},
   "outputs": [
    {
     "data": {
      "text/plain": [
       "11818"
      ]
     },
     "execution_count": 62,
     "metadata": {},
     "output_type": "execute_result"
    }
   ],
   "source": [
    "\n",
    "cc= pd.read_csv('datasets/df_Train.csv')\n",
    "c2= pd.read_csv('datasets/full_df.csv')\n",
    "len(c2[~c2['full_text'].isin(cc['full_text'])])"
   ]
  },
  {
   "cell_type": "code",
   "execution_count": 63,
   "metadata": {},
   "outputs": [
    {
     "data": {
      "text/html": [
       "<div>\n",
       "<style scoped>\n",
       "    .dataframe tbody tr th:only-of-type {\n",
       "        vertical-align: middle;\n",
       "    }\n",
       "\n",
       "    .dataframe tbody tr th {\n",
       "        vertical-align: top;\n",
       "    }\n",
       "\n",
       "    .dataframe thead th {\n",
       "        text-align: right;\n",
       "    }\n",
       "</style>\n",
       "<table border=\"1\" class=\"dataframe\">\n",
       "  <thead>\n",
       "    <tr style=\"text-align: right;\">\n",
       "      <th></th>\n",
       "      <th>Unnamed: 0</th>\n",
       "      <th>Unnamed: 0.1</th>\n",
       "      <th>contributors</th>\n",
       "      <th>coordinates</th>\n",
       "      <th>created_at</th>\n",
       "      <th>display_text_range</th>\n",
       "      <th>entities</th>\n",
       "      <th>extended_entities</th>\n",
       "      <th>favorite_count</th>\n",
       "      <th>favorited</th>\n",
       "      <th>...</th>\n",
       "      <th>retweeted</th>\n",
       "      <th>retweeted_status</th>\n",
       "      <th>scopes</th>\n",
       "      <th>source</th>\n",
       "      <th>truncated</th>\n",
       "      <th>user</th>\n",
       "      <th>withheld_copyright</th>\n",
       "      <th>withheld_in_countries</th>\n",
       "      <th>withheld_scope</th>\n",
       "      <th>location</th>\n",
       "    </tr>\n",
       "  </thead>\n",
       "  <tbody>\n",
       "    <tr>\n",
       "      <td>0</td>\n",
       "      <td>0</td>\n",
       "      <td>107107</td>\n",
       "      <td>NaN</td>\n",
       "      <td>NaN</td>\n",
       "      <td>2020-03-14 01:30:15+00:00</td>\n",
       "      <td>[0, 275]</td>\n",
       "      <td>{'hashtags': [{'text': 'ملل', 'indices': [0, 4...</td>\n",
       "      <td>NaN</td>\n",
       "      <td>13</td>\n",
       "      <td>False</td>\n",
       "      <td>...</td>\n",
       "      <td>False</td>\n",
       "      <td>NaN</td>\n",
       "      <td>NaN</td>\n",
       "      <td>&lt;a href=\"https://mobile.twitter.com\" rel=\"nofo...</td>\n",
       "      <td>False</td>\n",
       "      <td>{'id': 482567298, 'id_str': '482567298', 'name...</td>\n",
       "      <td>NaN</td>\n",
       "      <td>NaN</td>\n",
       "      <td>NaN</td>\n",
       "      <td>الرياض</td>\n",
       "    </tr>\n",
       "    <tr>\n",
       "      <td>1</td>\n",
       "      <td>1</td>\n",
       "      <td>147255</td>\n",
       "      <td>NaN</td>\n",
       "      <td>NaN</td>\n",
       "      <td>2020-03-14 17:55:45+00:00</td>\n",
       "      <td>[0, 28]</td>\n",
       "      <td>{'hashtags': [{'text': 'خليك_في_البيت', 'indic...</td>\n",
       "      <td>{'media': [{'id': 1238886383877587000, 'id_str...</td>\n",
       "      <td>3</td>\n",
       "      <td>False</td>\n",
       "      <td>...</td>\n",
       "      <td>False</td>\n",
       "      <td>NaN</td>\n",
       "      <td>NaN</td>\n",
       "      <td>&lt;a href=\"https://mobile.twitter.com\" rel=\"nofo...</td>\n",
       "      <td>False</td>\n",
       "      <td>{'id': 3081154219, 'id_str': '3081154219', 'na...</td>\n",
       "      <td>NaN</td>\n",
       "      <td>NaN</td>\n",
       "      <td>NaN</td>\n",
       "      <td>سلطنة عمان</td>\n",
       "    </tr>\n",
       "    <tr>\n",
       "      <td>4</td>\n",
       "      <td>4</td>\n",
       "      <td>185849</td>\n",
       "      <td>NaN</td>\n",
       "      <td>NaN</td>\n",
       "      <td>2020-03-15 04:10:19+00:00</td>\n",
       "      <td>[0, 181]</td>\n",
       "      <td>{'hashtags': [{'text': 'كورونا', 'indices': [6...</td>\n",
       "      <td>{'media': [{'id': 1239041202944647200, 'id_str...</td>\n",
       "      <td>3</td>\n",
       "      <td>False</td>\n",
       "      <td>...</td>\n",
       "      <td>False</td>\n",
       "      <td>NaN</td>\n",
       "      <td>NaN</td>\n",
       "      <td>&lt;a href=\"http://twitter.com/download/android\" ...</td>\n",
       "      <td>False</td>\n",
       "      <td>{'id': 489380447, 'id_str': '489380447', 'name...</td>\n",
       "      <td>NaN</td>\n",
       "      <td>NaN</td>\n",
       "      <td>NaN</td>\n",
       "      <td>الرياض, المملكة العربية السعود</td>\n",
       "    </tr>\n",
       "    <tr>\n",
       "      <td>5</td>\n",
       "      <td>5</td>\n",
       "      <td>220909</td>\n",
       "      <td>NaN</td>\n",
       "      <td>NaN</td>\n",
       "      <td>2020-03-15 21:56:39+00:00</td>\n",
       "      <td>[0, 30]</td>\n",
       "      <td>{'hashtags': [{'text': 'خليك_في_البيت', 'indic...</td>\n",
       "      <td>{'media': [{'id': 1239309502568112000, 'id_str...</td>\n",
       "      <td>0</td>\n",
       "      <td>False</td>\n",
       "      <td>...</td>\n",
       "      <td>False</td>\n",
       "      <td>NaN</td>\n",
       "      <td>NaN</td>\n",
       "      <td>&lt;a href=\"http://tapbots.com/tweetbot\" rel=\"nof...</td>\n",
       "      <td>False</td>\n",
       "      <td>{'id': 1181279514, 'id_str': '1181279514', 'na...</td>\n",
       "      <td>NaN</td>\n",
       "      <td>NaN</td>\n",
       "      <td>NaN</td>\n",
       "      <td>#السعودية_العظمى</td>\n",
       "    </tr>\n",
       "    <tr>\n",
       "      <td>8</td>\n",
       "      <td>8</td>\n",
       "      <td>236777</td>\n",
       "      <td>NaN</td>\n",
       "      <td>NaN</td>\n",
       "      <td>2020-03-16 04:41:40+00:00</td>\n",
       "      <td>[0, 261]</td>\n",
       "      <td>{'hashtags': [{'text': 'خليك_في_البيت', 'indic...</td>\n",
       "      <td>{'media': [{'id': 1239411481894178800, 'id_str...</td>\n",
       "      <td>3</td>\n",
       "      <td>False</td>\n",
       "      <td>...</td>\n",
       "      <td>False</td>\n",
       "      <td>NaN</td>\n",
       "      <td>NaN</td>\n",
       "      <td>&lt;a href=\"http://twitter.com/download/iphone\" r...</td>\n",
       "      <td>False</td>\n",
       "      <td>{'id': 206421037, 'id_str': '206421037', 'name...</td>\n",
       "      <td>NaN</td>\n",
       "      <td>NaN</td>\n",
       "      <td>NaN</td>\n",
       "      <td>Hashemite Kingdom of Jordan</td>\n",
       "    </tr>\n",
       "    <tr>\n",
       "      <td>...</td>\n",
       "      <td>...</td>\n",
       "      <td>...</td>\n",
       "      <td>...</td>\n",
       "      <td>...</td>\n",
       "      <td>...</td>\n",
       "      <td>...</td>\n",
       "      <td>...</td>\n",
       "      <td>...</td>\n",
       "      <td>...</td>\n",
       "      <td>...</td>\n",
       "      <td>...</td>\n",
       "      <td>...</td>\n",
       "      <td>...</td>\n",
       "      <td>...</td>\n",
       "      <td>...</td>\n",
       "      <td>...</td>\n",
       "      <td>...</td>\n",
       "      <td>...</td>\n",
       "      <td>...</td>\n",
       "      <td>...</td>\n",
       "      <td>...</td>\n",
       "    </tr>\n",
       "    <tr>\n",
       "      <td>18666</td>\n",
       "      <td>3880</td>\n",
       "      <td>538240</td>\n",
       "      <td>NaN</td>\n",
       "      <td>NaN</td>\n",
       "      <td>2020-03-09 19:20:13+00:00</td>\n",
       "      <td>[0, 154]</td>\n",
       "      <td>{'hashtags': [{'text': 'الشوارع_الفاضيه', 'ind...</td>\n",
       "      <td>NaN</td>\n",
       "      <td>0</td>\n",
       "      <td>False</td>\n",
       "      <td>...</td>\n",
       "      <td>False</td>\n",
       "      <td>NaN</td>\n",
       "      <td>NaN</td>\n",
       "      <td>&lt;a href=\"http://twitter.com/download/iphone\" r...</td>\n",
       "      <td>False</td>\n",
       "      <td>{'id': 224499686, 'id_str': '224499686', 'name...</td>\n",
       "      <td>NaN</td>\n",
       "      <td>NaN</td>\n",
       "      <td>NaN</td>\n",
       "      <td>kuwait</td>\n",
       "    </tr>\n",
       "    <tr>\n",
       "      <td>18668</td>\n",
       "      <td>3882</td>\n",
       "      <td>36780</td>\n",
       "      <td>NaN</td>\n",
       "      <td>NaN</td>\n",
       "      <td>2020-04-02 05:29:37+00:00</td>\n",
       "      <td>[0, 156]</td>\n",
       "      <td>{'hashtags': [{'text': 'لمياء_القرني', 'indice...</td>\n",
       "      <td>{'media': [{'id': 1245584125697781800, 'id_str...</td>\n",
       "      <td>0</td>\n",
       "      <td>False</td>\n",
       "      <td>...</td>\n",
       "      <td>False</td>\n",
       "      <td>NaN</td>\n",
       "      <td>NaN</td>\n",
       "      <td>&lt;a href=\"http://twitter.com/download/iphone\" r...</td>\n",
       "      <td>False</td>\n",
       "      <td>{'id': 2854306610, 'id_str': '2854306610', 'na...</td>\n",
       "      <td>NaN</td>\n",
       "      <td>NaN</td>\n",
       "      <td>NaN</td>\n",
       "      <td></td>\n",
       "    </tr>\n",
       "    <tr>\n",
       "      <td>18669</td>\n",
       "      <td>3883</td>\n",
       "      <td>36949</td>\n",
       "      <td>NaN</td>\n",
       "      <td>NaN</td>\n",
       "      <td>2020-04-02 05:35:33+00:00</td>\n",
       "      <td>[0, 278]</td>\n",
       "      <td>{'hashtags': [{'text': 'بهالوقت_احتاج_اقول', '...</td>\n",
       "      <td>{'media': [{'id': 1245585591212724200, 'id_str...</td>\n",
       "      <td>2</td>\n",
       "      <td>False</td>\n",
       "      <td>...</td>\n",
       "      <td>False</td>\n",
       "      <td>NaN</td>\n",
       "      <td>NaN</td>\n",
       "      <td>&lt;a href=\"http://twitter.com/download/iphone\" r...</td>\n",
       "      <td>False</td>\n",
       "      <td>{'id': 2500916238, 'id_str': '2500916238', 'na...</td>\n",
       "      <td>NaN</td>\n",
       "      <td>NaN</td>\n",
       "      <td>NaN</td>\n",
       "      <td></td>\n",
       "    </tr>\n",
       "    <tr>\n",
       "      <td>18670</td>\n",
       "      <td>3884</td>\n",
       "      <td>37497</td>\n",
       "      <td>NaN</td>\n",
       "      <td>NaN</td>\n",
       "      <td>2020-04-03 04:31:05+00:00</td>\n",
       "      <td>[0, 182]</td>\n",
       "      <td>{'hashtags': [{'text': 'لين_الشيشكلي', 'indice...</td>\n",
       "      <td>NaN</td>\n",
       "      <td>1</td>\n",
       "      <td>False</td>\n",
       "      <td>...</td>\n",
       "      <td>False</td>\n",
       "      <td>NaN</td>\n",
       "      <td>NaN</td>\n",
       "      <td>&lt;a href=\"http://twitter.com/download/iphone\" r...</td>\n",
       "      <td>False</td>\n",
       "      <td>{'id': 1244612098539348000, 'id_str': '1244612...</td>\n",
       "      <td>NaN</td>\n",
       "      <td>NaN</td>\n",
       "      <td>NaN</td>\n",
       "      <td>المدينة المنورة</td>\n",
       "    </tr>\n",
       "    <tr>\n",
       "      <td>18672</td>\n",
       "      <td>3886</td>\n",
       "      <td>44366</td>\n",
       "      <td>NaN</td>\n",
       "      <td>NaN</td>\n",
       "      <td>2020-04-03 13:34:10+00:00</td>\n",
       "      <td>[0, 210]</td>\n",
       "      <td>{'hashtags': [{'text': 'اعزل_نفسك', 'indices':...</td>\n",
       "      <td>{'media': [{'id': 1246068202024517600, 'id_str...</td>\n",
       "      <td>9</td>\n",
       "      <td>False</td>\n",
       "      <td>...</td>\n",
       "      <td>False</td>\n",
       "      <td>NaN</td>\n",
       "      <td>NaN</td>\n",
       "      <td>&lt;a href=\"http://twitter.com/download/android\" ...</td>\n",
       "      <td>False</td>\n",
       "      <td>{'id': 569408650, 'id_str': '569408650', 'name...</td>\n",
       "      <td>NaN</td>\n",
       "      <td>NaN</td>\n",
       "      <td>NaN</td>\n",
       "      <td>🇸🇦 مملكة العز 🇸🇦</td>\n",
       "    </tr>\n",
       "  </tbody>\n",
       "</table>\n",
       "<p>12673 rows × 38 columns</p>\n",
       "</div>"
      ],
      "text/plain": [
       "       Unnamed: 0  Unnamed: 0.1  contributors coordinates  \\\n",
       "0               0        107107           NaN         NaN   \n",
       "1               1        147255           NaN         NaN   \n",
       "4               4        185849           NaN         NaN   \n",
       "5               5        220909           NaN         NaN   \n",
       "8               8        236777           NaN         NaN   \n",
       "...           ...           ...           ...         ...   \n",
       "18666        3880        538240           NaN         NaN   \n",
       "18668        3882         36780           NaN         NaN   \n",
       "18669        3883         36949           NaN         NaN   \n",
       "18670        3884         37497           NaN         NaN   \n",
       "18672        3886         44366           NaN         NaN   \n",
       "\n",
       "                      created_at display_text_range  \\\n",
       "0      2020-03-14 01:30:15+00:00           [0, 275]   \n",
       "1      2020-03-14 17:55:45+00:00            [0, 28]   \n",
       "4      2020-03-15 04:10:19+00:00           [0, 181]   \n",
       "5      2020-03-15 21:56:39+00:00            [0, 30]   \n",
       "8      2020-03-16 04:41:40+00:00           [0, 261]   \n",
       "...                          ...                ...   \n",
       "18666  2020-03-09 19:20:13+00:00           [0, 154]   \n",
       "18668  2020-04-02 05:29:37+00:00           [0, 156]   \n",
       "18669  2020-04-02 05:35:33+00:00           [0, 278]   \n",
       "18670  2020-04-03 04:31:05+00:00           [0, 182]   \n",
       "18672  2020-04-03 13:34:10+00:00           [0, 210]   \n",
       "\n",
       "                                                entities  \\\n",
       "0      {'hashtags': [{'text': 'ملل', 'indices': [0, 4...   \n",
       "1      {'hashtags': [{'text': 'خليك_في_البيت', 'indic...   \n",
       "4      {'hashtags': [{'text': 'كورونا', 'indices': [6...   \n",
       "5      {'hashtags': [{'text': 'خليك_في_البيت', 'indic...   \n",
       "8      {'hashtags': [{'text': 'خليك_في_البيت', 'indic...   \n",
       "...                                                  ...   \n",
       "18666  {'hashtags': [{'text': 'الشوارع_الفاضيه', 'ind...   \n",
       "18668  {'hashtags': [{'text': 'لمياء_القرني', 'indice...   \n",
       "18669  {'hashtags': [{'text': 'بهالوقت_احتاج_اقول', '...   \n",
       "18670  {'hashtags': [{'text': 'لين_الشيشكلي', 'indice...   \n",
       "18672  {'hashtags': [{'text': 'اعزل_نفسك', 'indices':...   \n",
       "\n",
       "                                       extended_entities  favorite_count  \\\n",
       "0                                                    NaN              13   \n",
       "1      {'media': [{'id': 1238886383877587000, 'id_str...               3   \n",
       "4      {'media': [{'id': 1239041202944647200, 'id_str...               3   \n",
       "5      {'media': [{'id': 1239309502568112000, 'id_str...               0   \n",
       "8      {'media': [{'id': 1239411481894178800, 'id_str...               3   \n",
       "...                                                  ...             ...   \n",
       "18666                                                NaN               0   \n",
       "18668  {'media': [{'id': 1245584125697781800, 'id_str...               0   \n",
       "18669  {'media': [{'id': 1245585591212724200, 'id_str...               2   \n",
       "18670                                                NaN               1   \n",
       "18672  {'media': [{'id': 1246068202024517600, 'id_str...               9   \n",
       "\n",
       "       favorited  ... retweeted retweeted_status  scopes  \\\n",
       "0          False  ...     False              NaN     NaN   \n",
       "1          False  ...     False              NaN     NaN   \n",
       "4          False  ...     False              NaN     NaN   \n",
       "5          False  ...     False              NaN     NaN   \n",
       "8          False  ...     False              NaN     NaN   \n",
       "...          ...  ...       ...              ...     ...   \n",
       "18666      False  ...     False              NaN     NaN   \n",
       "18668      False  ...     False              NaN     NaN   \n",
       "18669      False  ...     False              NaN     NaN   \n",
       "18670      False  ...     False              NaN     NaN   \n",
       "18672      False  ...     False              NaN     NaN   \n",
       "\n",
       "                                                  source truncated  \\\n",
       "0      <a href=\"https://mobile.twitter.com\" rel=\"nofo...     False   \n",
       "1      <a href=\"https://mobile.twitter.com\" rel=\"nofo...     False   \n",
       "4      <a href=\"http://twitter.com/download/android\" ...     False   \n",
       "5      <a href=\"http://tapbots.com/tweetbot\" rel=\"nof...     False   \n",
       "8      <a href=\"http://twitter.com/download/iphone\" r...     False   \n",
       "...                                                  ...       ...   \n",
       "18666  <a href=\"http://twitter.com/download/iphone\" r...     False   \n",
       "18668  <a href=\"http://twitter.com/download/iphone\" r...     False   \n",
       "18669  <a href=\"http://twitter.com/download/iphone\" r...     False   \n",
       "18670  <a href=\"http://twitter.com/download/iphone\" r...     False   \n",
       "18672  <a href=\"http://twitter.com/download/android\" ...     False   \n",
       "\n",
       "                                                    user  withheld_copyright  \\\n",
       "0      {'id': 482567298, 'id_str': '482567298', 'name...                 NaN   \n",
       "1      {'id': 3081154219, 'id_str': '3081154219', 'na...                 NaN   \n",
       "4      {'id': 489380447, 'id_str': '489380447', 'name...                 NaN   \n",
       "5      {'id': 1181279514, 'id_str': '1181279514', 'na...                 NaN   \n",
       "8      {'id': 206421037, 'id_str': '206421037', 'name...                 NaN   \n",
       "...                                                  ...                 ...   \n",
       "18666  {'id': 224499686, 'id_str': '224499686', 'name...                 NaN   \n",
       "18668  {'id': 2854306610, 'id_str': '2854306610', 'na...                 NaN   \n",
       "18669  {'id': 2500916238, 'id_str': '2500916238', 'na...                 NaN   \n",
       "18670  {'id': 1244612098539348000, 'id_str': '1244612...                 NaN   \n",
       "18672  {'id': 569408650, 'id_str': '569408650', 'name...                 NaN   \n",
       "\n",
       "       withheld_in_countries  withheld_scope                        location  \n",
       "0                        NaN             NaN                          الرياض  \n",
       "1                        NaN             NaN                      سلطنة عمان  \n",
       "4                        NaN             NaN  الرياض, المملكة العربية السعود  \n",
       "5                        NaN             NaN                #السعودية_العظمى  \n",
       "8                        NaN             NaN     Hashemite Kingdom of Jordan  \n",
       "...                      ...             ...                             ...  \n",
       "18666                    NaN             NaN                          kuwait  \n",
       "18668                    NaN             NaN                                  \n",
       "18669                    NaN             NaN                                  \n",
       "18670                    NaN             NaN                 المدينة المنورة  \n",
       "18672                    NaN             NaN                🇸🇦 مملكة العز 🇸🇦  \n",
       "\n",
       "[12673 rows x 38 columns]"
      ]
     },
     "execution_count": 63,
     "metadata": {},
     "output_type": "execute_result"
    }
   ],
   "source": [
    "# Extract the df test by index. that might be use it for future work.\n",
    "test_df1=(full_df[~full_df.index.isin(cc['Unnamed: 0'])])\n",
    "test_df1"
   ]
  },
  {
   "cell_type": "code",
   "execution_count": 65,
   "metadata": {},
   "outputs": [
    {
     "data": {
      "text/plain": [
       "<bound method Series.unique of 0        1238638542277968000\n",
       "1        1238886551670661000\n",
       "4        1239041210137837600\n",
       "5        1239309562584465400\n",
       "8        1239411489171259400\n",
       "                ...         \n",
       "18666    1237095867917701000\n",
       "18668    1245584149412364300\n",
       "18669    1245585642718777300\n",
       "18670    1245931804990869500\n",
       "18672    1246068477477019600\n",
       "Name: id, Length: 12673, dtype: int64>"
      ]
     },
     "execution_count": 65,
     "metadata": {},
     "output_type": "execute_result"
    }
   ],
   "source": [
    "test_df1['id'].unique"
   ]
  },
  {
   "cell_type": "code",
   "execution_count": 69,
   "metadata": {},
   "outputs": [],
   "source": [
    "#save the df test in csv file.\n",
    "\n",
    "# we save the file and store it in datasets file so we comments this code in order to not save the file in your laptop and the path will change\n",
    "\n",
    "# test_df1.to_csv('final_test.csv')"
   ]
  },
  {
   "cell_type": "code",
   "execution_count": 70,
   "metadata": {},
   "outputs": [],
   "source": [
    "final_df= pd.read_csv('datasets/final_test.csv')\n"
   ]
  },
  {
   "cell_type": "code",
   "execution_count": 71,
   "metadata": {},
   "outputs": [
    {
     "data": {
      "text/plain": [
       "12673"
      ]
     },
     "execution_count": 71,
     "metadata": {},
     "output_type": "execute_result"
    }
   ],
   "source": [
    "# check the length.\n",
    "len(final_df)"
   ]
  },
  {
   "cell_type": "code",
   "execution_count": null,
   "metadata": {},
   "outputs": [],
   "source": []
  }
 ],
 "metadata": {
  "kernelspec": {
   "display_name": "Python 3",
   "language": "python",
   "name": "python3"
  },
  "language_info": {
   "codemirror_mode": {
    "name": "ipython",
    "version": 3
   },
   "file_extension": ".py",
   "mimetype": "text/x-python",
   "name": "python",
   "nbconvert_exporter": "python",
   "pygments_lexer": "ipython3",
   "version": "3.7.4"
  }
 },
 "nbformat": 4,
 "nbformat_minor": 2
}
